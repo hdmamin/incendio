{
 "cells": [
  {
   "cell_type": "code",
   "execution_count": 1,
   "metadata": {
    "ExecuteTime": {
     "end_time": "2020-07-05T03:57:09.262697Z",
     "start_time": "2020-07-05T03:57:09.225446Z"
    }
   },
   "outputs": [],
   "source": [
    "%load_ext autoreload\n",
    "%autoreload 2"
   ]
  },
  {
   "cell_type": "code",
   "execution_count": 55,
   "metadata": {
    "ExecuteTime": {
     "end_time": "2020-07-05T04:42:20.639857Z",
     "start_time": "2020-07-05T04:42:20.513676Z"
    }
   },
   "outputs": [],
   "source": [
    "import matplotlib.pyplot as plt\n",
    "import numpy as np\n",
    "import torch\n",
    "import torch.nn as nn\n",
    "import torch.nn.functional as F\n",
    "\n",
    "from htools import *\n",
    "from incendio.layers import mish"
   ]
  },
  {
   "cell_type": "code",
   "execution_count": 176,
   "metadata": {
    "ExecuteTime": {
     "end_time": "2020-07-05T21:13:47.896664Z",
     "start_time": "2020-07-05T21:13:47.826750Z"
    }
   },
   "outputs": [],
   "source": [
    "bs = 2\n",
    "n_seq = 4\n",
    "n_emb = 6"
   ]
  },
  {
   "cell_type": "code",
   "execution_count": 211,
   "metadata": {
    "ExecuteTime": {
     "end_time": "2020-07-05T21:19:41.044687Z",
     "start_time": "2020-07-05T21:19:41.002391Z"
    }
   },
   "outputs": [
    {
     "data": {
      "text/plain": [
       "torch.Size([2, 4, 6])"
      ]
     },
     "execution_count": 211,
     "metadata": {},
     "output_type": "execute_result"
    }
   ],
   "source": [
    "x = torch.randn(bs, n_seq, n_emb)\n",
    "x.shape"
   ]
  },
  {
   "cell_type": "code",
   "execution_count": 212,
   "metadata": {
    "ExecuteTime": {
     "end_time": "2020-07-05T21:19:41.222309Z",
     "start_time": "2020-07-05T21:19:41.154715Z"
    }
   },
   "outputs": [
    {
     "data": {
      "text/plain": [
       "torch.Size([2, 4, 18])"
      ]
     },
     "execution_count": 212,
     "metadata": {},
     "output_type": "execute_result"
    }
   ],
   "source": [
    "lin = nn.Linear(n_emb, n_emb*3)\n",
    "qkv = lin(x)\n",
    "qkv.shape"
   ]
  },
  {
   "cell_type": "code",
   "execution_count": 214,
   "metadata": {
    "ExecuteTime": {
     "end_time": "2020-07-05T21:19:47.105789Z",
     "start_time": "2020-07-05T21:19:47.054159Z"
    }
   },
   "outputs": [],
   "source": [
    "q, k, v = qkv.chunk(3, dim=-1)"
   ]
  },
  {
   "cell_type": "code",
   "execution_count": 217,
   "metadata": {
    "ExecuteTime": {
     "end_time": "2020-07-05T21:20:10.165268Z",
     "start_time": "2020-07-05T21:20:10.103256Z"
    }
   },
   "outputs": [
    {
     "data": {
      "text/plain": [
       "torch.Size([2, 4, 6])"
      ]
     },
     "execution_count": 217,
     "metadata": {},
     "output_type": "execute_result"
    }
   ],
   "source": [
    "q.shape"
   ]
  },
  {
   "cell_type": "code",
   "execution_count": 218,
   "metadata": {
    "ExecuteTime": {
     "end_time": "2020-07-05T21:20:11.559814Z",
     "start_time": "2020-07-05T21:20:11.493347Z"
    },
    "scrolled": true
   },
   "outputs": [
    {
     "data": {
      "text/plain": [
       "torch.Size([2, 4, 4])"
      ]
     },
     "execution_count": 218,
     "metadata": {},
     "output_type": "execute_result"
    }
   ],
   "source": [
    "qk = q @ k.transpose(-2, -1)\n",
    "qk.shape"
   ]
  },
  {
   "cell_type": "code",
   "execution_count": 219,
   "metadata": {
    "ExecuteTime": {
     "end_time": "2020-07-05T21:20:11.979649Z",
     "start_time": "2020-07-05T21:20:11.937593Z"
    }
   },
   "outputs": [
    {
     "data": {
      "text/plain": [
       "torch.Size([2, 4, 4])"
      ]
     },
     "execution_count": 219,
     "metadata": {},
     "output_type": "execute_result"
    }
   ],
   "source": [
    "w = F.softmax(qk/np.sqrt(k.shape[-1]), dim=-1)\n",
    "w.shape"
   ]
  },
  {
   "cell_type": "code",
   "execution_count": 220,
   "metadata": {
    "ExecuteTime": {
     "end_time": "2020-07-05T21:20:12.798525Z",
     "start_time": "2020-07-05T21:20:12.746814Z"
    }
   },
   "outputs": [
    {
     "data": {
      "text/plain": [
       "(torch.Size([2, 4, 4]), torch.Size([2, 4, 6]))"
      ]
     },
     "execution_count": 220,
     "metadata": {},
     "output_type": "execute_result"
    }
   ],
   "source": [
    "w.shape, v.shape"
   ]
  },
  {
   "cell_type": "code",
   "execution_count": 221,
   "metadata": {
    "ExecuteTime": {
     "end_time": "2020-07-05T21:20:13.429563Z",
     "start_time": "2020-07-05T21:20:13.390362Z"
    }
   },
   "outputs": [
    {
     "data": {
      "text/plain": [
       "tensor([[[0.3222, 0.2185, 0.2588, 0.2005],\n",
       "         [0.4319, 0.1282, 0.1905, 0.2495],\n",
       "         [0.3373, 0.1951, 0.2251, 0.2425],\n",
       "         [0.3924, 0.1480, 0.2008, 0.2588]],\n",
       "\n",
       "        [[0.2347, 0.2317, 0.2986, 0.2350],\n",
       "         [0.2348, 0.2368, 0.3028, 0.2256],\n",
       "         [0.2268, 0.3190, 0.2268, 0.2274],\n",
       "         [0.2319, 0.2344, 0.3131, 0.2206]]], grad_fn=<SoftmaxBackward>)"
      ]
     },
     "execution_count": 221,
     "metadata": {},
     "output_type": "execute_result"
    }
   ],
   "source": [
    "w"
   ]
  },
  {
   "cell_type": "code",
   "execution_count": 222,
   "metadata": {
    "ExecuteTime": {
     "end_time": "2020-07-05T21:20:13.980433Z",
     "start_time": "2020-07-05T21:20:13.942048Z"
    }
   },
   "outputs": [
    {
     "data": {
      "text/plain": [
       "tensor([[[-0.1854, -0.3212,  0.7594,  0.3210, -0.1596,  0.8336],\n",
       "         [ 0.1120, -0.0854, -0.7435,  0.2728,  0.0849, -0.6934],\n",
       "         [-1.2247,  0.5296, -0.5358, -0.6297,  0.9698, -0.6206],\n",
       "         [-0.9533, -0.5769, -0.1699, -0.1935,  0.5883,  0.3895]],\n",
       "\n",
       "        [[-1.4310,  0.2038, -0.4679, -0.6899,  1.0920, -0.3128],\n",
       "         [-1.1908,  0.5564, -0.2625, -0.5566,  0.8116, -0.3657],\n",
       "         [-0.3030,  0.0169, -0.1577,  0.3909,  0.1791, -0.3857],\n",
       "         [-1.0234, -0.2025, -0.4626, -0.6421,  1.0326, -0.1737]]],\n",
       "       grad_fn=<SplitBackward>)"
      ]
     },
     "execution_count": 222,
     "metadata": {},
     "output_type": "execute_result"
    }
   ],
   "source": [
    "v"
   ]
  },
  {
   "cell_type": "code",
   "execution_count": 223,
   "metadata": {
    "ExecuteTime": {
     "end_time": "2020-07-05T21:20:14.383057Z",
     "start_time": "2020-07-05T21:20:14.319192Z"
    }
   },
   "outputs": [
    {
     "data": {
      "text/plain": [
       "torch.Size([2, 4, 6])"
      ]
     },
     "execution_count": 223,
     "metadata": {},
     "output_type": "execute_result"
    }
   ],
   "source": [
    "res = w @ v\n",
    "res.shape"
   ]
  },
  {
   "cell_type": "code",
   "execution_count": 235,
   "metadata": {
    "ExecuteTime": {
     "end_time": "2020-07-05T21:24:09.551516Z",
     "start_time": "2020-07-05T21:24:09.448754Z"
    }
   },
   "outputs": [],
   "source": [
    "class Projector(nn.Module):\n",
    "    \n",
    "    def __init__(self, n_in, n_out_single, spaces=3):\n",
    "        super().__init__()\n",
    "        self.spaces = spaces\n",
    "        self.n_out_single = n_out_single\n",
    "        self.fc = nn.Linear(n_in, n_out_single*spaces)\n",
    "        \n",
    "    def forward(self, x):\n",
    "        return self.fc(x).chunk(self.spaces, dim=-1)"
   ]
  },
  {
   "cell_type": "code",
   "execution_count": 421,
   "metadata": {
    "ExecuteTime": {
     "end_time": "2020-07-05T22:35:39.500132Z",
     "start_time": "2020-07-05T22:35:39.392437Z"
    }
   },
   "outputs": [],
   "source": [
    "class DotProductAttention(nn.Module):\n",
    "    \n",
    "    def __init__(self, n_in, n_f_single, n_out, n_heads, scale=True, \n",
    "                 drop_p1=0.1, drop_p2=0.1, return_attn=False):\n",
    "        super().__init__()\n",
    "        assert n_f_single % n_heads == 0, \\\n",
    "            'n_f_single must be divisible by n_heads'\n",
    "        self.proj_in = Projector(n_in, n_f_single, spaces=3)\n",
    "        self.drop_in = nn.Dropout(drop_p1)\n",
    "        self.proj_out = nn.Linear(n_f_single, n_out)\n",
    "        self.drop_out = nn.Dropout(drop_p2)\n",
    "        \n",
    "        # Non-layer attributes.\n",
    "        self.n_heads = n_heads\n",
    "        self.scale = scale\n",
    "        self.drop_p1 = drop_p1\n",
    "        self.drop_p2 = drop_p2\n",
    "        self.return_attn = return_attn\n",
    "        \n",
    "    def forward(self, x):\n",
    "        q, k, v = map(self.split_heads, self.proj_in(x))\n",
    "        scores = q @ k.transpose(-2, -1)\n",
    "        if self.scale: scores /= np.sqrt(scores.shape[-1])\n",
    "        weights = F.softmax(scores, dim=-1)\n",
    "        # Note: Huggingface returns weights post dropout which seems a little\n",
    "        # odd. Maybe For now I'm just experimenting so I'm skipping that part.\n",
    "        x = self.drop_in(weights) @ v\n",
    "        x = self.merge_heads(x)\n",
    "        x = self.drop_out(self.proj_out(x))\n",
    "        return (x, weights) if self.return_attn else x\n",
    "    \n",
    "    def split_heads(self, inp):\n",
    "        # Reshape input so hidden_dim is split equally between n heads.\n",
    "        bs, seq, hid = inp.shape\n",
    "        return inp.reshape(bs, self.n_heads, seq, hid // self.n_heads)\n",
    "    \n",
    "    def merge_heads(self, inp):\n",
    "        bs, heads, seq, hid = inp.shape\n",
    "        return inp.permute(0, 2, 1, 3).reshape(bs, seq, -1)\n",
    "    \n",
    "# class MultiHeadAttention(DotProductAttention):\n",
    "    \n",
    "#     def __init__(self, n_in, n_f_single, n_heads, scale=True, drop_p=0.1,\n",
    "#                  return_attn=False):\n",
    "#         super().__init__(n_in, n_f_single, scale, drop_p, return_attn)\n",
    "#         self.n_heads = n_heads\n",
    "        \n",
    "#     def forward(self, x):\n",
    "#             q, k, v = map(self.split_heads, x)\n",
    "#             return super().forward((q, k, v))"
   ]
  },
  {
   "cell_type": "code",
   "execution_count": 417,
   "metadata": {
    "ExecuteTime": {
     "end_time": "2020-07-05T22:34:14.593587Z",
     "start_time": "2020-07-05T22:34:14.535098Z"
    }
   },
   "outputs": [
    {
     "data": {
      "text/plain": [
       "[torch.Size([2, 4, 6]), torch.Size([2, 4, 6]), torch.Size([2, 4, 6])]"
      ]
     },
     "execution_count": 417,
     "metadata": {},
     "output_type": "execute_result"
    }
   ],
   "source": [
    "proj = Projector(n_emb, n_emb)\n",
    "qkv = proj(x)\n",
    "attrmap('shape', *qkv)"
   ]
  },
  {
   "cell_type": "code",
   "execution_count": 418,
   "metadata": {
    "ExecuteTime": {
     "end_time": "2020-07-05T22:34:14.739785Z",
     "start_time": "2020-07-05T22:34:14.675793Z"
    }
   },
   "outputs": [
    {
     "name": "stdout",
     "output_type": "stream",
     "text": [
      "torch.Size([2, 4, 6])\n",
      "torch.Size([2, 4, 12])\n"
     ]
    },
    {
     "data": {
      "text/plain": [
       "tensor([[[-0.0219,  0.1480, -0.0779, -0.3398,  0.2438,  0.0000,  0.3983,\n",
       "          -0.3061,  0.0000,  0.0000,  0.2716, -0.2372],\n",
       "         [-0.0094,  0.1142,  0.0164, -0.3359, -0.0000,  0.1062,  0.4832,\n",
       "          -0.4665,  0.7347,  0.0000,  0.0475,  0.0112],\n",
       "         [ 0.0257,  0.0845, -0.0568, -0.3908,  0.2509,  0.1602,  0.3955,\n",
       "          -0.0000,  0.5900,  0.0692,  0.3223, -0.2070],\n",
       "         [-0.0941,  0.1840, -0.0285, -0.3601, -0.0759,  0.0678,  0.4196,\n",
       "          -0.4413,  0.0000,  0.0787, -0.0043,  0.0018]],\n",
       "\n",
       "        [[ 0.0991, -0.1446,  0.0258, -0.5993,  0.0666,  0.2172,  0.3595,\n",
       "          -0.4314,  1.0157,  0.1354,  0.3244,  0.0982],\n",
       "         [ 0.0345, -0.0287,  0.0219, -0.0000, -0.0130,  0.1340,  0.3629,\n",
       "          -0.4824,  0.9026,  0.1333,  0.2206,  0.0440],\n",
       "         [ 0.1349, -0.1238, -0.0000, -0.4414,  0.2259,  0.3804,  0.5059,\n",
       "          -0.1504,  0.8223,  0.1075,  0.0000,  0.0233],\n",
       "         [ 0.0000, -0.0000, -0.0891, -0.4575,  0.2274,  0.3732,  0.4891,\n",
       "          -0.0000,  0.8412,  0.1110,  0.2899,  0.0264]]],\n",
       "       grad_fn=<MulBackward0>)"
      ]
     },
     "execution_count": 418,
     "metadata": {},
     "output_type": "execute_result"
    }
   ],
   "source": [
    "print(x.shape)\n",
    "attn = DotProductAttention(n_emb, n_emb, n_emb*2, 1)\n",
    "res = attn(x)\n",
    "print(res.shape)\n",
    "res"
   ]
  },
  {
   "cell_type": "code",
   "execution_count": 419,
   "metadata": {
    "ExecuteTime": {
     "end_time": "2020-07-05T22:34:33.991243Z",
     "start_time": "2020-07-05T22:34:33.935351Z"
    }
   },
   "outputs": [
    {
     "data": {
      "text/plain": [
       "torch.Size([2, 4, 6])"
      ]
     },
     "execution_count": 419,
     "metadata": {},
     "output_type": "execute_result"
    }
   ],
   "source": [
    "attn = DotProductAttention(n_emb, n_emb*2, n_emb, n_heads=3)\n",
    "res = attn(x)\n",
    "res.shape"
   ]
  },
  {
   "cell_type": "code",
   "execution_count": 145,
   "metadata": {
    "ExecuteTime": {
     "end_time": "2020-07-05T05:20:29.219478Z",
     "start_time": "2020-07-05T05:20:29.127162Z"
    }
   },
   "outputs": [],
   "source": [
    "class FanForward(nn.Module):\n",
    "    \"\"\"Fan out and back in. Not really sure why though since we end up with \n",
    "    the same shape.\"\"\"\n",
    "    \n",
    "    def __init__(self, n_in, hidden_scalar, drop_p=0.1, act=mish):\n",
    "        super().__init__()\n",
    "        n_hid = n_in * hidden_scalar\n",
    "        self.fc1 = nn.Linear(n_in, n_hid)\n",
    "        self.fc2 = nn.Linear(n_hid, n_in)\n",
    "        self.act = act\n",
    "        self.drop = nn.Dropout(drop_p)\n",
    "        \n",
    "    def forward(self, x):\n",
    "        x = self.act(self.fc1(x))\n",
    "        return self.drop(self.act(self.fc2(x)))"
   ]
  },
  {
   "cell_type": "code",
   "execution_count": 423,
   "metadata": {
    "ExecuteTime": {
     "end_time": "2020-07-05T22:36:37.706668Z",
     "start_time": "2020-07-05T22:36:37.665810Z"
    }
   },
   "outputs": [],
   "source": [
    "class TransformerDecoder(nn.Module):\n",
    "    \n",
    "    def __init__(self):\n",
    "        super().__init__()\n",
    "#         DotProductAttention()\n",
    "#         FanForward()\n",
    "        \n",
    "    def forward(self, x):\n",
    "        return x"
   ]
  },
  {
   "cell_type": "code",
   "execution_count": 84,
   "metadata": {
    "ExecuteTime": {
     "end_time": "2020-07-05T04:57:56.111360Z",
     "start_time": "2020-07-05T04:57:56.050867Z"
    }
   },
   "outputs": [
    {
     "data": {
      "text/plain": [
       "FanForward(\n",
       "  (fc1): Linear(in_features=5, out_features=30, bias=True)\n",
       "  (fc2): Linear(in_features=30, out_features=5, bias=True)\n",
       "  (drop): Dropout(p=0.1, inplace=False)\n",
       ")"
      ]
     },
     "execution_count": 84,
     "metadata": {},
     "output_type": "execute_result"
    }
   ],
   "source": [
    "FanForward(5, 6)"
   ]
  },
  {
   "cell_type": "code",
   "execution_count": 81,
   "metadata": {
    "ExecuteTime": {
     "end_time": "2020-07-05T04:57:14.661142Z",
     "start_time": "2020-07-05T04:57:14.600343Z"
    }
   },
   "outputs": [
    {
     "name": "stdout",
     "output_type": "stream",
     "text": [
      "torch.Size([2, 4, 12])\n"
     ]
    },
    {
     "data": {
      "text/plain": [
       "torch.Size([2, 4, 3])"
      ]
     },
     "execution_count": 81,
     "metadata": {},
     "output_type": "execute_result"
    }
   ],
   "source": [
    "ff = FanForward(n_emb, 4)\n",
    "ff(x).shape"
   ]
  },
  {
   "cell_type": "code",
   "execution_count": 156,
   "metadata": {
    "ExecuteTime": {
     "end_time": "2020-07-05T21:04:09.920843Z",
     "start_time": "2020-07-05T21:04:09.868279Z"
    }
   },
   "outputs": [],
   "source": [
    "from transformers.modeling_gpt2 import Attention"
   ]
  },
  {
   "cell_type": "code",
   "execution_count": 166,
   "metadata": {
    "ExecuteTime": {
     "end_time": "2020-07-05T21:06:51.382375Z",
     "start_time": "2020-07-05T21:06:51.336974Z"
    }
   },
   "outputs": [
    {
     "data": {
      "text/plain": [
       "2"
      ]
     },
     "execution_count": 166,
     "metadata": {},
     "output_type": "execute_result"
    }
   ],
   "source": [
    "config = Args(n_head=1, attn_pdrop=.1, resid_pdrop=.1, n_ctx=n_emb*2, \n",
    "              n_layer=1, n_embd=n_emb, layer_norm_epsilon=1e-3,\n",
    "              output_attentions=False)\n",
    "attn_gpt = Attention(n_emb, n_emb*2, config)\n",
    "res_gpt = attn_gpt(x)\n",
    "len(res_gpt)"
   ]
  },
  {
   "cell_type": "code",
   "execution_count": 169,
   "metadata": {
    "ExecuteTime": {
     "end_time": "2020-07-05T21:07:20.548943Z",
     "start_time": "2020-07-05T21:07:20.507601Z"
    }
   },
   "outputs": [
    {
     "data": {
      "text/plain": [
       "torch.Size([2, 4, 3])"
      ]
     },
     "execution_count": 169,
     "metadata": {},
     "output_type": "execute_result"
    }
   ],
   "source": [
    "res_gpt[-2].shape"
   ]
  },
  {
   "cell_type": "code",
   "execution_count": 171,
   "metadata": {
    "ExecuteTime": {
     "end_time": "2020-07-05T21:10:28.107648Z",
     "start_time": "2020-07-05T21:10:28.040112Z"
    }
   },
   "outputs": [
    {
     "data": {
      "text/plain": [
       "torch.Size([2, 4, 9])"
      ]
     },
     "execution_count": 171,
     "metadata": {},
     "output_type": "execute_result"
    }
   ],
   "source": [
    "attn_gpt.c_attn(x).shape"
   ]
  },
  {
   "cell_type": "code",
   "execution_count": 61,
   "metadata": {
    "ExecuteTime": {
     "end_time": "2020-07-05T04:45:14.610064Z",
     "start_time": "2020-07-05T04:45:14.554130Z"
    }
   },
   "outputs": [],
   "source": [
    "# FROM BLOG POST\n",
    "class Conv1D(nn.Module):\n",
    "    def __init__(self, nx, nf):\n",
    "        super().__init__()\n",
    "        self.nf = nf\n",
    "        w = torch.empty(nx, nf)\n",
    "        nn.init.normal_(w, std=0.02)\n",
    "        self.weight = nn.Parameter(w)\n",
    "        self.bias = nn.Parameter(torch.zeros(nf))\n",
    "\n",
    "    def forward(self, x):\n",
    "        size_out = x.size()[:-1] + (self.nf,)\n",
    "        x = torch.addmm(self.bias, x.view(-1, x.size(-1)), self.weight)\n",
    "        x = x.view(*size_out)\n",
    "        return x\n",
    "    \n",
    "class FeedForward(nn.Module):\n",
    "    def __init__(self, dropout, d_model=768, nx=768*4):\n",
    "        super().__init__()\n",
    "        self.c_fc    = Conv1D(d_model, nx)\n",
    "        self.c_proj  = Conv1D(nx, d_model)\n",
    "        self.act     = F.gelu\n",
    "        self.dropout = nn.Dropout(dropout)\n",
    "        \n",
    "    def forward(self, x):\n",
    "        x = self.act(self.c_fc(x))\n",
    "        print(x.shape)\n",
    "        return self.dropout(self.c_proj(x))"
   ]
  },
  {
   "cell_type": "code",
   "execution_count": 62,
   "metadata": {
    "ExecuteTime": {
     "end_time": "2020-07-05T04:45:15.335366Z",
     "start_time": "2020-07-05T04:45:15.268366Z"
    }
   },
   "outputs": [
    {
     "name": "stdout",
     "output_type": "stream",
     "text": [
      "torch.Size([2, 4, 12])\n"
     ]
    },
    {
     "data": {
      "text/plain": [
       "torch.Size([2, 4, 3])"
      ]
     },
     "execution_count": 62,
     "metadata": {},
     "output_type": "execute_result"
    }
   ],
   "source": [
    "FeedForward(0, n_emb, n_emb*4)(x).shape"
   ]
  },
  {
   "cell_type": "code",
   "execution_count": 54,
   "metadata": {
    "ExecuteTime": {
     "end_time": "2020-07-05T04:37:07.515736Z",
     "start_time": "2020-07-05T04:37:07.447864Z"
    },
    "scrolled": true
   },
   "outputs": [
    {
     "data": {
      "text/plain": [
       "(torch.Size([2, 4, 4]), torch.Size([2, 4, 3]))"
      ]
     },
     "execution_count": 54,
     "metadata": {},
     "output_type": "execute_result"
    }
   ],
   "source": [
    "w.shape, v.shape"
   ]
  },
  {
   "cell_type": "code",
   "execution_count": 27,
   "metadata": {
    "ExecuteTime": {
     "end_time": "2020-07-05T04:17:32.277305Z",
     "start_time": "2020-07-05T04:17:32.240425Z"
    }
   },
   "outputs": [
    {
     "data": {
      "text/plain": [
       "torch.Size([2, 4, 3, 3])"
      ]
     },
     "execution_count": 27,
     "metadata": {},
     "output_type": "execute_result"
    }
   ],
   "source": [
    "z = torch.randn(bs, n_seq, n_emb, n_emb)\n",
    "z.shape"
   ]
  },
  {
   "cell_type": "code",
   "execution_count": 30,
   "metadata": {
    "ExecuteTime": {
     "end_time": "2020-07-05T04:18:00.547709Z",
     "start_time": "2020-07-05T04:18:00.487208Z"
    }
   },
   "outputs": [
    {
     "data": {
      "text/plain": [
       "torch.Size([2, 4, 3, 5])"
      ]
     },
     "execution_count": 30,
     "metadata": {},
     "output_type": "execute_result"
    }
   ],
   "source": [
    "lin2 = nn.Linear(3, 5)\n",
    "lin2(z).shape"
   ]
  },
  {
   "cell_type": "code",
   "execution_count": 33,
   "metadata": {
    "ExecuteTime": {
     "end_time": "2020-07-05T04:18:08.820952Z",
     "start_time": "2020-07-05T04:18:08.775091Z"
    }
   },
   "outputs": [
    {
     "data": {
      "text/plain": [
       "Parameter containing:\n",
       "tensor([[-0.5565, -0.2874, -0.5044],\n",
       "        [ 0.3084,  0.2368, -0.2929],\n",
       "        [-0.1206,  0.0814, -0.2280],\n",
       "        [ 0.1191,  0.0834, -0.2181],\n",
       "        [-0.0737,  0.3648,  0.3930]], requires_grad=True)"
      ]
     },
     "execution_count": 33,
     "metadata": {},
     "output_type": "execute_result"
    }
   ],
   "source": [
    "lin2.weight"
   ]
  },
  {
   "cell_type": "code",
   "execution_count": 34,
   "metadata": {
    "ExecuteTime": {
     "end_time": "2020-07-05T04:20:00.134476Z",
     "start_time": "2020-07-05T04:20:00.095313Z"
    }
   },
   "outputs": [
    {
     "data": {
      "text/plain": [
       "4"
      ]
     },
     "execution_count": 34,
     "metadata": {},
     "output_type": "execute_result"
    }
   ],
   "source": [
    "z.dim()"
   ]
  },
  {
   "cell_type": "code",
   "execution_count": null,
   "metadata": {},
   "outputs": [],
   "source": []
  }
 ],
 "metadata": {
  "kernelspec": {
   "display_name": "Python 3",
   "language": "python",
   "name": "python3"
  },
  "language_info": {
   "codemirror_mode": {
    "name": "ipython",
    "version": 3
   },
   "file_extension": ".py",
   "mimetype": "text/x-python",
   "name": "python",
   "nbconvert_exporter": "python",
   "pygments_lexer": "ipython3",
   "version": "3.7.3"
  },
  "toc": {
   "base_numbering": 1,
   "nav_menu": {},
   "number_sections": true,
   "sideBar": true,
   "skip_h1_title": false,
   "title_cell": "Table of Contents",
   "title_sidebar": "Contents",
   "toc_cell": false,
   "toc_position": {},
   "toc_section_display": true,
   "toc_window_display": false
  }
 },
 "nbformat": 4,
 "nbformat_minor": 2
}
