{
 "cells": [
  {
   "cell_type": "markdown",
   "metadata": {},
   "source": [
    "# Summary\n",
    "\n",
    "`# TODO: summary here`"
   ]
  },
  {
   "cell_type": "code",
   "execution_count": 1,
   "metadata": {
    "ExecuteTime": {
     "end_time": "2020-11-26T21:33:29.718937Z",
     "start_time": "2020-11-26T21:33:29.695456Z"
    }
   },
   "outputs": [],
   "source": [
    "%load_ext autoreload\n",
    "%autoreload 3"
   ]
  },
  {
   "cell_type": "code",
   "execution_count": 4,
   "metadata": {
    "ExecuteTime": {
     "end_time": "2020-11-26T21:33:47.615733Z",
     "start_time": "2020-11-26T21:33:47.610477Z"
    }
   },
   "outputs": [],
   "source": [
    "import gc\n",
    "import inspect\n",
    "import matplotlib.pyplot as plt\n",
    "import numpy as np\n",
    "import os\n",
    "from pathlib import Path\n",
    "\n",
    "from htools import *"
   ]
  },
  {
   "cell_type": "code",
   "execution_count": 3,
   "metadata": {
    "ExecuteTime": {
     "end_time": "2020-11-26T21:33:36.898437Z",
     "start_time": "2020-11-26T21:33:36.885891Z"
    }
   },
   "outputs": [
    {
     "name": "stdout",
     "output_type": "stream",
     "text": [
      "Current directory: /Users/hmamin/incendio\n"
     ]
    },
    {
     "name": "stderr",
     "output_type": "stream",
     "text": [
      "/Users/hmamin/anaconda3/lib/python3.7/site-packages/ipykernel/ipkernel.py:287: DeprecationWarning: `should_run_async` will not call `transform_cell` automatically in the future. Please pass the result to `transformed_cell` argument and any exception that happen during thetransform in `preprocessing_exc_tuple` in IPython 7.17 and above.\n",
      "  and should_run_async(code)\n"
     ]
    }
   ],
   "source": [
    "cd_root()"
   ]
  },
  {
   "cell_type": "code",
   "execution_count": 8,
   "metadata": {
    "ExecuteTime": {
     "end_time": "2020-11-26T21:36:23.707217Z",
     "start_time": "2020-11-26T21:36:23.700078Z"
    }
   },
   "outputs": [
    {
     "name": "stdout",
     "output_type": "stream",
     "text": [
      "\n",
      "# OPTION 1\n",
      "@auto_cli()\n",
      "def main():\n",
      "    x = f1(a, b, c)\n",
      "    x = f2(x=x, y=y, **f2_kwargs)\n",
      "    print(x)\n",
      "\n",
      "if __name__ == '__main__':\n",
      "    fire.Fire(main)\n",
      "    \n",
      "    \n",
      "# OPTION 2\n",
      "@auto_cli(f1, f2)\n",
      "def main():\n",
      "    x = f1(a, b, c)\n",
      "    x = f2(x=x, y=y, **f2_kwargs)\n",
      "    print(x)\n",
      "\n",
      "if __name__ == '__main__':\n",
      "    fire.Fire(main)\n",
      "\n"
     ]
    }
   ],
   "source": [
    "print(\n",
    "\"\"\"\n",
    "# OPTION 1\n",
    "@auto_cli()\n",
    "def main():\n",
    "    x = f1(a, b, c)\n",
    "    x = f2(x=x, y=y, **f2_kwargs)\n",
    "    print(x)\n",
    "\n",
    "if __name__ == '__main__':\n",
    "    fire.Fire(main)\n",
    "    \n",
    "    \n",
    "# OPTION 2\n",
    "@auto_cli(f1, f2)\n",
    "def main():\n",
    "    x = f1(a, b, c)\n",
    "    x = f2(x=x, y=y, **f2_kwargs)\n",
    "    print(x)\n",
    "\n",
    "if __name__ == '__main__':\n",
    "    fire.Fire(main)\n",
    "\"\"\"\n",
    ")"
   ]
  },
  {
   "cell_type": "code",
   "execution_count": null,
   "metadata": {},
   "outputs": [],
   "source": []
  }
 ],
 "metadata": {
  "kernelspec": {
   "display_name": "Python 3",
   "language": "python",
   "name": "python3"
  },
  "language_info": {
   "codemirror_mode": {
    "name": "ipython",
    "version": 3
   },
   "file_extension": ".py",
   "mimetype": "text/x-python",
   "name": "python",
   "nbconvert_exporter": "python",
   "pygments_lexer": "ipython3",
   "version": "3.7.3"
  }
 },
 "nbformat": 4,
 "nbformat_minor": 4
}
