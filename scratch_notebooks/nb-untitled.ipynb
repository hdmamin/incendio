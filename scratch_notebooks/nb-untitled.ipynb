{
 "cells": [
  {
   "cell_type": "markdown",
   "metadata": {},
   "source": [
    "# Summary\n",
    "\n",
    "`# TODO: summary here`"
   ]
  },
  {
   "cell_type": "code",
   "execution_count": 1,
   "metadata": {
    "ExecuteTime": {
     "end_time": "2020-11-26T21:33:29.718937Z",
     "start_time": "2020-11-26T21:33:29.695456Z"
    }
   },
   "outputs": [],
   "source": [
    "%load_ext autoreload\n",
    "%autoreload 3"
   ]
  },
  {
   "cell_type": "code",
   "execution_count": 4,
   "metadata": {
    "ExecuteTime": {
     "end_time": "2020-11-26T21:33:47.615733Z",
     "start_time": "2020-11-26T21:33:47.610477Z"
    }
   },
   "outputs": [],
   "source": [
    "import gc\n",
    "import inspect\n",
    "import matplotlib.pyplot as plt\n",
    "import numpy as np\n",
    "import os\n",
    "from pathlib import Path\n",
    "\n",
    "from htools import *"
   ]
  },
  {
   "cell_type": "code",
   "execution_count": 3,
   "metadata": {
    "ExecuteTime": {
     "end_time": "2020-11-26T21:33:36.898437Z",
     "start_time": "2020-11-26T21:33:36.885891Z"
    }
   },
   "outputs": [
    {
     "name": "stdout",
     "output_type": "stream",
     "text": [
      "Current directory: /Users/hmamin/incendio\n"
     ]
    },
    {
     "name": "stderr",
     "output_type": "stream",
     "text": [
      "/Users/hmamin/anaconda3/lib/python3.7/site-packages/ipykernel/ipkernel.py:287: DeprecationWarning: `should_run_async` will not call `transform_cell` automatically in the future. Please pass the result to `transformed_cell` argument and any exception that happen during thetransform in `preprocessing_exc_tuple` in IPython 7.17 and above.\n",
      "  and should_run_async(code)\n"
     ]
    }
   ],
   "source": [
    "cd_root()"
   ]
  },
  {
   "cell_type": "code",
   "execution_count": 8,
   "metadata": {
    "ExecuteTime": {
     "end_time": "2020-11-26T21:36:23.707217Z",
     "start_time": "2020-11-26T21:36:23.700078Z"
    }
   },
   "outputs": [
    {
     "name": "stdout",
     "output_type": "stream",
     "text": [
      "\n",
      "# OPTION 1\n",
      "@auto_cli()\n",
      "def main():\n",
      "    x = f1(a, b, c)\n",
      "    x = f2(x=x, y=y, **f2_kwargs)\n",
      "    print(x)\n",
      "\n",
      "if __name__ == '__main__':\n",
      "    fire.Fire(main)\n",
      "    \n",
      "    \n",
      "# OPTION 2\n",
      "@auto_cli(f1, f2)\n",
      "def main():\n",
      "    x = f1(a, b, c)\n",
      "    x = f2(x=x, y=y, **f2_kwargs)\n",
      "    print(x)\n",
      "\n",
      "if __name__ == '__main__':\n",
      "    fire.Fire(main)\n",
      "\n"
     ]
    }
   ],
   "source": [
    "print(\n",
    "\"\"\"\n",
    "# OPTION 1\n",
    "@auto_cli()\n",
    "def main():\n",
    "    x = f1(a, b, c)\n",
    "    x = f2(x=x, y=y, **f2_kwargs)\n",
    "    print(x)\n",
    "\n",
    "if __name__ == '__main__':\n",
    "    fire.Fire(main)\n",
    "    \n",
    "    \n",
    "# OPTION 2\n",
    "@auto_cli(f1, f2)\n",
    "def main():\n",
    "    x = f1(a, b, c)\n",
    "    x = f2(x=x, y=y, **f2_kwargs)\n",
    "    print(x)\n",
    "\n",
    "if __name__ == '__main__':\n",
    "    fire.Fire(main)\n",
    "\"\"\"\n",
    ")"
   ]
  },
  {
   "cell_type": "markdown",
   "metadata": {},
   "source": [
    "## isstatic"
   ]
  },
  {
   "cell_type": "code",
   "execution_count": 80,
   "metadata": {
    "ExecuteTime": {
     "end_time": "2020-12-03T06:31:21.944050Z",
     "start_time": "2020-12-03T06:31:21.940026Z"
    }
   },
   "outputs": [
    {
     "name": "stderr",
     "output_type": "stream",
     "text": [
      "/Users/hmamin/anaconda3/lib/python3.7/site-packages/ipykernel/ipkernel.py:287: DeprecationWarning: `should_run_async` will not call `transform_cell` automatically in the future. Please pass the result to `transformed_cell` argument and any exception that happen during thetransform in `preprocessing_exc_tuple` in IPython 7.17 and above.\n",
      "  and should_run_async(code)\n"
     ]
    }
   ],
   "source": [
    "from inspect import ismethod, signature\n",
    "from types import FunctionType, MethodType"
   ]
  },
  {
   "cell_type": "code",
   "execution_count": 81,
   "metadata": {
    "ExecuteTime": {
     "end_time": "2020-12-03T06:31:22.690092Z",
     "start_time": "2020-12-03T06:31:22.686599Z"
    }
   },
   "outputs": [],
   "source": [
    "def bar():\n",
    "    return 'in bar'"
   ]
  },
  {
   "cell_type": "code",
   "execution_count": 114,
   "metadata": {
    "ExecuteTime": {
     "end_time": "2020-12-03T06:46:59.094121Z",
     "start_time": "2020-12-03T06:46:59.088827Z"
    }
   },
   "outputs": [],
   "source": [
    "def baz(cls):\n",
    "    return 'in baz'"
   ]
  },
  {
   "cell_type": "code",
   "execution_count": 135,
   "metadata": {
    "ExecuteTime": {
     "end_time": "2020-12-03T06:52:30.770124Z",
     "start_time": "2020-12-03T06:52:30.766663Z"
    }
   },
   "outputs": [],
   "source": [
    "def bak(unk):\n",
    "    return 'in bak'"
   ]
  },
  {
   "cell_type": "code",
   "execution_count": 137,
   "metadata": {
    "ExecuteTime": {
     "end_time": "2020-12-03T06:52:47.181623Z",
     "start_time": "2020-12-03T06:52:47.173503Z"
    }
   },
   "outputs": [],
   "source": [
    "class Foo:\n",
    "    \n",
    "    class_var = 'my_class_var'\n",
    "    \n",
    "    def __init__(self, inst_var='my_inst_var'):\n",
    "        self.inst_var = inst_var\n",
    "        self.inst_var_func = bar\n",
    "        self.inst_var_func_baz = baz\n",
    "        self.inst_var_func_bak = bak\n",
    "        \n",
    "    def my_method(self, x):\n",
    "        return 'in regular method'\n",
    "    \n",
    "    @staticmethod\n",
    "    def my_static(y):\n",
    "        return 'in staticmethod', y\n",
    "    \n",
    "    @classmethod\n",
    "    def my_classmethod(cls, *args):\n",
    "        return cls('-'.join(args))\n",
    "    \n",
    "    @abstractmethod\n",
    "    def my_abstract(self):\n",
    "        raise NotImplementedError()\n",
    "        \n",
    "    @property\n",
    "    def my_prop(self):\n",
    "        return 'my_prop_val'"
   ]
  },
  {
   "cell_type": "code",
   "execution_count": 138,
   "metadata": {
    "ExecuteTime": {
     "end_time": "2020-12-03T06:52:48.539664Z",
     "start_time": "2020-12-03T06:52:48.535747Z"
    }
   },
   "outputs": [],
   "source": [
    "f = Foo()"
   ]
  },
  {
   "cell_type": "code",
   "execution_count": 139,
   "metadata": {
    "ExecuteTime": {
     "end_time": "2020-12-03T06:52:48.712982Z",
     "start_time": "2020-12-03T06:52:48.706176Z"
    }
   },
   "outputs": [
    {
     "data": {
      "text/plain": [
       "<function __main__.bar()>"
      ]
     },
     "execution_count": 139,
     "metadata": {},
     "output_type": "execute_result"
    }
   ],
   "source": [
    "f.inst_var_func"
   ]
  },
  {
   "cell_type": "code",
   "execution_count": 140,
   "metadata": {
    "ExecuteTime": {
     "end_time": "2020-12-03T06:52:48.898049Z",
     "start_time": "2020-12-03T06:52:48.890924Z"
    }
   },
   "outputs": [
    {
     "data": {
      "text/plain": [
       "<function __main__.Foo.my_static(y)>"
      ]
     },
     "execution_count": 140,
     "metadata": {},
     "output_type": "execute_result"
    }
   ],
   "source": [
    "f.my_static"
   ]
  },
  {
   "cell_type": "code",
   "execution_count": 141,
   "metadata": {
    "ExecuteTime": {
     "end_time": "2020-12-03T06:52:49.120827Z",
     "start_time": "2020-12-03T06:52:49.114652Z"
    }
   },
   "outputs": [
    {
     "data": {
      "text/plain": [
       "{'class_var': 'attribute',\n",
       " 'my_abstract': 'method',\n",
       " 'my_classmethod': 'method',\n",
       " 'my_method': 'method',\n",
       " 'my_prop': 'attribute',\n",
       " 'my_static': 'method'}"
      ]
     },
     "execution_count": 141,
     "metadata": {},
     "output_type": "execute_result"
    }
   ],
   "source": [
    "hdir(Foo)"
   ]
  },
  {
   "cell_type": "code",
   "execution_count": 142,
   "metadata": {
    "ExecuteTime": {
     "end_time": "2020-12-03T06:52:49.562837Z",
     "start_time": "2020-12-03T06:52:49.555763Z"
    }
   },
   "outputs": [
    {
     "data": {
      "text/plain": [
       "{'class_var': 'attribute',\n",
       " 'inst_var': 'attribute',\n",
       " 'inst_var_func': 'method',\n",
       " 'inst_var_func_bak': 'method',\n",
       " 'inst_var_func_baz': 'method',\n",
       " 'my_abstract': 'method',\n",
       " 'my_classmethod': 'method',\n",
       " 'my_method': 'method',\n",
       " 'my_prop': 'attribute',\n",
       " 'my_static': 'method'}"
      ]
     },
     "execution_count": 142,
     "metadata": {},
     "output_type": "execute_result"
    }
   ],
   "source": [
    "hdir(f)"
   ]
  },
  {
   "cell_type": "code",
   "execution_count": 143,
   "metadata": {
    "ExecuteTime": {
     "end_time": "2020-12-03T06:52:50.397754Z",
     "start_time": "2020-12-03T06:52:50.390111Z"
    }
   },
   "outputs": [
    {
     "data": {
      "text/plain": [
       "function"
      ]
     },
     "execution_count": 143,
     "metadata": {},
     "output_type": "execute_result"
    }
   ],
   "source": [
    "type(f.my_static)"
   ]
  },
  {
   "cell_type": "code",
   "execution_count": 146,
   "metadata": {
    "ExecuteTime": {
     "end_time": "2020-12-03T06:53:19.419512Z",
     "start_time": "2020-12-03T06:53:19.413985Z"
    }
   },
   "outputs": [],
   "source": [
    "def _isstatic(meth):\n",
    "    # subcase: assume we've already checked that meth is callable. Also assume\n",
    "    # this is coming from an instance, not a class. Logic is not airtight yet:\n",
    "    # better not to rely on param names.\n",
    "    if ismethod(meth): \n",
    "        return False\n",
    "    params_ = list(params(meth))\n",
    "    if params_ and params_[0] not in {'cls', 'self'}:\n",
    "        return True\n",
    "    return False"
   ]
  },
  {
   "cell_type": "code",
   "execution_count": 145,
   "metadata": {
    "ExecuteTime": {
     "end_time": "2020-12-03T06:52:54.179334Z",
     "start_time": "2020-12-03T06:52:54.168105Z"
    }
   },
   "outputs": [
    {
     "name": "stdout",
     "output_type": "stream",
     "text": [
      "inst_var_func method\n",
      "<function bar at 0x1a237e09d8>\n",
      "<class 'function'>\n",
      "qualname dots 0\n",
      "is method: False\n",
      "is FunctionType: True\n",
      "is MethodType: False\n",
      "[]\n",
      "[]\n",
      "is static False\n",
      "\n",
      "inst_var_func_bak method\n",
      "<function bak at 0x1a22bc39d8>\n",
      "<class 'function'>\n",
      "qualname dots 0\n",
      "is method: False\n",
      "is FunctionType: True\n",
      "is MethodType: False\n",
      "['unk']\n",
      "cls or self para name\n",
      "is static True\n",
      "\n",
      "inst_var_func_baz method\n",
      "<function baz at 0x1a23104ea0>\n",
      "<class 'function'>\n",
      "qualname dots 0\n",
      "is method: False\n",
      "is FunctionType: True\n",
      "is MethodType: False\n",
      "['cls']\n",
      "['cls']\n",
      "is static False\n",
      "\n",
      "my_abstract method\n",
      "<bound method Foo.my_abstract of <__main__.Foo object at 0x1a23630898>>\n",
      "<class 'method'>\n",
      "qualname dots 1\n",
      "is method: True\n",
      "is FunctionType: False\n",
      "is MethodType: True\n",
      "[]\n",
      "_isstatic condition ismethod\n",
      "is static False\n",
      "\n",
      "my_classmethod method\n",
      "<bound method Foo.my_classmethod of <class '__main__.Foo'>>\n",
      "<class 'method'>\n",
      "qualname dots 1\n",
      "is method: True\n",
      "is FunctionType: False\n",
      "is MethodType: True\n",
      "['args']\n",
      "_isstatic condition ismethod\n",
      "is static False\n",
      "\n",
      "my_method method\n",
      "<bound method Foo.my_method of <__main__.Foo object at 0x1a23630898>>\n",
      "<class 'method'>\n",
      "qualname dots 1\n",
      "is method: True\n",
      "is FunctionType: False\n",
      "is MethodType: True\n",
      "['x']\n",
      "_isstatic condition ismethod\n",
      "is static False\n",
      "\n",
      "my_static method\n",
      "<function Foo.my_static at 0x1a237e0730>\n",
      "<class 'function'>\n",
      "qualname dots 1\n",
      "is method: False\n",
      "is FunctionType: True\n",
      "is MethodType: False\n",
      "['y']\n",
      "cls or self para name\n",
      "is static True\n",
      "\n"
     ]
    }
   ],
   "source": [
    "for k, v in hdir(f).items():\n",
    "    if v == 'attribute': continue\n",
    "    print(k, v)\n",
    "    obj = getattr(f, k)\n",
    "    print(obj)\n",
    "    print(type(obj))\n",
    "    print('qualname dots', getattr(obj, '__qualname__', '').count('.'))\n",
    "    print('is method:', ismethod(obj))\n",
    "    print('is FunctionType:', isinstance(obj, FunctionType))\n",
    "    print('is MethodType:', isinstance(obj, MethodType))\n",
    "    try:\n",
    "        print(list(params(obj)))\n",
    "    except Exception as e:\n",
    "        print(e)    \n",
    "    print('is static', _isstatic(obj))\n",
    "    print()"
   ]
  },
  {
   "cell_type": "code",
   "execution_count": 128,
   "metadata": {
    "ExecuteTime": {
     "end_time": "2020-12-03T06:49:12.425319Z",
     "start_time": "2020-12-03T06:49:12.417009Z"
    }
   },
   "outputs": [
    {
     "data": {
      "text/plain": [
       "True"
      ]
     },
     "execution_count": 128,
     "metadata": {},
     "output_type": "execute_result"
    }
   ],
   "source": [
    "'bound' in str(f.my_classmethod)"
   ]
  },
  {
   "cell_type": "code",
   "execution_count": 108,
   "metadata": {
    "ExecuteTime": {
     "end_time": "2020-12-03T06:45:09.082623Z",
     "start_time": "2020-12-03T06:45:09.068859Z"
    }
   },
   "outputs": [
    {
     "name": "stdout",
     "output_type": "stream",
     "text": [
      "class_var attribute\n",
      "<class 'str'>\n",
      "is method: False\n",
      "is FunctionType: False\n",
      "is MethodType: False\n",
      "'my_class_var' is not a callable object\n",
      "\n",
      "my_abstract method\n",
      "<class 'function'>\n",
      "is method: False\n",
      "is FunctionType: True\n",
      "is MethodType: False\n",
      "['self']\n",
      "\n",
      "my_classmethod method\n",
      "<class 'method'>\n",
      "is method: True\n",
      "is FunctionType: False\n",
      "is MethodType: True\n",
      "['args']\n",
      "\n",
      "my_method method\n",
      "<class 'function'>\n",
      "is method: False\n",
      "is FunctionType: True\n",
      "is MethodType: False\n",
      "['self', 'x']\n",
      "\n",
      "my_prop attribute\n",
      "<class 'property'>\n",
      "is method: False\n",
      "is FunctionType: False\n",
      "is MethodType: False\n",
      "<property object at 0x1a2351b278> is not a callable object\n",
      "\n",
      "my_static method\n",
      "<class 'function'>\n",
      "is method: False\n",
      "is FunctionType: True\n",
      "is MethodType: False\n",
      "['y']\n",
      "\n"
     ]
    }
   ],
   "source": [
    "for k, v in hdir(Foo).items():\n",
    "    print(k, v)\n",
    "    obj = getattr(Foo, k)\n",
    "    print(type(obj))\n",
    "    print('is method:', ismethod(obj))\n",
    "    print('is FunctionType:', isinstance(obj, FunctionType))\n",
    "    print('is MethodType:', isinstance(obj, MethodType))\n",
    "    try:\n",
    "        print(list(params(obj)))\n",
    "    except Exception as e:\n",
    "        print(e)\n",
    "    print()"
   ]
  },
  {
   "cell_type": "code",
   "execution_count": 65,
   "metadata": {
    "ExecuteTime": {
     "end_time": "2020-12-03T06:25:54.009582Z",
     "start_time": "2020-12-03T06:25:54.002873Z"
    }
   },
   "outputs": [
    {
     "data": {
      "text/plain": [
       "['y']"
      ]
     },
     "execution_count": 65,
     "metadata": {},
     "output_type": "execute_result"
    }
   ],
   "source": [
    "list(params(Foo.my_static))"
   ]
  },
  {
   "cell_type": "code",
   "execution_count": 56,
   "metadata": {
    "ExecuteTime": {
     "end_time": "2020-12-03T06:22:44.117387Z",
     "start_time": "2020-12-03T06:22:44.046062Z"
    }
   },
   "outputs": [],
   "source": [
    "staticmethod??"
   ]
  },
  {
   "cell_type": "markdown",
   "metadata": {},
   "source": [
    "## Override_self"
   ]
  },
  {
   "cell_type": "code",
   "execution_count": 153,
   "metadata": {
    "ExecuteTime": {
     "end_time": "2020-12-03T06:56:39.609271Z",
     "start_time": "2020-12-03T06:56:39.572664Z"
    }
   },
   "outputs": [],
   "source": [
    "@auto_repr\n",
    "class Tree:\n",
    "    \n",
    "    def __init__(self, a, b, c=3):\n",
    "        self.a = a\n",
    "        self.b = b\n",
    "        self.c = c\n",
    "        \n",
    "    def call(self, **kwargs):\n",
    "        a = kwargs.pop('a', self.a)\n",
    "        b = kwargs.pop('b', self.b)\n",
    "        c = kwargs.pop('c', self.c)\n",
    "        return a, b, c"
   ]
  },
  {
   "cell_type": "code",
   "execution_count": 154,
   "metadata": {
    "ExecuteTime": {
     "end_time": "2020-12-03T06:56:39.984417Z",
     "start_time": "2020-12-03T06:56:39.976208Z"
    }
   },
   "outputs": [
    {
     "data": {
      "text/plain": [
       "Tree(a=1, b=2, c=3)"
      ]
     },
     "execution_count": 154,
     "metadata": {},
     "output_type": "execute_result"
    }
   ],
   "source": [
    "t = Tree(1, 2, 3)\n",
    "t"
   ]
  },
  {
   "cell_type": "code",
   "execution_count": 155,
   "metadata": {
    "ExecuteTime": {
     "end_time": "2020-12-03T06:56:40.293327Z",
     "start_time": "2020-12-03T06:56:40.286878Z"
    }
   },
   "outputs": [
    {
     "data": {
      "text/plain": [
       "(1, 2, 3)"
      ]
     },
     "execution_count": 155,
     "metadata": {},
     "output_type": "execute_result"
    }
   ],
   "source": [
    "t.call()"
   ]
  },
  {
   "cell_type": "code",
   "execution_count": 156,
   "metadata": {
    "ExecuteTime": {
     "end_time": "2020-12-03T06:56:51.467776Z",
     "start_time": "2020-12-03T06:56:51.461705Z"
    }
   },
   "outputs": [
    {
     "data": {
      "text/plain": [
       "(1, 2, 44)"
      ]
     },
     "execution_count": 156,
     "metadata": {},
     "output_type": "execute_result"
    }
   ],
   "source": [
    "t.call(c=44)"
   ]
  },
  {
   "cell_type": "markdown",
   "metadata": {},
   "source": [
    "@auto_repr\n",
    "class Tree:\n",
    "    \n",
    "    def __init__(self, a, b, c=3):\n",
    "        self.a = a\n",
    "        self.b = b\n",
    "        self.c = c\n",
    "        \n",
    "    @kwargs_fallback\n",
    "    def call(self, **kwargs):\n",
    "        # Signature shows a, b, and c with class default values.\n",
    "        return a, b, c"
   ]
  },
  {
   "cell_type": "code",
   "execution_count": 190,
   "metadata": {
    "ExecuteTime": {
     "end_time": "2020-12-03T07:09:35.889779Z",
     "start_time": "2020-12-03T07:09:35.883829Z"
    }
   },
   "outputs": [],
   "source": [
    "# diff name for now since htools has other kwargs_fallback func.\n",
    "def fallback(func):\n",
    "    clsname = func.__qualname__.split('.')[0]\n",
    "    print(clsname)\n",
    "    @wraps(func)\n",
    "    def wrapped(*args, **kwargs):\n",
    "        return func(*args, **kwargs)\n",
    "    return wrapped"
   ]
  },
  {
   "cell_type": "code",
   "execution_count": 191,
   "metadata": {
    "ExecuteTime": {
     "end_time": "2020-12-03T07:09:36.277433Z",
     "start_time": "2020-12-03T07:09:36.268017Z"
    }
   },
   "outputs": [
    {
     "name": "stdout",
     "output_type": "stream",
     "text": [
      "Tree\n"
     ]
    }
   ],
   "source": [
    "@auto_repr\n",
    "class Tree:\n",
    "    \n",
    "    def __init__(self, a, b, c=3):\n",
    "        self.a = a\n",
    "        self.b = b\n",
    "        self.c = c\n",
    "        \n",
    "    @fallback\n",
    "    def call(self, **kwargs):\n",
    "        a = kwargs.pop('a', self.a)\n",
    "        b = kwargs.pop('b', self.b)\n",
    "        c = kwargs.pop('c', self.c)\n",
    "        return a, b, c"
   ]
  },
  {
   "cell_type": "code",
   "execution_count": 160,
   "metadata": {
    "ExecuteTime": {
     "end_time": "2020-12-03T07:00:10.431706Z",
     "start_time": "2020-12-03T07:00:10.424041Z"
    }
   },
   "outputs": [
    {
     "data": {
      "text/plain": [
       "<function __main__.Tree.call(self, **kwargs)>"
      ]
     },
     "execution_count": 160,
     "metadata": {},
     "output_type": "execute_result"
    }
   ],
   "source": [
    "Tree.call"
   ]
  },
  {
   "cell_type": "code",
   "execution_count": 177,
   "metadata": {
    "ExecuteTime": {
     "end_time": "2020-12-03T07:04:11.327886Z",
     "start_time": "2020-12-03T07:04:11.312410Z"
    }
   },
   "outputs": [
    {
     "ename": "AttributeError",
     "evalue": "'function' object has no attribute '__self__'",
     "output_type": "error",
     "traceback": [
      "\u001b[0;31m---------------------------------------------------------------------------\u001b[0m",
      "\u001b[0;31mAttributeError\u001b[0m                            Traceback (most recent call last)",
      "\u001b[0;32m<ipython-input-177-75bb0dd983fc>\u001b[0m in \u001b[0;36m<module>\u001b[0;34m\u001b[0m\n\u001b[0;32m----> 1\u001b[0;31m \u001b[0mTree\u001b[0m\u001b[0;34m.\u001b[0m\u001b[0mcall\u001b[0m\u001b[0;34m.\u001b[0m\u001b[0m__self__\u001b[0m\u001b[0;34m\u001b[0m\u001b[0;34m\u001b[0m\u001b[0m\n\u001b[0m",
      "\u001b[0;31mAttributeError\u001b[0m: 'function' object has no attribute '__self__'"
     ]
    }
   ],
   "source": [
    "Tree.call.__self__"
   ]
  },
  {
   "cell_type": "code",
   "execution_count": 174,
   "metadata": {
    "ExecuteTime": {
     "end_time": "2020-12-03T07:03:26.402011Z",
     "start_time": "2020-12-03T07:03:26.395522Z"
    }
   },
   "outputs": [
    {
     "data": {
      "text/plain": [
       "__main__.Tree"
      ]
     },
     "execution_count": 174,
     "metadata": {},
     "output_type": "execute_result"
    }
   ],
   "source": [
    "t.call.__self__.__class__"
   ]
  },
  {
   "cell_type": "code",
   "execution_count": 167,
   "metadata": {
    "ExecuteTime": {
     "end_time": "2020-12-03T07:01:55.143993Z",
     "start_time": "2020-12-03T07:01:55.128710Z"
    }
   },
   "outputs": [
    {
     "name": "stderr",
     "output_type": "stream",
     "text": [
      "/Users/hmamin/anaconda3/lib/python3.7/site-packages/ipykernel/ipkernel.py:287: DeprecationWarning: `should_run_async` will not call `transform_cell` automatically in the future. Please pass the result to `transformed_cell` argument and any exception that happen during thetransform in `preprocessing_exc_tuple` in IPython 7.17 and above.\n",
      "  and should_run_async(code)\n"
     ]
    },
    {
     "ename": "AttributeError",
     "evalue": "'function' object has no attribute '__mro__'",
     "output_type": "error",
     "traceback": [
      "\u001b[0;31m---------------------------------------------------------------------------\u001b[0m",
      "\u001b[0;31mAttributeError\u001b[0m                            Traceback (most recent call last)",
      "\u001b[0;32m<ipython-input-167-955b93f795e3>\u001b[0m in \u001b[0;36m<module>\u001b[0;34m\u001b[0m\n\u001b[0;32m----> 1\u001b[0;31m \u001b[0minspect\u001b[0m\u001b[0;34m.\u001b[0m\u001b[0mgetmro\u001b[0m\u001b[0;34m(\u001b[0m\u001b[0mTree\u001b[0m\u001b[0;34m.\u001b[0m\u001b[0mcall\u001b[0m\u001b[0;34m)\u001b[0m\u001b[0;34m\u001b[0m\u001b[0;34m\u001b[0m\u001b[0m\n\u001b[0m",
      "\u001b[0;32m~/anaconda3/lib/python3.7/inspect.py\u001b[0m in \u001b[0;36mgetmro\u001b[0;34m(cls)\u001b[0m\n\u001b[1;32m    478\u001b[0m \u001b[0;32mdef\u001b[0m \u001b[0mgetmro\u001b[0m\u001b[0;34m(\u001b[0m\u001b[0mcls\u001b[0m\u001b[0;34m)\u001b[0m\u001b[0;34m:\u001b[0m\u001b[0;34m\u001b[0m\u001b[0;34m\u001b[0m\u001b[0m\n\u001b[1;32m    479\u001b[0m     \u001b[0;34m\"Return tuple of base classes (including cls) in method resolution order.\"\u001b[0m\u001b[0;34m\u001b[0m\u001b[0;34m\u001b[0m\u001b[0m\n\u001b[0;32m--> 480\u001b[0;31m     \u001b[0;32mreturn\u001b[0m \u001b[0mcls\u001b[0m\u001b[0;34m.\u001b[0m\u001b[0m__mro__\u001b[0m\u001b[0;34m\u001b[0m\u001b[0;34m\u001b[0m\u001b[0m\n\u001b[0m\u001b[1;32m    481\u001b[0m \u001b[0;34m\u001b[0m\u001b[0m\n\u001b[1;32m    482\u001b[0m \u001b[0;31m# -------------------------------------------------------- function helpers\u001b[0m\u001b[0;34m\u001b[0m\u001b[0;34m\u001b[0m\u001b[0;34m\u001b[0m\u001b[0m\n",
      "\u001b[0;31mAttributeError\u001b[0m: 'function' object has no attribute '__mro__'"
     ]
    }
   ],
   "source": [
    "inspect.getmro(Tree.call)"
   ]
  }
 ],
 "metadata": {
  "kernelspec": {
   "display_name": "Python 3",
   "language": "python",
   "name": "python3"
  },
  "language_info": {
   "codemirror_mode": {
    "name": "ipython",
    "version": 3
   },
   "file_extension": ".py",
   "mimetype": "text/x-python",
   "name": "python",
   "nbconvert_exporter": "python",
   "pygments_lexer": "ipython3",
   "version": "3.7.3"
  }
 },
 "nbformat": 4,
 "nbformat_minor": 4
}
