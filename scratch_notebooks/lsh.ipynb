{
 "cells": [
  {
   "cell_type": "markdown",
   "metadata": {},
   "source": [
    "## Abstract Attributes\n",
    "\n",
    "Not working yet."
   ]
  },
  {
   "cell_type": "code",
   "execution_count": 120,
   "metadata": {
    "ExecuteTime": {
     "end_time": "2020-11-23T05:51:35.156336Z",
     "start_time": "2020-11-23T05:51:35.150651Z"
    }
   },
   "outputs": [],
   "source": [
    "def abstractattrs(*attrs):\n",
    "    def wrapper(cls):\n",
    "        \n",
    "        def method(cls, *args, **kwargs):\n",
    "            super(cls, cls).__init_subclass__(*args, **kwargs)\n",
    "            for attr in attrs:\n",
    "                if not hasattr(cls, attr):\n",
    "                    raise RuntimeError(f'Class must have attribute {attr}.') \n",
    "                    \n",
    "        setattr(cls, '__init_subclass__', classmethod(method))\n",
    "        return cls\n",
    "    return wrapper              "
   ]
  },
  {
   "cell_type": "code",
   "execution_count": 121,
   "metadata": {
    "ExecuteTime": {
     "end_time": "2020-11-23T05:51:35.759875Z",
     "start_time": "2020-11-23T05:51:35.756318Z"
    }
   },
   "outputs": [],
   "source": [
    "@abstractattrs('name', 'age')\n",
    "class Base:\n",
    "    def __init__(self, age=7):\n",
    "        self.age = age "
   ]
  },
  {
   "cell_type": "code",
   "execution_count": 122,
   "metadata": {
    "ExecuteTime": {
     "end_time": "2020-11-23T05:51:40.646466Z",
     "start_time": "2020-11-23T05:51:36.471154Z"
    }
   },
   "outputs": [
    {
     "ename": "RecursionError",
     "evalue": "maximum recursion depth exceeded while calling a Python object",
     "output_type": "error",
     "traceback": [
      "\u001b[0;31m---------------------------------------------------------------------------\u001b[0m",
      "\u001b[0;31mRecursionError\u001b[0m                            Traceback (most recent call last)",
      "\u001b[0;32m<ipython-input-122-75cc12bc3db6>\u001b[0m in \u001b[0;36m<module>\u001b[0;34m\u001b[0m\n\u001b[0;32m----> 1\u001b[0;31m \u001b[0;32mclass\u001b[0m \u001b[0mChild\u001b[0m\u001b[0;34m(\u001b[0m\u001b[0mBase\u001b[0m\u001b[0;34m)\u001b[0m\u001b[0;34m:\u001b[0m\u001b[0;34m\u001b[0m\u001b[0;34m\u001b[0m\u001b[0m\n\u001b[0m\u001b[1;32m      2\u001b[0m     \u001b[0ma\u001b[0m \u001b[0;34m=\u001b[0m \u001b[0;34m'a'\u001b[0m\u001b[0;34m\u001b[0m\u001b[0;34m\u001b[0m\u001b[0m\n",
      "\u001b[0;32m<ipython-input-120-cedaaefac923>\u001b[0m in \u001b[0;36mmethod\u001b[0;34m(cls, *args, **kwargs)\u001b[0m\n\u001b[1;32m      3\u001b[0m \u001b[0;34m\u001b[0m\u001b[0m\n\u001b[1;32m      4\u001b[0m         \u001b[0;32mdef\u001b[0m \u001b[0mmethod\u001b[0m\u001b[0;34m(\u001b[0m\u001b[0mcls\u001b[0m\u001b[0;34m,\u001b[0m \u001b[0;34m*\u001b[0m\u001b[0margs\u001b[0m\u001b[0;34m,\u001b[0m \u001b[0;34m**\u001b[0m\u001b[0mkwargs\u001b[0m\u001b[0;34m)\u001b[0m\u001b[0;34m:\u001b[0m\u001b[0;34m\u001b[0m\u001b[0;34m\u001b[0m\u001b[0m\n\u001b[0;32m----> 5\u001b[0;31m             \u001b[0msuper\u001b[0m\u001b[0;34m(\u001b[0m\u001b[0mcls\u001b[0m\u001b[0;34m,\u001b[0m \u001b[0mcls\u001b[0m\u001b[0;34m)\u001b[0m\u001b[0;34m.\u001b[0m\u001b[0m__init_subclass__\u001b[0m\u001b[0;34m(\u001b[0m\u001b[0;34m*\u001b[0m\u001b[0margs\u001b[0m\u001b[0;34m,\u001b[0m \u001b[0;34m**\u001b[0m\u001b[0mkwargs\u001b[0m\u001b[0;34m)\u001b[0m\u001b[0;34m\u001b[0m\u001b[0;34m\u001b[0m\u001b[0m\n\u001b[0m\u001b[1;32m      6\u001b[0m             \u001b[0;32mfor\u001b[0m \u001b[0mattr\u001b[0m \u001b[0;32min\u001b[0m \u001b[0mattrs\u001b[0m\u001b[0;34m:\u001b[0m\u001b[0;34m\u001b[0m\u001b[0;34m\u001b[0m\u001b[0m\n\u001b[1;32m      7\u001b[0m                 \u001b[0;32mif\u001b[0m \u001b[0;32mnot\u001b[0m \u001b[0mhasattr\u001b[0m\u001b[0;34m(\u001b[0m\u001b[0mcls\u001b[0m\u001b[0;34m,\u001b[0m \u001b[0mattr\u001b[0m\u001b[0;34m)\u001b[0m\u001b[0;34m:\u001b[0m\u001b[0;34m\u001b[0m\u001b[0;34m\u001b[0m\u001b[0m\n",
      "... last 1 frames repeated, from the frame below ...\n",
      "\u001b[0;32m<ipython-input-120-cedaaefac923>\u001b[0m in \u001b[0;36mmethod\u001b[0;34m(cls, *args, **kwargs)\u001b[0m\n\u001b[1;32m      3\u001b[0m \u001b[0;34m\u001b[0m\u001b[0m\n\u001b[1;32m      4\u001b[0m         \u001b[0;32mdef\u001b[0m \u001b[0mmethod\u001b[0m\u001b[0;34m(\u001b[0m\u001b[0mcls\u001b[0m\u001b[0;34m,\u001b[0m \u001b[0;34m*\u001b[0m\u001b[0margs\u001b[0m\u001b[0;34m,\u001b[0m \u001b[0;34m**\u001b[0m\u001b[0mkwargs\u001b[0m\u001b[0;34m)\u001b[0m\u001b[0;34m:\u001b[0m\u001b[0;34m\u001b[0m\u001b[0;34m\u001b[0m\u001b[0m\n\u001b[0;32m----> 5\u001b[0;31m             \u001b[0msuper\u001b[0m\u001b[0;34m(\u001b[0m\u001b[0mcls\u001b[0m\u001b[0;34m,\u001b[0m \u001b[0mcls\u001b[0m\u001b[0;34m)\u001b[0m\u001b[0;34m.\u001b[0m\u001b[0m__init_subclass__\u001b[0m\u001b[0;34m(\u001b[0m\u001b[0;34m*\u001b[0m\u001b[0margs\u001b[0m\u001b[0;34m,\u001b[0m \u001b[0;34m**\u001b[0m\u001b[0mkwargs\u001b[0m\u001b[0;34m)\u001b[0m\u001b[0;34m\u001b[0m\u001b[0;34m\u001b[0m\u001b[0m\n\u001b[0m\u001b[1;32m      6\u001b[0m             \u001b[0;32mfor\u001b[0m \u001b[0mattr\u001b[0m \u001b[0;32min\u001b[0m \u001b[0mattrs\u001b[0m\u001b[0;34m:\u001b[0m\u001b[0;34m\u001b[0m\u001b[0;34m\u001b[0m\u001b[0m\n\u001b[1;32m      7\u001b[0m                 \u001b[0;32mif\u001b[0m \u001b[0;32mnot\u001b[0m \u001b[0mhasattr\u001b[0m\u001b[0;34m(\u001b[0m\u001b[0mcls\u001b[0m\u001b[0;34m,\u001b[0m \u001b[0mattr\u001b[0m\u001b[0;34m)\u001b[0m\u001b[0;34m:\u001b[0m\u001b[0;34m\u001b[0m\u001b[0;34m\u001b[0m\u001b[0m\n",
      "\u001b[0;31mRecursionError\u001b[0m: maximum recursion depth exceeded while calling a Python object"
     ]
    }
   ],
   "source": [
    "class Child(Base):\n",
    "    a = 'a'"
   ]
  },
  {
   "cell_type": "code",
   "execution_count": 118,
   "metadata": {
    "ExecuteTime": {
     "end_time": "2020-11-23T05:50:14.670781Z",
     "start_time": "2020-11-23T05:50:14.664637Z"
    }
   },
   "outputs": [],
   "source": [
    "class AbstractAttrs:\n",
    "    \n",
    "    def __init__(self, *args):\n",
    "        print(args)\n",
    "        self.args = list(args)\n",
    "    \n",
    "    @classmethod\n",
    "    def __init_subclass__(cls, **kwargs):\n",
    "        super().__init_subclass__(**kwargs)\n",
    "#         if not hasattr(cls, f'_{cls.__name__}__attrs'):\n",
    "#             print('no attrs')\n",
    "        print('init subclass', AbstractAttrs._args())\n",
    "        for arg in AbstractAttrs.args:\n",
    "            assert hasattr(cls, arg), \\\n",
    "                f'{cls.__name__} must have class variable {arg}.'"
   ]
  },
  {
   "cell_type": "code",
   "execution_count": 119,
   "metadata": {
    "ExecuteTime": {
     "end_time": "2020-11-23T05:50:15.093761Z",
     "start_time": "2020-11-23T05:50:15.075674Z"
    }
   },
   "outputs": [
    {
     "ename": "TypeError",
     "evalue": "_args() missing 1 required positional argument: 'self'",
     "output_type": "error",
     "traceback": [
      "\u001b[0;31m---------------------------------------------------------------------------\u001b[0m",
      "\u001b[0;31mTypeError\u001b[0m                                 Traceback (most recent call last)",
      "\u001b[0;32m<ipython-input-119-8be9ad7b1fab>\u001b[0m in \u001b[0;36m<module>\u001b[0;34m\u001b[0m\n\u001b[0;32m----> 1\u001b[0;31m \u001b[0;32mclass\u001b[0m \u001b[0mCallback\u001b[0m\u001b[0;34m(\u001b[0m\u001b[0mAbstractAttrs\u001b[0m\u001b[0;34m)\u001b[0m\u001b[0;34m:\u001b[0m\u001b[0;34m\u001b[0m\u001b[0;34m\u001b[0m\u001b[0m\n\u001b[0m\u001b[1;32m      2\u001b[0m     \u001b[0;32mpass\u001b[0m\u001b[0;34m\u001b[0m\u001b[0;34m\u001b[0m\u001b[0m\n",
      "\u001b[0;32m<ipython-input-118-9f0e0d6150a2>\u001b[0m in \u001b[0;36m__init_subclass__\u001b[0;34m(cls, **kwargs)\u001b[0m\n\u001b[1;32m     10\u001b[0m \u001b[0;31m#         if not hasattr(cls, f'_{cls.__name__}__attrs'):\u001b[0m\u001b[0;34m\u001b[0m\u001b[0;34m\u001b[0m\u001b[0;34m\u001b[0m\u001b[0m\n\u001b[1;32m     11\u001b[0m \u001b[0;31m#             print('no attrs')\u001b[0m\u001b[0;34m\u001b[0m\u001b[0;34m\u001b[0m\u001b[0;34m\u001b[0m\u001b[0m\n\u001b[0;32m---> 12\u001b[0;31m         \u001b[0mprint\u001b[0m\u001b[0;34m(\u001b[0m\u001b[0;34m'init subclass'\u001b[0m\u001b[0;34m,\u001b[0m \u001b[0mAbstractAttrs\u001b[0m\u001b[0;34m.\u001b[0m\u001b[0m_args\u001b[0m\u001b[0;34m(\u001b[0m\u001b[0;34m)\u001b[0m\u001b[0;34m)\u001b[0m\u001b[0;34m\u001b[0m\u001b[0;34m\u001b[0m\u001b[0m\n\u001b[0m\u001b[1;32m     13\u001b[0m         \u001b[0;32mfor\u001b[0m \u001b[0marg\u001b[0m \u001b[0;32min\u001b[0m \u001b[0mAbstractAttrs\u001b[0m\u001b[0;34m.\u001b[0m\u001b[0margs\u001b[0m\u001b[0;34m:\u001b[0m\u001b[0;34m\u001b[0m\u001b[0;34m\u001b[0m\u001b[0m\n\u001b[1;32m     14\u001b[0m             \u001b[0;32massert\u001b[0m \u001b[0mhasattr\u001b[0m\u001b[0;34m(\u001b[0m\u001b[0mcls\u001b[0m\u001b[0;34m,\u001b[0m \u001b[0marg\u001b[0m\u001b[0;34m)\u001b[0m\u001b[0;34m,\u001b[0m\u001b[0;31m \u001b[0m\u001b[0;31m\\\u001b[0m\u001b[0;34m\u001b[0m\u001b[0;34m\u001b[0m\u001b[0m\n",
      "\u001b[0;31mTypeError\u001b[0m: _args() missing 1 required positional argument: 'self'"
     ]
    }
   ],
   "source": [
    "class Callback(AbstractAttrs):\n",
    "    pass"
   ]
  },
  {
   "cell_type": "code",
   "execution_count": 112,
   "metadata": {
    "ExecuteTime": {
     "end_time": "2020-11-23T05:46:47.154418Z",
     "start_time": "2020-11-23T05:46:47.149946Z"
    }
   },
   "outputs": [
    {
     "name": "stdout",
     "output_type": "stream",
     "text": [
      "('order', 'is_val')\n"
     ]
    }
   ],
   "source": [
    "c = Callback('order', 'is_val')"
   ]
  },
  {
   "cell_type": "code",
   "execution_count": 113,
   "metadata": {
    "ExecuteTime": {
     "end_time": "2020-11-23T05:46:54.144913Z",
     "start_time": "2020-11-23T05:46:54.137769Z"
    }
   },
   "outputs": [
    {
     "name": "stdout",
     "output_type": "stream",
     "text": [
      "pre super\n",
      "NewCallback\n",
      "no attrs\n"
     ]
    }
   ],
   "source": [
    "class NewCallback(Callback):\n",
    "    \n",
    "    def __init__(self, a, order=3):\n",
    "        self.a = a\n",
    "        self.order = order"
   ]
  },
  {
   "cell_type": "code",
   "execution_count": 107,
   "metadata": {
    "ExecuteTime": {
     "end_time": "2020-11-23T05:45:42.173623Z",
     "start_time": "2020-11-23T05:45:42.167310Z"
    }
   },
   "outputs": [],
   "source": [
    "nc = NewCallback('a', 'my_order')"
   ]
  },
  {
   "cell_type": "code",
   "execution_count": 108,
   "metadata": {
    "ExecuteTime": {
     "end_time": "2020-11-23T05:45:42.762174Z",
     "start_time": "2020-11-23T05:45:42.755871Z"
    }
   },
   "outputs": [
    {
     "data": {
      "text/plain": [
       "<__main__.NewCallback at 0x1a1353b358>"
      ]
     },
     "execution_count": 108,
     "metadata": {},
     "output_type": "execute_result"
    }
   ],
   "source": [
    "nc"
   ]
  },
  {
   "cell_type": "code",
   "execution_count": 109,
   "metadata": {
    "ExecuteTime": {
     "end_time": "2020-11-23T05:45:45.676917Z",
     "start_time": "2020-11-23T05:45:45.670265Z"
    }
   },
   "outputs": [
    {
     "data": {
      "text/plain": [
       "['order', 'val_loop']"
      ]
     },
     "execution_count": 109,
     "metadata": {},
     "output_type": "execute_result"
    }
   ],
   "source": [
    "nc._attrs"
   ]
  },
  {
   "cell_type": "code",
   "execution_count": 15,
   "metadata": {
    "ExecuteTime": {
     "end_time": "2020-11-23T23:56:26.366857Z",
     "start_time": "2020-11-23T23:56:26.363937Z"
    }
   },
   "outputs": [],
   "source": [
    "from abc import ABC, abstractmethod, abstractproperty"
   ]
  },
  {
   "cell_type": "code",
   "execution_count": 16,
   "metadata": {
    "ExecuteTime": {
     "end_time": "2020-11-23T23:57:25.624700Z",
     "start_time": "2020-11-23T23:57:25.619574Z"
    }
   },
   "outputs": [],
   "source": [
    "class Abstract(ABC):\n",
    "    def __init__(self, a):\n",
    "        self.a = a\n",
    "    @abstractmethod\n",
    "    def walk(self):\n",
    "        pass\n",
    "    \n",
    "    @abstractproperty\n",
    "    def b(self):\n",
    "        pass"
   ]
  },
  {
   "cell_type": "code",
   "execution_count": 51,
   "metadata": {
    "ExecuteTime": {
     "end_time": "2020-11-24T00:10:56.285468Z",
     "start_time": "2020-11-24T00:10:56.280697Z"
    }
   },
   "outputs": [],
   "source": [
    "class Child(Abstract):\n",
    "    b = 3\n",
    "        \n",
    "    def walk(self):\n",
    "        return self.a\n",
    "    \n",
    "#     def b(self):\n",
    "#         print('in b, method not prop')\n",
    "#         return self.a*2"
   ]
  },
  {
   "cell_type": "code",
   "execution_count": 52,
   "metadata": {
    "ExecuteTime": {
     "end_time": "2020-11-24T00:10:56.577462Z",
     "start_time": "2020-11-24T00:10:56.574092Z"
    }
   },
   "outputs": [],
   "source": [
    "c = Child(3)"
   ]
  },
  {
   "cell_type": "code",
   "execution_count": 54,
   "metadata": {
    "ExecuteTime": {
     "end_time": "2020-11-24T00:11:02.636602Z",
     "start_time": "2020-11-24T00:11:02.630073Z"
    }
   },
   "outputs": [
    {
     "data": {
      "text/plain": [
       "3"
      ]
     },
     "execution_count": 54,
     "metadata": {},
     "output_type": "execute_result"
    }
   ],
   "source": [
    "c.b"
   ]
  },
  {
   "cell_type": "markdown",
   "metadata": {},
   "source": [
    "## Metaclass approach\n",
    "\n",
    "This seems more promising."
   ]
  },
  {
   "cell_type": "code",
   "execution_count": 51,
   "metadata": {
    "ExecuteTime": {
     "end_time": "2020-11-25T21:31:34.256384Z",
     "start_time": "2020-11-25T21:31:34.252111Z"
    }
   },
   "outputs": [],
   "source": [
    "from inspect import ismethod, getattr_static"
   ]
  },
  {
   "cell_type": "code",
   "execution_count": 133,
   "metadata": {
    "ExecuteTime": {
     "end_time": "2020-11-25T21:48:48.547821Z",
     "start_time": "2020-11-25T21:48:48.544203Z"
    }
   },
   "outputs": [],
   "source": [
    "def hasstatic(cls, meth_name):\n",
    "    \"\"\"Check if a class possesses a staticmethod of a given name. Similar to\n",
    "    hasattr\n",
    "    \n",
    "    Parameters\n",
    "    ----------\n",
    "    cls: Type or any\n",
    "        A class or an instance (seems to work on both, though more extensive\n",
    "        testing may be needed for more complex scenarios).\n",
    "    meth_name: str\n",
    "        Name of method to check. If the class/instance does not contain any\n",
    "        attribute with this name, function returns False.\n",
    "        \n",
    "    Returns\n",
    "    -------\n",
    "    bool: True if `cls` has a staticmethod with name `meth_name`.\n",
    "    \"\"\"\n",
    "    return isinstance(getattr_static(cls, meth_name, None), staticmethod)"
   ]
  },
  {
   "cell_type": "code",
   "execution_count": 134,
   "metadata": {
    "ExecuteTime": {
     "end_time": "2020-11-25T21:48:49.198568Z",
     "start_time": "2020-11-25T21:48:49.195347Z"
    }
   },
   "outputs": [],
   "source": [
    "class Foo:\n",
    "    def __init__(self, a):\n",
    "        self.a = a\n",
    "    @staticmethod\n",
    "    def bar(self):\n",
    "        return 'bar'"
   ]
  },
  {
   "cell_type": "code",
   "execution_count": 135,
   "metadata": {
    "ExecuteTime": {
     "end_time": "2020-11-25T21:48:49.420954Z",
     "start_time": "2020-11-25T21:48:49.414795Z"
    }
   },
   "outputs": [
    {
     "data": {
      "text/plain": [
       "True"
      ]
     },
     "execution_count": 135,
     "metadata": {},
     "output_type": "execute_result"
    }
   ],
   "source": [
    "hasstatic(Foo, 'bar')"
   ]
  },
  {
   "cell_type": "code",
   "execution_count": 136,
   "metadata": {
    "ExecuteTime": {
     "end_time": "2020-11-25T21:48:49.846406Z",
     "start_time": "2020-11-25T21:48:49.835371Z"
    }
   },
   "outputs": [
    {
     "data": {
      "text/plain": [
       "False"
      ]
     },
     "execution_count": 136,
     "metadata": {},
     "output_type": "execute_result"
    }
   ],
   "source": [
    "hasstatic(Foo, '__init__')"
   ]
  },
  {
   "cell_type": "code",
   "execution_count": 137,
   "metadata": {
    "ExecuteTime": {
     "end_time": "2020-11-25T21:48:49.846406Z",
     "start_time": "2020-11-25T21:48:49.835371Z"
    }
   },
   "outputs": [
    {
     "data": {
      "text/plain": [
       "True"
      ]
     },
     "execution_count": 137,
     "metadata": {},
     "output_type": "execute_result"
    }
   ],
   "source": [
    "hasstatic(Foo(3), 'bar')"
   ]
  },
  {
   "cell_type": "code",
   "execution_count": 138,
   "metadata": {
    "ExecuteTime": {
     "end_time": "2020-11-25T21:48:49.985580Z",
     "start_time": "2020-11-25T21:48:49.978211Z"
    }
   },
   "outputs": [
    {
     "data": {
      "text/plain": [
       "False"
      ]
     },
     "execution_count": 138,
     "metadata": {},
     "output_type": "execute_result"
    }
   ],
   "source": [
    "hasstatic(Foo(3), '__init__')"
   ]
  },
  {
   "cell_type": "code",
   "execution_count": 139,
   "metadata": {
    "ExecuteTime": {
     "end_time": "2020-11-25T21:48:50.172309Z",
     "start_time": "2020-11-25T21:48:50.152465Z"
    }
   },
   "outputs": [
    {
     "data": {
      "text/plain": [
       "False"
      ]
     },
     "execution_count": 139,
     "metadata": {},
     "output_type": "execute_result"
    }
   ],
   "source": [
    "hasstatic(Foo(3), 'fake')"
   ]
  },
  {
   "cell_type": "code",
   "execution_count": 199,
   "metadata": {
    "ExecuteTime": {
     "end_time": "2020-11-25T22:18:54.259916Z",
     "start_time": "2020-11-25T22:18:54.242940Z"
    }
   },
   "outputs": [],
   "source": [
    "class AbstractAttrs(type):\n",
    "    \"\"\"Basically the attribute equivalent of abc.abstractmethod: this allows \n",
    "    us to define an abstract parent class that requires its children to \n",
    "    possess certain class and/or instance attributes. This differs from\n",
    "    abc.abstractproperty in a few ways:\n",
    "    \n",
    "    1. abstractproperty ignores instance attributes. AbstractAttrs lets us\n",
    "    specify required instance attributes and/or class attributes and\n",
    "    distinguish between the two.\n",
    "    2. abstractproperty considers the requirement fulfilled by methods,\n",
    "    properties, and class attributes. AbstractAttrs does not allow methods \n",
    "    (including classmethods and staticmethods) to fulfill either requirement,\n",
    "    though properties can fulfill either.\n",
    "    \n",
    "    Examples\n",
    "    --------\n",
    "    This class defines required instance attributes and class attributes, \n",
    "    but you can also specify one or the other. If you don't care whether an\n",
    "    attribute is at the class or instance level, you can simply use\n",
    "    @abc.abstractproperty.\n",
    "    \n",
    "    class Parent(metaclass=AbstractAttrs, inst_attrs=['name'], \n",
    "                 class_attrs=['order', 'is_val']):\n",
    "        pass\n",
    "    \"\"\"\n",
    "\n",
    "    def __new__(cls, name, bases, methods, **meta_kwargs):\n",
    "        \"\"\"This provides user-defined parent classes with an \n",
    "        `__init_subclass__` method that checks for class attributes. Errors\n",
    "        will occur when the parent class is defined, not when instances of it\n",
    "        are constructed.\n",
    "        \"\"\"\n",
    "        class_ = type.__new__(cls, name, bases, methods)\n",
    "        class_attrs = meta_kwargs.get('class_attrs', [])\n",
    "        inst_attrs = meta_kwargs.get('inst_attrs', [])\n",
    "        \n",
    "        def __init_subclass__(cls, **kwargs):\n",
    "            super().__init_subclass__(**kwargs)\n",
    "            for attr in class_attrs:\n",
    "                # TypeError maintains consistency with abstractmethod.\n",
    "                # Remaining checks occur at instantiation.\n",
    "                if not hasattr(cls, attr):\n",
    "                    raise TypeError(f'{cls} must have class attribute '\n",
    "                                    f'`{attr}`.')\n",
    "        \n",
    "        # Make sure we distinguish between the abstract parent class that \n",
    "        # defines an interface and the child classes that implement it. The\n",
    "        # abstract parent should not define the required attributes: it merely\n",
    "        # enforces the requirement that its children do. We want the children\n",
    "        # to inherit class_attrs and inst_attrs without overwriting them when\n",
    "        # their own __new__ is called, so that AbstractAttrs.__call__ can\n",
    "        # use them for validation. Only change this if you're very confident\n",
    "        # you understand the repercussions.\n",
    "        if class_attrs or inst_attrs:\n",
    "            class_.__init_subclass__ = classmethod(__init_subclass__)\n",
    "            class_._is_parent = True\n",
    "            class_.class_attrs = class_attrs\n",
    "            class_.inst_attrs = inst_attrs\n",
    "        else:\n",
    "            class_._is_parent = False\n",
    "        return class_\n",
    "\n",
    "    def __call__(cls, *args, **kwargs):\n",
    "        \"\"\"This is called when we create instances of our classes. Parents are\n",
    "        initialized normally, while children undergo a series of checks for\n",
    "        each of our required attributes.\n",
    "        \"\"\"\n",
    "        inst = cls.__new__(cls, *args, **kwargs)\n",
    "        if not isinstance(inst, cls): return inst\n",
    "        \n",
    "        inst.__init__(*args, **kwargs)\n",
    "        if cls._is_parent: return inst\n",
    "        \n",
    "        # Validate children.\n",
    "        for attr in inst.inst_attrs:\n",
    "            # TypeError maintains consistency with abstractmethod.\n",
    "            if not hasattr(inst, attr):\n",
    "                raise TypeError(f'Instances of {type(inst)} must '\n",
    "                                f'have instance attribute `{attr}`.')\n",
    "            elif ismethod(getattr(inst, attr)):\n",
    "                raise TypeError(f'`{attr}` must be an instance attribute, '\n",
    "                                'not a method.')\n",
    "                \n",
    "        # In AbstractAttrs.__new__, methods are still unbound so we couldn't\n",
    "        # easily check this until now.\n",
    "        for attr in inst.class_attrs:\n",
    "            # `ismethod` must check inst, not cls (cls.method is a function \n",
    "            # while inst.method is a method). staticmethod can be retrieved \n",
    "            # from either.\n",
    "            if ismethod(getattr(inst, attr)) or hasstatic(inst, attr):\n",
    "                raise TypeError(f'`{attr}` must be a class attribute, not a '\n",
    "                                'method.')\n",
    "            elif isinstance(getattr(cls, attr), property):\n",
    "                raise TypeError(\n",
    "                    f'`{attr}` must be a class attribute, not a property. '\n",
    "                    'Properties fulfill instance attribute requirements but '\n",
    "                    'not class attribute requirements.'\n",
    "                )\n",
    "        return inst"
   ]
  },
  {
   "cell_type": "code",
   "execution_count": 175,
   "metadata": {
    "ExecuteTime": {
     "end_time": "2020-11-25T22:17:49.099243Z",
     "start_time": "2020-11-25T22:17:49.095397Z"
    }
   },
   "outputs": [],
   "source": [
    "class Parent(metaclass=AbstractAttrs, inst_attrs=['name'],\n",
    "             class_attrs=['order', 'is_val']):\n",
    "    pass"
   ]
  },
  {
   "cell_type": "code",
   "execution_count": 176,
   "metadata": {
    "ExecuteTime": {
     "end_time": "2020-11-25T22:17:49.658307Z",
     "start_time": "2020-11-25T22:17:49.654188Z"
    }
   },
   "outputs": [],
   "source": [
    "p = Parent()"
   ]
  },
  {
   "cell_type": "code",
   "execution_count": 177,
   "metadata": {
    "ExecuteTime": {
     "end_time": "2020-11-25T22:17:50.211541Z",
     "start_time": "2020-11-25T22:17:50.207089Z"
    }
   },
   "outputs": [
    {
     "data": {
      "text/plain": [
       "(['order', 'is_val'], ['name'], True)"
      ]
     },
     "execution_count": 177,
     "metadata": {},
     "output_type": "execute_result"
    }
   ],
   "source": [
    "p.class_attrs, p.inst_attrs, p._is_parent"
   ]
  },
  {
   "cell_type": "code",
   "execution_count": 178,
   "metadata": {
    "ExecuteTime": {
     "end_time": "2020-11-25T22:17:51.358384Z",
     "start_time": "2020-11-25T22:17:51.353558Z"
    }
   },
   "outputs": [],
   "source": [
    "# Implements required class vars but not required inst vars. Error will be\n",
    "# thrown on object instantiation, not class definition.\n",
    "class Child(Parent):\n",
    "    \n",
    "    order = 33\n",
    "    is_val = True\n",
    "    \n",
    "    def __init__(self, a):\n",
    "        self.a = a\n",
    "        print('child init')"
   ]
  },
  {
   "cell_type": "code",
   "execution_count": 179,
   "metadata": {
    "ExecuteTime": {
     "end_time": "2020-11-25T22:17:52.029726Z",
     "start_time": "2020-11-25T22:17:52.014379Z"
    }
   },
   "outputs": [
    {
     "name": "stdout",
     "output_type": "stream",
     "text": [
      "child init\n"
     ]
    },
    {
     "ename": "TypeError",
     "evalue": "Instances of <class '__main__.Child'> must have instance attribute `name`.",
     "output_type": "error",
     "traceback": [
      "\u001b[0;31m---------------------------------------------------------------------------\u001b[0m",
      "\u001b[0;31mTypeError\u001b[0m                                 Traceback (most recent call last)",
      "\u001b[0;32m<ipython-input-179-5745deb256bc>\u001b[0m in \u001b[0;36m<module>\u001b[0;34m\u001b[0m\n\u001b[0;32m----> 1\u001b[0;31m \u001b[0mc\u001b[0m \u001b[0;34m=\u001b[0m \u001b[0mChild\u001b[0m\u001b[0;34m(\u001b[0m\u001b[0;36m4\u001b[0m\u001b[0;34m)\u001b[0m\u001b[0;34m\u001b[0m\u001b[0;34m\u001b[0m\u001b[0m\n\u001b[0m\u001b[1;32m      2\u001b[0m \u001b[0mc\u001b[0m\u001b[0;34m\u001b[0m\u001b[0;34m\u001b[0m\u001b[0m\n",
      "\u001b[0;32m<ipython-input-174-0a2284c79e4b>\u001b[0m in \u001b[0;36m__call__\u001b[0;34m(cls, *args, **kwargs)\u001b[0m\n\u001b[1;32m     76\u001b[0m             \u001b[0;31m# TypeError maintains consistency with abstractmethod.\u001b[0m\u001b[0;34m\u001b[0m\u001b[0;34m\u001b[0m\u001b[0;34m\u001b[0m\u001b[0m\n\u001b[1;32m     77\u001b[0m             \u001b[0;32mif\u001b[0m \u001b[0;32mnot\u001b[0m \u001b[0mhasattr\u001b[0m\u001b[0;34m(\u001b[0m\u001b[0minst\u001b[0m\u001b[0;34m,\u001b[0m \u001b[0mattr\u001b[0m\u001b[0;34m)\u001b[0m\u001b[0;34m:\u001b[0m\u001b[0;34m\u001b[0m\u001b[0;34m\u001b[0m\u001b[0m\n\u001b[0;32m---> 78\u001b[0;31m                 raise TypeError(f'Instances of {type(inst)} must '\n\u001b[0m\u001b[1;32m     79\u001b[0m                                 f'have instance attribute `{attr}`.')\n\u001b[1;32m     80\u001b[0m             \u001b[0;32melif\u001b[0m \u001b[0mismethod\u001b[0m\u001b[0;34m(\u001b[0m\u001b[0mgetattr\u001b[0m\u001b[0;34m(\u001b[0m\u001b[0minst\u001b[0m\u001b[0;34m,\u001b[0m \u001b[0mattr\u001b[0m\u001b[0;34m)\u001b[0m\u001b[0;34m)\u001b[0m\u001b[0;34m:\u001b[0m\u001b[0;34m\u001b[0m\u001b[0;34m\u001b[0m\u001b[0m\n",
      "\u001b[0;31mTypeError\u001b[0m: Instances of <class '__main__.Child'> must have instance attribute `name`."
     ]
    }
   ],
   "source": [
    "c = Child(4)\n",
    "c"
   ]
  },
  {
   "cell_type": "code",
   "execution_count": 180,
   "metadata": {
    "ExecuteTime": {
     "end_time": "2020-11-25T22:18:01.109074Z",
     "start_time": "2020-11-25T22:18:01.071752Z"
    }
   },
   "outputs": [
    {
     "ename": "TypeError",
     "evalue": "<class '__main__.BadChild'> must have class attribute `is_val`.",
     "output_type": "error",
     "traceback": [
      "\u001b[0;31m---------------------------------------------------------------------------\u001b[0m",
      "\u001b[0;31mTypeError\u001b[0m                                 Traceback (most recent call last)",
      "\u001b[0;32m<ipython-input-180-6198368fede5>\u001b[0m in \u001b[0;36m<module>\u001b[0;34m\u001b[0m\n\u001b[1;32m      2\u001b[0m \u001b[0;31m# instance var. Throws error at class definition. If we want to accept either,\u001b[0m\u001b[0;34m\u001b[0m\u001b[0;34m\u001b[0m\u001b[0;34m\u001b[0m\u001b[0m\n\u001b[1;32m      3\u001b[0m \u001b[0;31m# we could use abc.abstractmethod or simply define our instance variables.\u001b[0m\u001b[0;34m\u001b[0m\u001b[0;34m\u001b[0m\u001b[0;34m\u001b[0m\u001b[0m\n\u001b[0;32m----> 4\u001b[0;31m \u001b[0;32mclass\u001b[0m \u001b[0mBadChild\u001b[0m\u001b[0;34m(\u001b[0m\u001b[0mParent\u001b[0m\u001b[0;34m)\u001b[0m\u001b[0;34m:\u001b[0m\u001b[0;34m\u001b[0m\u001b[0;34m\u001b[0m\u001b[0m\n\u001b[0m\u001b[1;32m      5\u001b[0m \u001b[0;34m\u001b[0m\u001b[0m\n\u001b[1;32m      6\u001b[0m     \u001b[0morder\u001b[0m \u001b[0;34m=\u001b[0m \u001b[0;36m1\u001b[0m\u001b[0;34m\u001b[0m\u001b[0;34m\u001b[0m\u001b[0m\n",
      "\u001b[0;32m<ipython-input-174-0a2284c79e4b>\u001b[0m in \u001b[0;36m__new__\u001b[0;34m(cls, name, bases, methods, **meta_kwargs)\u001b[0m\n\u001b[1;32m     31\u001b[0m         \u001b[0mare\u001b[0m \u001b[0mconstructed\u001b[0m\u001b[0;34m.\u001b[0m\u001b[0;34m\u001b[0m\u001b[0;34m\u001b[0m\u001b[0m\n\u001b[1;32m     32\u001b[0m         \"\"\"\n\u001b[0;32m---> 33\u001b[0;31m         \u001b[0mclass_\u001b[0m \u001b[0;34m=\u001b[0m \u001b[0mtype\u001b[0m\u001b[0;34m.\u001b[0m\u001b[0m__new__\u001b[0m\u001b[0;34m(\u001b[0m\u001b[0mcls\u001b[0m\u001b[0;34m,\u001b[0m \u001b[0mname\u001b[0m\u001b[0;34m,\u001b[0m \u001b[0mbases\u001b[0m\u001b[0;34m,\u001b[0m \u001b[0mmethods\u001b[0m\u001b[0;34m)\u001b[0m\u001b[0;34m\u001b[0m\u001b[0;34m\u001b[0m\u001b[0m\n\u001b[0m\u001b[1;32m     34\u001b[0m         \u001b[0mclass_attrs\u001b[0m \u001b[0;34m=\u001b[0m \u001b[0mmeta_kwargs\u001b[0m\u001b[0;34m.\u001b[0m\u001b[0mget\u001b[0m\u001b[0;34m(\u001b[0m\u001b[0;34m'class_attrs'\u001b[0m\u001b[0;34m,\u001b[0m \u001b[0;34m[\u001b[0m\u001b[0;34m]\u001b[0m\u001b[0;34m)\u001b[0m\u001b[0;34m\u001b[0m\u001b[0;34m\u001b[0m\u001b[0m\n\u001b[1;32m     35\u001b[0m         \u001b[0minst_attrs\u001b[0m \u001b[0;34m=\u001b[0m \u001b[0mmeta_kwargs\u001b[0m\u001b[0;34m.\u001b[0m\u001b[0mget\u001b[0m\u001b[0;34m(\u001b[0m\u001b[0;34m'inst_attrs'\u001b[0m\u001b[0;34m,\u001b[0m \u001b[0;34m[\u001b[0m\u001b[0;34m]\u001b[0m\u001b[0;34m)\u001b[0m\u001b[0;34m\u001b[0m\u001b[0;34m\u001b[0m\u001b[0m\n",
      "\u001b[0;32m<ipython-input-174-0a2284c79e4b>\u001b[0m in \u001b[0;36m__init_subclass__\u001b[0;34m(cls, **kwargs)\u001b[0m\n\u001b[1;32m     41\u001b[0m                 \u001b[0;31m# Remaining checks occur at instantiation.\u001b[0m\u001b[0;34m\u001b[0m\u001b[0;34m\u001b[0m\u001b[0;34m\u001b[0m\u001b[0m\n\u001b[1;32m     42\u001b[0m                 \u001b[0;32mif\u001b[0m \u001b[0;32mnot\u001b[0m \u001b[0mhasattr\u001b[0m\u001b[0;34m(\u001b[0m\u001b[0mcls\u001b[0m\u001b[0;34m,\u001b[0m \u001b[0mattr\u001b[0m\u001b[0;34m)\u001b[0m\u001b[0;34m:\u001b[0m\u001b[0;34m\u001b[0m\u001b[0;34m\u001b[0m\u001b[0m\n\u001b[0;32m---> 43\u001b[0;31m                     raise TypeError(f'{cls} must have class attribute '\n\u001b[0m\u001b[1;32m     44\u001b[0m                                     f'`{attr}`.')\n\u001b[1;32m     45\u001b[0m \u001b[0;34m\u001b[0m\u001b[0m\n",
      "\u001b[0;31mTypeError\u001b[0m: <class '__main__.BadChild'> must have class attribute `is_val`."
     ]
    }
   ],
   "source": [
    "# Possesses one of the required class vars but the other is defined as an\n",
    "# instance var. Throws error at class definition. If we want to accept either,\n",
    "# we could use abc.abstractmethod or simply define our instance variables.\n",
    "class BadChild(Parent):\n",
    "    \n",
    "    order = 1\n",
    "    \n",
    "    def __init__(self, b, is_val):\n",
    "        self.b = b\n",
    "        self.is_val = is_val"
   ]
  },
  {
   "cell_type": "code",
   "execution_count": 181,
   "metadata": {
    "ExecuteTime": {
     "end_time": "2020-11-25T22:18:03.688107Z",
     "start_time": "2020-11-25T22:18:03.683509Z"
    }
   },
   "outputs": [],
   "source": [
    "# Trying to sneakily use a method to fulfill an instance var requirement.\n",
    "class TrickyChild(Parent):\n",
    "    \n",
    "    order = 33\n",
    "    is_val = True\n",
    "    \n",
    "    def __init__(self, a):\n",
    "        self.a = a\n",
    "        print('child init')\n",
    "        \n",
    "    def name(self):\n",
    "        print('in name')"
   ]
  },
  {
   "cell_type": "code",
   "execution_count": 182,
   "metadata": {
    "ExecuteTime": {
     "end_time": "2020-11-25T22:18:06.134108Z",
     "start_time": "2020-11-25T22:18:06.119762Z"
    },
    "scrolled": true
   },
   "outputs": [
    {
     "name": "stdout",
     "output_type": "stream",
     "text": [
      "child init\n"
     ]
    },
    {
     "ename": "TypeError",
     "evalue": "`name` must be an instance attribute, not a method.",
     "output_type": "error",
     "traceback": [
      "\u001b[0;31m---------------------------------------------------------------------------\u001b[0m",
      "\u001b[0;31mTypeError\u001b[0m                                 Traceback (most recent call last)",
      "\u001b[0;32m<ipython-input-182-06a057fee448>\u001b[0m in \u001b[0;36m<module>\u001b[0;34m\u001b[0m\n\u001b[0;32m----> 1\u001b[0;31m \u001b[0mtc\u001b[0m \u001b[0;34m=\u001b[0m \u001b[0mTrickyChild\u001b[0m\u001b[0;34m(\u001b[0m\u001b[0;36m44\u001b[0m\u001b[0;34m)\u001b[0m\u001b[0;34m\u001b[0m\u001b[0;34m\u001b[0m\u001b[0m\n\u001b[0m",
      "\u001b[0;32m<ipython-input-174-0a2284c79e4b>\u001b[0m in \u001b[0;36m__call__\u001b[0;34m(cls, *args, **kwargs)\u001b[0m\n\u001b[1;32m     79\u001b[0m                                 f'have instance attribute `{attr}`.')\n\u001b[1;32m     80\u001b[0m             \u001b[0;32melif\u001b[0m \u001b[0mismethod\u001b[0m\u001b[0;34m(\u001b[0m\u001b[0mgetattr\u001b[0m\u001b[0;34m(\u001b[0m\u001b[0minst\u001b[0m\u001b[0;34m,\u001b[0m \u001b[0mattr\u001b[0m\u001b[0;34m)\u001b[0m\u001b[0;34m)\u001b[0m\u001b[0;34m:\u001b[0m\u001b[0;34m\u001b[0m\u001b[0;34m\u001b[0m\u001b[0m\n\u001b[0;32m---> 81\u001b[0;31m                 raise TypeError(f'`{attr}` must be an instance attribute, '\n\u001b[0m\u001b[1;32m     82\u001b[0m                                 'not a method.')\n\u001b[1;32m     83\u001b[0m \u001b[0;34m\u001b[0m\u001b[0m\n",
      "\u001b[0;31mTypeError\u001b[0m: `name` must be an instance attribute, not a method."
     ]
    }
   ],
   "source": [
    "tc = TrickyChild(44)"
   ]
  },
  {
   "cell_type": "code",
   "execution_count": 183,
   "metadata": {
    "ExecuteTime": {
     "end_time": "2020-11-25T22:18:07.210242Z",
     "start_time": "2020-11-25T22:18:07.204535Z"
    }
   },
   "outputs": [],
   "source": [
    "# Trying to use a property to fulfill an instance var requirement \n",
    "# (acceptable).\n",
    "class TrickyChild2(Parent):\n",
    "    \n",
    "    order = 33\n",
    "    is_val = True\n",
    "    \n",
    "    def __init__(self, a):\n",
    "        self.a = a\n",
    "        print('child init')\n",
    "        \n",
    "    @property\n",
    "    def name(self):\n",
    "        return 'name'"
   ]
  },
  {
   "cell_type": "code",
   "execution_count": 184,
   "metadata": {
    "ExecuteTime": {
     "end_time": "2020-11-25T22:18:08.025231Z",
     "start_time": "2020-11-25T22:18:08.021405Z"
    },
    "scrolled": true
   },
   "outputs": [
    {
     "name": "stdout",
     "output_type": "stream",
     "text": [
      "child init\n"
     ]
    }
   ],
   "source": [
    "tc = TrickyChild2(44)"
   ]
  },
  {
   "cell_type": "code",
   "execution_count": 185,
   "metadata": {
    "ExecuteTime": {
     "end_time": "2020-11-25T22:18:08.719931Z",
     "start_time": "2020-11-25T22:18:08.714440Z"
    }
   },
   "outputs": [
    {
     "data": {
      "text/plain": [
       "'name'"
      ]
     },
     "execution_count": 185,
     "metadata": {},
     "output_type": "execute_result"
    }
   ],
   "source": [
    "tc.name"
   ]
  },
  {
   "cell_type": "code",
   "execution_count": 186,
   "metadata": {
    "ExecuteTime": {
     "end_time": "2020-11-25T22:18:09.927525Z",
     "start_time": "2020-11-25T22:18:09.912604Z"
    }
   },
   "outputs": [
    {
     "name": "stdout",
     "output_type": "stream",
     "text": [
      "child init\n"
     ]
    },
    {
     "data": {
      "text/plain": [
       "'name'"
      ]
     },
     "execution_count": 186,
     "metadata": {},
     "output_type": "execute_result"
    }
   ],
   "source": [
    "TrickyChild2(1).name"
   ]
  },
  {
   "cell_type": "code",
   "execution_count": 187,
   "metadata": {
    "ExecuteTime": {
     "end_time": "2020-11-25T22:18:10.636386Z",
     "start_time": "2020-11-25T22:18:10.629715Z"
    }
   },
   "outputs": [
    {
     "data": {
      "text/plain": [
       "<property at 0x10b0b84a8>"
      ]
     },
     "execution_count": 187,
     "metadata": {},
     "output_type": "execute_result"
    }
   ],
   "source": [
    "TrickyChild2.name"
   ]
  },
  {
   "cell_type": "code",
   "execution_count": 188,
   "metadata": {
    "ExecuteTime": {
     "end_time": "2020-11-25T22:18:23.450601Z",
     "start_time": "2020-11-25T22:18:23.446435Z"
    }
   },
   "outputs": [],
   "source": [
    "# Trying to use a property to fulfill a class var requirement. UNacceptable.\n",
    "class TrickyChild3(Parent):\n",
    "    \n",
    "    order = 33\n",
    "    \n",
    "    def __init__(self, a, name):\n",
    "        self.a = a\n",
    "        self.name = name\n",
    "        print('child init')\n",
    "        \n",
    "    @property\n",
    "    def is_val(self):\n",
    "        return 'is val'"
   ]
  },
  {
   "cell_type": "code",
   "execution_count": 189,
   "metadata": {
    "ExecuteTime": {
     "end_time": "2020-11-25T22:18:24.789177Z",
     "start_time": "2020-11-25T22:18:24.775257Z"
    },
    "scrolled": true
   },
   "outputs": [
    {
     "name": "stdout",
     "output_type": "stream",
     "text": [
      "child init\n"
     ]
    },
    {
     "ename": "TypeError",
     "evalue": "`is_val` must be a class attribute, not a property. Properties fulfill instance attribute requirements but not class attribute requirements.",
     "output_type": "error",
     "traceback": [
      "\u001b[0;31m---------------------------------------------------------------------------\u001b[0m",
      "\u001b[0;31mTypeError\u001b[0m                                 Traceback (most recent call last)",
      "\u001b[0;32m<ipython-input-189-7748292bef5a>\u001b[0m in \u001b[0;36m<module>\u001b[0;34m\u001b[0m\n\u001b[0;32m----> 1\u001b[0;31m \u001b[0mtc\u001b[0m \u001b[0;34m=\u001b[0m \u001b[0mTrickyChild3\u001b[0m\u001b[0;34m(\u001b[0m\u001b[0;36m44\u001b[0m\u001b[0;34m,\u001b[0m \u001b[0;34m'sam'\u001b[0m\u001b[0;34m)\u001b[0m\u001b[0;34m\u001b[0m\u001b[0;34m\u001b[0m\u001b[0m\n\u001b[0m",
      "\u001b[0;32m<ipython-input-174-0a2284c79e4b>\u001b[0m in \u001b[0;36m__call__\u001b[0;34m(cls, *args, **kwargs)\u001b[0m\n\u001b[1;32m     93\u001b[0m             \u001b[0;32melif\u001b[0m \u001b[0misinstance\u001b[0m\u001b[0;34m(\u001b[0m\u001b[0mgetattr\u001b[0m\u001b[0;34m(\u001b[0m\u001b[0mcls\u001b[0m\u001b[0;34m,\u001b[0m \u001b[0mattr\u001b[0m\u001b[0;34m)\u001b[0m\u001b[0;34m,\u001b[0m \u001b[0mproperty\u001b[0m\u001b[0;34m)\u001b[0m\u001b[0;34m:\u001b[0m\u001b[0;34m\u001b[0m\u001b[0;34m\u001b[0m\u001b[0m\n\u001b[1;32m     94\u001b[0m                 raise TypeError(\n\u001b[0;32m---> 95\u001b[0;31m                     \u001b[0;34mf'`{attr}` must be a class attribute, not a property. '\u001b[0m\u001b[0;34m\u001b[0m\u001b[0;34m\u001b[0m\u001b[0m\n\u001b[0m\u001b[1;32m     96\u001b[0m                     \u001b[0;34m'Properties fulfill instance attribute requirements but '\u001b[0m\u001b[0;34m\u001b[0m\u001b[0;34m\u001b[0m\u001b[0m\n\u001b[1;32m     97\u001b[0m                     \u001b[0;34m'not class attribute requirements.'\u001b[0m\u001b[0;34m\u001b[0m\u001b[0;34m\u001b[0m\u001b[0m\n",
      "\u001b[0;31mTypeError\u001b[0m: `is_val` must be a class attribute, not a property. Properties fulfill instance attribute requirements but not class attribute requirements."
     ]
    }
   ],
   "source": [
    "tc = TrickyChild3(44, 'sam')"
   ]
  },
  {
   "cell_type": "code",
   "execution_count": 190,
   "metadata": {
    "ExecuteTime": {
     "end_time": "2020-11-25T22:18:31.613743Z",
     "start_time": "2020-11-25T22:18:31.607170Z"
    }
   },
   "outputs": [],
   "source": [
    "# Trying to use a method to fulfill a class var req. UNacceptable.\n",
    "class TrickyChild4(Parent):\n",
    "    \n",
    "    order = 33\n",
    "    \n",
    "    def __init__(self, a, name):\n",
    "        self.a = a\n",
    "        self.name = name\n",
    "        print('child init')\n",
    "        \n",
    "    def is_val(self):\n",
    "        print(self, type(self))\n",
    "        return self.a, 'is_val'\n",
    "        \n",
    "    def testing(self):\n",
    "        return self.a*2, 'is_val'"
   ]
  },
  {
   "cell_type": "code",
   "execution_count": 191,
   "metadata": {
    "ExecuteTime": {
     "end_time": "2020-11-25T22:18:32.238383Z",
     "start_time": "2020-11-25T22:18:32.223166Z"
    },
    "scrolled": false
   },
   "outputs": [
    {
     "name": "stdout",
     "output_type": "stream",
     "text": [
      "child init\n"
     ]
    },
    {
     "ename": "TypeError",
     "evalue": "`is_val` must be a class attribute, not a method.",
     "output_type": "error",
     "traceback": [
      "\u001b[0;31m---------------------------------------------------------------------------\u001b[0m",
      "\u001b[0;31mTypeError\u001b[0m                                 Traceback (most recent call last)",
      "\u001b[0;32m<ipython-input-191-4bd69b22702b>\u001b[0m in \u001b[0;36m<module>\u001b[0;34m\u001b[0m\n\u001b[0;32m----> 1\u001b[0;31m \u001b[0mtc\u001b[0m \u001b[0;34m=\u001b[0m \u001b[0mTrickyChild4\u001b[0m\u001b[0;34m(\u001b[0m\u001b[0;36m44\u001b[0m\u001b[0;34m,\u001b[0m \u001b[0;34m'sam'\u001b[0m\u001b[0;34m)\u001b[0m\u001b[0;34m\u001b[0m\u001b[0;34m\u001b[0m\u001b[0m\n\u001b[0m",
      "\u001b[0;32m<ipython-input-174-0a2284c79e4b>\u001b[0m in \u001b[0;36m__call__\u001b[0;34m(cls, *args, **kwargs)\u001b[0m\n\u001b[1;32m     89\u001b[0m             \u001b[0;31m# cls, not inst. staticmethod can be retrieved from either.\u001b[0m\u001b[0;34m\u001b[0m\u001b[0;34m\u001b[0m\u001b[0;34m\u001b[0m\u001b[0m\n\u001b[1;32m     90\u001b[0m             \u001b[0;32mif\u001b[0m \u001b[0;34m(\u001b[0m\u001b[0mismethod\u001b[0m\u001b[0;34m(\u001b[0m\u001b[0mgetattr\u001b[0m\u001b[0;34m(\u001b[0m\u001b[0minst\u001b[0m\u001b[0;34m,\u001b[0m \u001b[0mattr\u001b[0m\u001b[0;34m)\u001b[0m\u001b[0;34m)\u001b[0m \u001b[0;32mor\u001b[0m \u001b[0mhasstatic\u001b[0m\u001b[0;34m(\u001b[0m\u001b[0minst\u001b[0m\u001b[0;34m,\u001b[0m \u001b[0mattr\u001b[0m\u001b[0;34m)\u001b[0m\u001b[0;34m)\u001b[0m\u001b[0;34m:\u001b[0m\u001b[0;34m\u001b[0m\u001b[0;34m\u001b[0m\u001b[0m\n\u001b[0;32m---> 91\u001b[0;31m                 raise TypeError(f'`{attr}` must be a class attribute, not a '\n\u001b[0m\u001b[1;32m     92\u001b[0m                                 'method.')\n\u001b[1;32m     93\u001b[0m             \u001b[0;32melif\u001b[0m \u001b[0misinstance\u001b[0m\u001b[0;34m(\u001b[0m\u001b[0mgetattr\u001b[0m\u001b[0;34m(\u001b[0m\u001b[0mcls\u001b[0m\u001b[0;34m,\u001b[0m \u001b[0mattr\u001b[0m\u001b[0;34m)\u001b[0m\u001b[0;34m,\u001b[0m \u001b[0mproperty\u001b[0m\u001b[0;34m)\u001b[0m\u001b[0;34m:\u001b[0m\u001b[0;34m\u001b[0m\u001b[0;34m\u001b[0m\u001b[0m\n",
      "\u001b[0;31mTypeError\u001b[0m: `is_val` must be a class attribute, not a method."
     ]
    }
   ],
   "source": [
    "tc = TrickyChild4(44, 'sam')"
   ]
  },
  {
   "cell_type": "code",
   "execution_count": 192,
   "metadata": {
    "ExecuteTime": {
     "end_time": "2020-11-25T22:18:35.949307Z",
     "start_time": "2020-11-25T22:18:35.944716Z"
    }
   },
   "outputs": [],
   "source": [
    "# Trying to use a classmethod to fulfill a class var req. UNacceptable.\n",
    "class TrickyChild5(Parent):\n",
    "    \n",
    "    order = 33\n",
    "    \n",
    "    def __init__(self, a, name):\n",
    "        self.a = a\n",
    "        self.name = name\n",
    "        print('child init')\n",
    "        \n",
    "    @classmethod\n",
    "    def is_val(cls):\n",
    "        return 'testing classmethod'"
   ]
  },
  {
   "cell_type": "code",
   "execution_count": 193,
   "metadata": {
    "ExecuteTime": {
     "end_time": "2020-11-25T22:18:37.311386Z",
     "start_time": "2020-11-25T22:18:37.282636Z"
    },
    "scrolled": true
   },
   "outputs": [
    {
     "name": "stdout",
     "output_type": "stream",
     "text": [
      "child init\n"
     ]
    },
    {
     "ename": "TypeError",
     "evalue": "`is_val` must be a class attribute, not a method.",
     "output_type": "error",
     "traceback": [
      "\u001b[0;31m---------------------------------------------------------------------------\u001b[0m",
      "\u001b[0;31mTypeError\u001b[0m                                 Traceback (most recent call last)",
      "\u001b[0;32m<ipython-input-193-91962abed3e3>\u001b[0m in \u001b[0;36m<module>\u001b[0;34m\u001b[0m\n\u001b[0;32m----> 1\u001b[0;31m \u001b[0mtc\u001b[0m \u001b[0;34m=\u001b[0m \u001b[0mTrickyChild5\u001b[0m\u001b[0;34m(\u001b[0m\u001b[0;36m44\u001b[0m\u001b[0;34m,\u001b[0m \u001b[0;34m'sam'\u001b[0m\u001b[0;34m)\u001b[0m\u001b[0;34m\u001b[0m\u001b[0;34m\u001b[0m\u001b[0m\n\u001b[0m",
      "\u001b[0;32m<ipython-input-174-0a2284c79e4b>\u001b[0m in \u001b[0;36m__call__\u001b[0;34m(cls, *args, **kwargs)\u001b[0m\n\u001b[1;32m     89\u001b[0m             \u001b[0;31m# cls, not inst. staticmethod can be retrieved from either.\u001b[0m\u001b[0;34m\u001b[0m\u001b[0;34m\u001b[0m\u001b[0;34m\u001b[0m\u001b[0m\n\u001b[1;32m     90\u001b[0m             \u001b[0;32mif\u001b[0m \u001b[0;34m(\u001b[0m\u001b[0mismethod\u001b[0m\u001b[0;34m(\u001b[0m\u001b[0mgetattr\u001b[0m\u001b[0;34m(\u001b[0m\u001b[0minst\u001b[0m\u001b[0;34m,\u001b[0m \u001b[0mattr\u001b[0m\u001b[0;34m)\u001b[0m\u001b[0;34m)\u001b[0m \u001b[0;32mor\u001b[0m \u001b[0mhasstatic\u001b[0m\u001b[0;34m(\u001b[0m\u001b[0minst\u001b[0m\u001b[0;34m,\u001b[0m \u001b[0mattr\u001b[0m\u001b[0;34m)\u001b[0m\u001b[0;34m)\u001b[0m\u001b[0;34m:\u001b[0m\u001b[0;34m\u001b[0m\u001b[0;34m\u001b[0m\u001b[0m\n\u001b[0;32m---> 91\u001b[0;31m                 raise TypeError(f'`{attr}` must be a class attribute, not a '\n\u001b[0m\u001b[1;32m     92\u001b[0m                                 'method.')\n\u001b[1;32m     93\u001b[0m             \u001b[0;32melif\u001b[0m \u001b[0misinstance\u001b[0m\u001b[0;34m(\u001b[0m\u001b[0mgetattr\u001b[0m\u001b[0;34m(\u001b[0m\u001b[0mcls\u001b[0m\u001b[0;34m,\u001b[0m \u001b[0mattr\u001b[0m\u001b[0;34m)\u001b[0m\u001b[0;34m,\u001b[0m \u001b[0mproperty\u001b[0m\u001b[0;34m)\u001b[0m\u001b[0;34m:\u001b[0m\u001b[0;34m\u001b[0m\u001b[0;34m\u001b[0m\u001b[0m\n",
      "\u001b[0;31mTypeError\u001b[0m: `is_val` must be a class attribute, not a method."
     ]
    }
   ],
   "source": [
    "tc = TrickyChild5(44, 'sam')"
   ]
  },
  {
   "cell_type": "code",
   "execution_count": 194,
   "metadata": {
    "ExecuteTime": {
     "end_time": "2020-11-25T22:18:35.949307Z",
     "start_time": "2020-11-25T22:18:35.944716Z"
    }
   },
   "outputs": [],
   "source": [
    "# Trying to use a staticmethod to fulfill a class var req. UNacceptable.\n",
    "class TrickyChild6(Parent):\n",
    "    \n",
    "    order = 33\n",
    "    \n",
    "    def __init__(self, a, name):\n",
    "        self.a = a\n",
    "        self.name = name\n",
    "        print('child init')\n",
    "        \n",
    "    @staticmethod\n",
    "    def is_val(a):\n",
    "        return a"
   ]
  },
  {
   "cell_type": "code",
   "execution_count": 195,
   "metadata": {
    "ExecuteTime": {
     "end_time": "2020-11-25T22:18:37.311386Z",
     "start_time": "2020-11-25T22:18:37.282636Z"
    },
    "scrolled": true
   },
   "outputs": [
    {
     "name": "stdout",
     "output_type": "stream",
     "text": [
      "child init\n"
     ]
    },
    {
     "ename": "TypeError",
     "evalue": "`is_val` must be a class attribute, not a method.",
     "output_type": "error",
     "traceback": [
      "\u001b[0;31m---------------------------------------------------------------------------\u001b[0m",
      "\u001b[0;31mTypeError\u001b[0m                                 Traceback (most recent call last)",
      "\u001b[0;32m<ipython-input-195-9c6101162906>\u001b[0m in \u001b[0;36m<module>\u001b[0;34m\u001b[0m\n\u001b[0;32m----> 1\u001b[0;31m \u001b[0mtc\u001b[0m \u001b[0;34m=\u001b[0m \u001b[0mTrickyChild6\u001b[0m\u001b[0;34m(\u001b[0m\u001b[0;36m44\u001b[0m\u001b[0;34m,\u001b[0m \u001b[0;34m'sam'\u001b[0m\u001b[0;34m)\u001b[0m\u001b[0;34m\u001b[0m\u001b[0;34m\u001b[0m\u001b[0m\n\u001b[0m",
      "\u001b[0;32m<ipython-input-174-0a2284c79e4b>\u001b[0m in \u001b[0;36m__call__\u001b[0;34m(cls, *args, **kwargs)\u001b[0m\n\u001b[1;32m     89\u001b[0m             \u001b[0;31m# cls, not inst. staticmethod can be retrieved from either.\u001b[0m\u001b[0;34m\u001b[0m\u001b[0;34m\u001b[0m\u001b[0;34m\u001b[0m\u001b[0m\n\u001b[1;32m     90\u001b[0m             \u001b[0;32mif\u001b[0m \u001b[0;34m(\u001b[0m\u001b[0mismethod\u001b[0m\u001b[0;34m(\u001b[0m\u001b[0mgetattr\u001b[0m\u001b[0;34m(\u001b[0m\u001b[0minst\u001b[0m\u001b[0;34m,\u001b[0m \u001b[0mattr\u001b[0m\u001b[0;34m)\u001b[0m\u001b[0;34m)\u001b[0m \u001b[0;32mor\u001b[0m \u001b[0mhasstatic\u001b[0m\u001b[0;34m(\u001b[0m\u001b[0minst\u001b[0m\u001b[0;34m,\u001b[0m \u001b[0mattr\u001b[0m\u001b[0;34m)\u001b[0m\u001b[0;34m)\u001b[0m\u001b[0;34m:\u001b[0m\u001b[0;34m\u001b[0m\u001b[0;34m\u001b[0m\u001b[0m\n\u001b[0;32m---> 91\u001b[0;31m                 raise TypeError(f'`{attr}` must be a class attribute, not a '\n\u001b[0m\u001b[1;32m     92\u001b[0m                                 'method.')\n\u001b[1;32m     93\u001b[0m             \u001b[0;32melif\u001b[0m \u001b[0misinstance\u001b[0m\u001b[0;34m(\u001b[0m\u001b[0mgetattr\u001b[0m\u001b[0;34m(\u001b[0m\u001b[0mcls\u001b[0m\u001b[0;34m,\u001b[0m \u001b[0mattr\u001b[0m\u001b[0;34m)\u001b[0m\u001b[0;34m,\u001b[0m \u001b[0mproperty\u001b[0m\u001b[0;34m)\u001b[0m\u001b[0;34m:\u001b[0m\u001b[0;34m\u001b[0m\u001b[0;34m\u001b[0m\u001b[0m\n",
      "\u001b[0;31mTypeError\u001b[0m: `is_val` must be a class attribute, not a method."
     ]
    }
   ],
   "source": [
    "tc = TrickyChild6(44, 'sam')"
   ]
  },
  {
   "cell_type": "code",
   "execution_count": 196,
   "metadata": {
    "ExecuteTime": {
     "end_time": "2020-11-25T22:18:37.984014Z",
     "start_time": "2020-11-25T22:18:37.976428Z"
    }
   },
   "outputs": [],
   "source": [
    "# Implements desired interface.\n",
    "class GoodChild(Parent):\n",
    "    \n",
    "    order = 100\n",
    "    is_val = False\n",
    "    \n",
    "    def __init__(self, name):\n",
    "        self.name = name\n",
    "        \n",
    "    def walk(self):\n",
    "        return self.order, self.is_val, self.name"
   ]
  },
  {
   "cell_type": "code",
   "execution_count": 197,
   "metadata": {
    "ExecuteTime": {
     "end_time": "2020-11-25T22:18:38.748960Z",
     "start_time": "2020-11-25T22:18:38.746440Z"
    }
   },
   "outputs": [],
   "source": [
    "ian = GoodChild('Ian')"
   ]
  },
  {
   "cell_type": "code",
   "execution_count": 198,
   "metadata": {
    "ExecuteTime": {
     "end_time": "2020-11-25T22:18:39.076294Z",
     "start_time": "2020-11-25T22:18:39.070290Z"
    }
   },
   "outputs": [
    {
     "data": {
      "text/plain": [
       "(100, False, 'Ian')"
      ]
     },
     "execution_count": 198,
     "metadata": {},
     "output_type": "execute_result"
    }
   ],
   "source": [
    "ian.walk()"
   ]
  },
  {
   "cell_type": "markdown",
   "metadata": {},
   "source": [
    "## LSH"
   ]
  },
  {
   "cell_type": "code",
   "execution_count": 30,
   "metadata": {},
   "outputs": [],
   "source": [
    "from datasketch import lsh, MinHashLSH, MinHash, MinHashLSHForest\n",
    "\n",
    "from htools import *"
   ]
  },
  {
   "cell_type": "code",
   "execution_count": 2,
   "metadata": {},
   "outputs": [],
   "source": [
    "set1 = set(['minhash', 'is', 'a', 'probabilistic', 'data', 'structure', 'for',\n",
    "            'estimating', 'the', 'similarity', 'between', 'datasets'])\n",
    "set2 = set(['minhash', 'is', 'a', 'probability', 'data', 'structure', 'for',\n",
    "            'estimating', 'the', 'similarity', 'between', 'documents'])\n",
    "set3 = set(['minhash', 'is', 'probability', 'data', 'structure', 'for',\n",
    "            'estimating', 'the', 'similarity', 'between', 'documents'])\n",
    "\n",
    "m1 = MinHash(num_perm=128)\n",
    "m2 = MinHash(num_perm=128)\n",
    "m3 = MinHash(num_perm=128)\n",
    "for d in set1:\n",
    "    m1.update(d.encode('utf8'))\n",
    "for d in set2:\n",
    "    m2.update(d.encode('utf8'))\n",
    "for d in set3:\n",
    "    m3.update(d.encode('utf8'))\n",
    "\n",
    "# Create LSH index\n",
    "lsh = MinHashLSH(threshold=0.5, num_perm=128)\n",
    "lsh.insert(\"m2\", m2)\n",
    "lsh.insert(\"m3\", m3)\n",
    "result = lsh.query(m1)"
   ]
  },
  {
   "cell_type": "code",
   "execution_count": 3,
   "metadata": {},
   "outputs": [],
   "source": [
    "def ngrams(word, n=3, step=1, drop_last=False):\n",
    "    \"\"\"To get non-overlapping sequences, pass in same value for `step` as `n`.\"\"\"\n",
    "    stop = max(1, step+len(word)-n)\n",
    "    ngrams_ = []\n",
    "    for i in range(0, stop, step):\n",
    "        ngrams_.append(word[i:i+n])\n",
    "    if drop_last and len(ngrams_[-1]) < n: ngrams_ = ngrams_[:-1]\n",
    "    return ngrams_"
   ]
  },
  {
   "cell_type": "code",
   "execution_count": 35,
   "metadata": {},
   "outputs": [],
   "source": [
    "w = 'dinosaur'\n",
    "tw = 'I'\n",
    "ws = ['dino', 'rhino', 'dog', 'cat', 'lion', 'tyrannosaurus rex',\n",
    "      'tiger', 'owl', 'rhinocerous', 'kino']\n",
    "s = 'The mailman was running late today, possibly due to the heavy '\\\n",
    "    'snowfall from the previous night.'"
   ]
  },
  {
   "cell_type": "code",
   "execution_count": 6,
   "metadata": {
    "scrolled": true
   },
   "outputs": [
    {
     "data": {
      "text/plain": [
       "['din', 'ino', 'nos', 'osa', 'sau', 'aur']"
      ]
     },
     "execution_count": 6,
     "metadata": {},
     "output_type": "execute_result"
    }
   ],
   "source": [
    "ngrams(w)"
   ]
  },
  {
   "cell_type": "code",
   "execution_count": 7,
   "metadata": {},
   "outputs": [
    {
     "data": {
      "text/plain": [
       "['di', 'in', 'no', 'os', 'sa', 'au', 'ur']"
      ]
     },
     "execution_count": 7,
     "metadata": {},
     "output_type": "execute_result"
    }
   ],
   "source": [
    "ngrams(w, 2)"
   ]
  },
  {
   "cell_type": "code",
   "execution_count": 9,
   "metadata": {},
   "outputs": [
    {
     "data": {
      "text/plain": [
       "['din', 'osa', 'ur']"
      ]
     },
     "execution_count": 9,
     "metadata": {},
     "output_type": "execute_result"
    }
   ],
   "source": [
    "ngrams(w, 3, 3)"
   ]
  },
  {
   "cell_type": "code",
   "execution_count": 12,
   "metadata": {},
   "outputs": [
    {
     "data": {
      "text/plain": [
       "['din', 'osa']"
      ]
     },
     "execution_count": 12,
     "metadata": {},
     "output_type": "execute_result"
    }
   ],
   "source": [
    "ngrams(w, 3, 3, True)"
   ]
  },
  {
   "cell_type": "code",
   "execution_count": 37,
   "metadata": {
    "scrolled": true
   },
   "outputs": [
    {
     "data": {
      "text/plain": [
       "['The',\n",
       " 'he ',\n",
       " 'e m',\n",
       " ' ma',\n",
       " 'mai',\n",
       " 'ail',\n",
       " 'ilm',\n",
       " 'lma',\n",
       " 'man',\n",
       " 'an ',\n",
       " 'n w',\n",
       " ' wa',\n",
       " 'was',\n",
       " 'as ',\n",
       " 's r',\n",
       " ' ru',\n",
       " 'run',\n",
       " 'unn',\n",
       " 'nni',\n",
       " 'nin',\n",
       " 'ing',\n",
       " 'ng ',\n",
       " 'g l',\n",
       " ' la',\n",
       " 'lat',\n",
       " 'ate',\n",
       " 'te ',\n",
       " 'e t',\n",
       " ' to',\n",
       " 'tod',\n",
       " 'oda',\n",
       " 'day',\n",
       " 'ay,',\n",
       " 'y, ',\n",
       " ', p',\n",
       " ' po',\n",
       " 'pos',\n",
       " 'oss',\n",
       " 'ssi',\n",
       " 'sib',\n",
       " 'ibl',\n",
       " 'bly',\n",
       " 'ly ',\n",
       " 'y d',\n",
       " ' du',\n",
       " 'due',\n",
       " 'ue ',\n",
       " 'e t',\n",
       " ' to',\n",
       " 'to ',\n",
       " 'o t',\n",
       " ' th',\n",
       " 'the',\n",
       " 'he ',\n",
       " 'e h',\n",
       " ' he',\n",
       " 'hea',\n",
       " 'eav',\n",
       " 'avy',\n",
       " 'vy ',\n",
       " 'y s',\n",
       " ' sn',\n",
       " 'sno',\n",
       " 'now',\n",
       " 'owf',\n",
       " 'wfa',\n",
       " 'fal',\n",
       " 'all',\n",
       " 'll ',\n",
       " 'l f',\n",
       " ' fr',\n",
       " 'fro',\n",
       " 'rom',\n",
       " 'om ',\n",
       " 'm t',\n",
       " ' th',\n",
       " 'the',\n",
       " 'he ',\n",
       " 'e p',\n",
       " ' pr',\n",
       " 'pre',\n",
       " 'rev',\n",
       " 'evi',\n",
       " 'vio',\n",
       " 'iou',\n",
       " 'ous',\n",
       " 'us ',\n",
       " 's n',\n",
       " ' ni',\n",
       " 'nig',\n",
       " 'igh',\n",
       " 'ght',\n",
       " 'ht.']"
      ]
     },
     "execution_count": 37,
     "metadata": {},
     "output_type": "execute_result"
    }
   ],
   "source": [
    "ngrams(s)"
   ]
  },
  {
   "cell_type": "code",
   "execution_count": 13,
   "metadata": {},
   "outputs": [],
   "source": [
    "def lsh_hash_word(word, num_perm=128, **ngram_kwargs):\n",
    "    mhash = MinHash(num_perm=num_perm)\n",
    "    for ng in ngrams(word, **ngram_kwargs):\n",
    "        mhash.update(ng.encode('utf8'))\n",
    "    return mhash"
   ]
  },
  {
   "cell_type": "code",
   "execution_count": 16,
   "metadata": {},
   "outputs": [],
   "source": [
    "m = lsh_hash_word(w)"
   ]
  },
  {
   "cell_type": "code",
   "execution_count": 22,
   "metadata": {},
   "outputs": [],
   "source": [
    "forest = MinHashLSHForest(num_perm=128)\n",
    "\n",
    "for i, word in enumerate(ws):\n",
    "    forest.add(i, lsh_hash_word(word))\n",
    "forest.index()"
   ]
  },
  {
   "cell_type": "code",
   "execution_count": 24,
   "metadata": {},
   "outputs": [
    {
     "data": {
      "text/plain": [
       "[8, 0, 5]"
      ]
     },
     "execution_count": 24,
     "metadata": {},
     "output_type": "execute_result"
    }
   ],
   "source": [
    "forest.query(lsh_hash_word(w), 3)"
   ]
  },
  {
   "cell_type": "code",
   "execution_count": 26,
   "metadata": {},
   "outputs": [
    {
     "data": {
      "text/plain": [
       "['dino',\n",
       " 'rhino',\n",
       " 'dog',\n",
       " 'cat',\n",
       " 'lion',\n",
       " 'tyrannosaurus rex',\n",
       " 'tiger',\n",
       " 'owl',\n",
       " 'rhinocerous',\n",
       " 'kino']"
      ]
     },
     "execution_count": 26,
     "metadata": {},
     "output_type": "execute_result"
    }
   ],
   "source": [
    "ws"
   ]
  },
  {
   "cell_type": "code",
   "execution_count": 28,
   "metadata": {},
   "outputs": [
    {
     "data": {
      "text/plain": [
       "[8, 0, 5]"
      ]
     },
     "execution_count": 28,
     "metadata": {},
     "output_type": "execute_result"
    }
   ],
   "source": [
    "idx = forest.query(lsh_hash_word(w), 3)\n",
    "idx"
   ]
  },
  {
   "cell_type": "code",
   "execution_count": 32,
   "metadata": {},
   "outputs": [
    {
     "data": {
      "text/plain": [
       "['dino', 'tyrannosaurus rex', 'rhinocerous']"
      ]
     },
     "execution_count": 32,
     "metadata": {},
     "output_type": "execute_result"
    }
   ],
   "source": [
    "select(ws, idx)"
   ]
  }
 ],
 "metadata": {
  "kernelspec": {
   "display_name": "Python 3",
   "language": "python",
   "name": "python3"
  },
  "language_info": {
   "codemirror_mode": {
    "name": "ipython",
    "version": 3
   },
   "file_extension": ".py",
   "mimetype": "text/x-python",
   "name": "python",
   "nbconvert_exporter": "python",
   "pygments_lexer": "ipython3",
   "version": "3.7.3"
  }
 },
 "nbformat": 4,
 "nbformat_minor": 2
}
