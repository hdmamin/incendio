{
 "cells": [
  {
   "cell_type": "markdown",
   "metadata": {},
   "source": [
    "## Abstract Attributes\n",
    "\n",
    "Not working yet."
   ]
  },
  {
   "cell_type": "code",
   "execution_count": 120,
   "metadata": {
    "ExecuteTime": {
     "end_time": "2020-11-23T05:51:35.156336Z",
     "start_time": "2020-11-23T05:51:35.150651Z"
    }
   },
   "outputs": [],
   "source": [
    "def abstractattrs(*attrs):\n",
    "    def wrapper(cls):\n",
    "        \n",
    "        def method(cls, *args, **kwargs):\n",
    "            super(cls, cls).__init_subclass__(*args, **kwargs)\n",
    "            for attr in attrs:\n",
    "                if not hasattr(cls, attr):\n",
    "                    raise RuntimeError(f'Class must have attribute {attr}.') \n",
    "                    \n",
    "        setattr(cls, '__init_subclass__', classmethod(method))\n",
    "        return cls\n",
    "    return wrapper              "
   ]
  },
  {
   "cell_type": "code",
   "execution_count": 121,
   "metadata": {
    "ExecuteTime": {
     "end_time": "2020-11-23T05:51:35.759875Z",
     "start_time": "2020-11-23T05:51:35.756318Z"
    }
   },
   "outputs": [],
   "source": [
    "@abstractattrs('name', 'age')\n",
    "class Base:\n",
    "    def __init__(self, age=7):\n",
    "        self.age = age "
   ]
  },
  {
   "cell_type": "code",
   "execution_count": 122,
   "metadata": {
    "ExecuteTime": {
     "end_time": "2020-11-23T05:51:40.646466Z",
     "start_time": "2020-11-23T05:51:36.471154Z"
    }
   },
   "outputs": [
    {
     "ename": "RecursionError",
     "evalue": "maximum recursion depth exceeded while calling a Python object",
     "output_type": "error",
     "traceback": [
      "\u001b[0;31m---------------------------------------------------------------------------\u001b[0m",
      "\u001b[0;31mRecursionError\u001b[0m                            Traceback (most recent call last)",
      "\u001b[0;32m<ipython-input-122-75cc12bc3db6>\u001b[0m in \u001b[0;36m<module>\u001b[0;34m\u001b[0m\n\u001b[0;32m----> 1\u001b[0;31m \u001b[0;32mclass\u001b[0m \u001b[0mChild\u001b[0m\u001b[0;34m(\u001b[0m\u001b[0mBase\u001b[0m\u001b[0;34m)\u001b[0m\u001b[0;34m:\u001b[0m\u001b[0;34m\u001b[0m\u001b[0;34m\u001b[0m\u001b[0m\n\u001b[0m\u001b[1;32m      2\u001b[0m     \u001b[0ma\u001b[0m \u001b[0;34m=\u001b[0m \u001b[0;34m'a'\u001b[0m\u001b[0;34m\u001b[0m\u001b[0;34m\u001b[0m\u001b[0m\n",
      "\u001b[0;32m<ipython-input-120-cedaaefac923>\u001b[0m in \u001b[0;36mmethod\u001b[0;34m(cls, *args, **kwargs)\u001b[0m\n\u001b[1;32m      3\u001b[0m \u001b[0;34m\u001b[0m\u001b[0m\n\u001b[1;32m      4\u001b[0m         \u001b[0;32mdef\u001b[0m \u001b[0mmethod\u001b[0m\u001b[0;34m(\u001b[0m\u001b[0mcls\u001b[0m\u001b[0;34m,\u001b[0m \u001b[0;34m*\u001b[0m\u001b[0margs\u001b[0m\u001b[0;34m,\u001b[0m \u001b[0;34m**\u001b[0m\u001b[0mkwargs\u001b[0m\u001b[0;34m)\u001b[0m\u001b[0;34m:\u001b[0m\u001b[0;34m\u001b[0m\u001b[0;34m\u001b[0m\u001b[0m\n\u001b[0;32m----> 5\u001b[0;31m             \u001b[0msuper\u001b[0m\u001b[0;34m(\u001b[0m\u001b[0mcls\u001b[0m\u001b[0;34m,\u001b[0m \u001b[0mcls\u001b[0m\u001b[0;34m)\u001b[0m\u001b[0;34m.\u001b[0m\u001b[0m__init_subclass__\u001b[0m\u001b[0;34m(\u001b[0m\u001b[0;34m*\u001b[0m\u001b[0margs\u001b[0m\u001b[0;34m,\u001b[0m \u001b[0;34m**\u001b[0m\u001b[0mkwargs\u001b[0m\u001b[0;34m)\u001b[0m\u001b[0;34m\u001b[0m\u001b[0;34m\u001b[0m\u001b[0m\n\u001b[0m\u001b[1;32m      6\u001b[0m             \u001b[0;32mfor\u001b[0m \u001b[0mattr\u001b[0m \u001b[0;32min\u001b[0m \u001b[0mattrs\u001b[0m\u001b[0;34m:\u001b[0m\u001b[0;34m\u001b[0m\u001b[0;34m\u001b[0m\u001b[0m\n\u001b[1;32m      7\u001b[0m                 \u001b[0;32mif\u001b[0m \u001b[0;32mnot\u001b[0m \u001b[0mhasattr\u001b[0m\u001b[0;34m(\u001b[0m\u001b[0mcls\u001b[0m\u001b[0;34m,\u001b[0m \u001b[0mattr\u001b[0m\u001b[0;34m)\u001b[0m\u001b[0;34m:\u001b[0m\u001b[0;34m\u001b[0m\u001b[0;34m\u001b[0m\u001b[0m\n",
      "... last 1 frames repeated, from the frame below ...\n",
      "\u001b[0;32m<ipython-input-120-cedaaefac923>\u001b[0m in \u001b[0;36mmethod\u001b[0;34m(cls, *args, **kwargs)\u001b[0m\n\u001b[1;32m      3\u001b[0m \u001b[0;34m\u001b[0m\u001b[0m\n\u001b[1;32m      4\u001b[0m         \u001b[0;32mdef\u001b[0m \u001b[0mmethod\u001b[0m\u001b[0;34m(\u001b[0m\u001b[0mcls\u001b[0m\u001b[0;34m,\u001b[0m \u001b[0;34m*\u001b[0m\u001b[0margs\u001b[0m\u001b[0;34m,\u001b[0m \u001b[0;34m**\u001b[0m\u001b[0mkwargs\u001b[0m\u001b[0;34m)\u001b[0m\u001b[0;34m:\u001b[0m\u001b[0;34m\u001b[0m\u001b[0;34m\u001b[0m\u001b[0m\n\u001b[0;32m----> 5\u001b[0;31m             \u001b[0msuper\u001b[0m\u001b[0;34m(\u001b[0m\u001b[0mcls\u001b[0m\u001b[0;34m,\u001b[0m \u001b[0mcls\u001b[0m\u001b[0;34m)\u001b[0m\u001b[0;34m.\u001b[0m\u001b[0m__init_subclass__\u001b[0m\u001b[0;34m(\u001b[0m\u001b[0;34m*\u001b[0m\u001b[0margs\u001b[0m\u001b[0;34m,\u001b[0m \u001b[0;34m**\u001b[0m\u001b[0mkwargs\u001b[0m\u001b[0;34m)\u001b[0m\u001b[0;34m\u001b[0m\u001b[0;34m\u001b[0m\u001b[0m\n\u001b[0m\u001b[1;32m      6\u001b[0m             \u001b[0;32mfor\u001b[0m \u001b[0mattr\u001b[0m \u001b[0;32min\u001b[0m \u001b[0mattrs\u001b[0m\u001b[0;34m:\u001b[0m\u001b[0;34m\u001b[0m\u001b[0;34m\u001b[0m\u001b[0m\n\u001b[1;32m      7\u001b[0m                 \u001b[0;32mif\u001b[0m \u001b[0;32mnot\u001b[0m \u001b[0mhasattr\u001b[0m\u001b[0;34m(\u001b[0m\u001b[0mcls\u001b[0m\u001b[0;34m,\u001b[0m \u001b[0mattr\u001b[0m\u001b[0;34m)\u001b[0m\u001b[0;34m:\u001b[0m\u001b[0;34m\u001b[0m\u001b[0;34m\u001b[0m\u001b[0m\n",
      "\u001b[0;31mRecursionError\u001b[0m: maximum recursion depth exceeded while calling a Python object"
     ]
    }
   ],
   "source": [
    "class Child(Base):\n",
    "    a = 'a'"
   ]
  },
  {
   "cell_type": "code",
   "execution_count": 118,
   "metadata": {
    "ExecuteTime": {
     "end_time": "2020-11-23T05:50:14.670781Z",
     "start_time": "2020-11-23T05:50:14.664637Z"
    }
   },
   "outputs": [],
   "source": [
    "class AbstractAttrs:\n",
    "    \n",
    "    def __init__(self, *args):\n",
    "        print(args)\n",
    "        self.args = list(args)\n",
    "    \n",
    "    @classmethod\n",
    "    def __init_subclass__(cls, **kwargs):\n",
    "        super().__init_subclass__(**kwargs)\n",
    "#         if not hasattr(cls, f'_{cls.__name__}__attrs'):\n",
    "#             print('no attrs')\n",
    "        print('init subclass', AbstractAttrs._args())\n",
    "        for arg in AbstractAttrs.args:\n",
    "            assert hasattr(cls, arg), \\\n",
    "                f'{cls.__name__} must have class variable {arg}.'"
   ]
  },
  {
   "cell_type": "code",
   "execution_count": 119,
   "metadata": {
    "ExecuteTime": {
     "end_time": "2020-11-23T05:50:15.093761Z",
     "start_time": "2020-11-23T05:50:15.075674Z"
    }
   },
   "outputs": [
    {
     "ename": "TypeError",
     "evalue": "_args() missing 1 required positional argument: 'self'",
     "output_type": "error",
     "traceback": [
      "\u001b[0;31m---------------------------------------------------------------------------\u001b[0m",
      "\u001b[0;31mTypeError\u001b[0m                                 Traceback (most recent call last)",
      "\u001b[0;32m<ipython-input-119-8be9ad7b1fab>\u001b[0m in \u001b[0;36m<module>\u001b[0;34m\u001b[0m\n\u001b[0;32m----> 1\u001b[0;31m \u001b[0;32mclass\u001b[0m \u001b[0mCallback\u001b[0m\u001b[0;34m(\u001b[0m\u001b[0mAbstractAttrs\u001b[0m\u001b[0;34m)\u001b[0m\u001b[0;34m:\u001b[0m\u001b[0;34m\u001b[0m\u001b[0;34m\u001b[0m\u001b[0m\n\u001b[0m\u001b[1;32m      2\u001b[0m     \u001b[0;32mpass\u001b[0m\u001b[0;34m\u001b[0m\u001b[0;34m\u001b[0m\u001b[0m\n",
      "\u001b[0;32m<ipython-input-118-9f0e0d6150a2>\u001b[0m in \u001b[0;36m__init_subclass__\u001b[0;34m(cls, **kwargs)\u001b[0m\n\u001b[1;32m     10\u001b[0m \u001b[0;31m#         if not hasattr(cls, f'_{cls.__name__}__attrs'):\u001b[0m\u001b[0;34m\u001b[0m\u001b[0;34m\u001b[0m\u001b[0;34m\u001b[0m\u001b[0m\n\u001b[1;32m     11\u001b[0m \u001b[0;31m#             print('no attrs')\u001b[0m\u001b[0;34m\u001b[0m\u001b[0;34m\u001b[0m\u001b[0;34m\u001b[0m\u001b[0m\n\u001b[0;32m---> 12\u001b[0;31m         \u001b[0mprint\u001b[0m\u001b[0;34m(\u001b[0m\u001b[0;34m'init subclass'\u001b[0m\u001b[0;34m,\u001b[0m \u001b[0mAbstractAttrs\u001b[0m\u001b[0;34m.\u001b[0m\u001b[0m_args\u001b[0m\u001b[0;34m(\u001b[0m\u001b[0;34m)\u001b[0m\u001b[0;34m)\u001b[0m\u001b[0;34m\u001b[0m\u001b[0;34m\u001b[0m\u001b[0m\n\u001b[0m\u001b[1;32m     13\u001b[0m         \u001b[0;32mfor\u001b[0m \u001b[0marg\u001b[0m \u001b[0;32min\u001b[0m \u001b[0mAbstractAttrs\u001b[0m\u001b[0;34m.\u001b[0m\u001b[0margs\u001b[0m\u001b[0;34m:\u001b[0m\u001b[0;34m\u001b[0m\u001b[0;34m\u001b[0m\u001b[0m\n\u001b[1;32m     14\u001b[0m             \u001b[0;32massert\u001b[0m \u001b[0mhasattr\u001b[0m\u001b[0;34m(\u001b[0m\u001b[0mcls\u001b[0m\u001b[0;34m,\u001b[0m \u001b[0marg\u001b[0m\u001b[0;34m)\u001b[0m\u001b[0;34m,\u001b[0m\u001b[0;31m \u001b[0m\u001b[0;31m\\\u001b[0m\u001b[0;34m\u001b[0m\u001b[0;34m\u001b[0m\u001b[0m\n",
      "\u001b[0;31mTypeError\u001b[0m: _args() missing 1 required positional argument: 'self'"
     ]
    }
   ],
   "source": [
    "class Callback(AbstractAttrs):\n",
    "    pass"
   ]
  },
  {
   "cell_type": "code",
   "execution_count": 112,
   "metadata": {
    "ExecuteTime": {
     "end_time": "2020-11-23T05:46:47.154418Z",
     "start_time": "2020-11-23T05:46:47.149946Z"
    }
   },
   "outputs": [
    {
     "name": "stdout",
     "output_type": "stream",
     "text": [
      "('order', 'is_val')\n"
     ]
    }
   ],
   "source": [
    "c = Callback('order', 'is_val')"
   ]
  },
  {
   "cell_type": "code",
   "execution_count": 113,
   "metadata": {
    "ExecuteTime": {
     "end_time": "2020-11-23T05:46:54.144913Z",
     "start_time": "2020-11-23T05:46:54.137769Z"
    }
   },
   "outputs": [
    {
     "name": "stdout",
     "output_type": "stream",
     "text": [
      "pre super\n",
      "NewCallback\n",
      "no attrs\n"
     ]
    }
   ],
   "source": [
    "class NewCallback(Callback):\n",
    "    \n",
    "    def __init__(self, a, order=3):\n",
    "        self.a = a\n",
    "        self.order = order"
   ]
  },
  {
   "cell_type": "code",
   "execution_count": 107,
   "metadata": {
    "ExecuteTime": {
     "end_time": "2020-11-23T05:45:42.173623Z",
     "start_time": "2020-11-23T05:45:42.167310Z"
    }
   },
   "outputs": [],
   "source": [
    "nc = NewCallback('a', 'my_order')"
   ]
  },
  {
   "cell_type": "code",
   "execution_count": 108,
   "metadata": {
    "ExecuteTime": {
     "end_time": "2020-11-23T05:45:42.762174Z",
     "start_time": "2020-11-23T05:45:42.755871Z"
    }
   },
   "outputs": [
    {
     "data": {
      "text/plain": [
       "<__main__.NewCallback at 0x1a1353b358>"
      ]
     },
     "execution_count": 108,
     "metadata": {},
     "output_type": "execute_result"
    }
   ],
   "source": [
    "nc"
   ]
  },
  {
   "cell_type": "code",
   "execution_count": 109,
   "metadata": {
    "ExecuteTime": {
     "end_time": "2020-11-23T05:45:45.676917Z",
     "start_time": "2020-11-23T05:45:45.670265Z"
    }
   },
   "outputs": [
    {
     "data": {
      "text/plain": [
       "['order', 'val_loop']"
      ]
     },
     "execution_count": 109,
     "metadata": {},
     "output_type": "execute_result"
    }
   ],
   "source": [
    "nc._attrs"
   ]
  },
  {
   "cell_type": "code",
   "execution_count": 549,
   "metadata": {
    "ExecuteTime": {
     "end_time": "2020-11-23T07:17:01.715655Z",
     "start_time": "2020-11-23T07:17:01.702710Z"
    }
   },
   "outputs": [],
   "source": [
    "class AbstractAttrs(type):\n",
    "\n",
    "    def __new__(cls, name, bases, methods, **meta_kwargs):\n",
    "        print('new meta kwargs', meta_kwargs)\n",
    "        class_ = type.__new__(cls, name, bases, methods)\n",
    "        class_vars = meta_kwargs.get('class_vars', [])\n",
    "        inst_vars = meta_kwargs.get('inst_vars', [])\n",
    "        \n",
    "        def __init_subclass__(cls, **kwargs):\n",
    "            print('init subclass kwargs', kwargs)\n",
    "            super().__init_subclass__(**kwargs)\n",
    "            for attr in class_vars:\n",
    "                assert hasattr(cls, attr), \\\n",
    "                    f'{cls} must have class variable {attr}.'\n",
    "        \n",
    "        # Without this check, we'd overwrite these attributes when subclasses\n",
    "        # are constructed.\n",
    "        if class_vars or inst_vars:\n",
    "            setattr(class_, '__init_subclass__', \n",
    "                    classmethod(__init_subclass__))\n",
    "            class_._is_parent = True\n",
    "            class_.class_vars = class_vars\n",
    "            class_.inst_vars = inst_vars\n",
    "#             setattr(class_, '_is_parent', True)\n",
    "#             setattr(class_, 'class_vars', class_vars)\n",
    "#             setattr(class_, 'inst_vars', inst_vars)\n",
    "        else:\n",
    "#             setattr(class_, '_is_parent', False)\n",
    "            class_._is_parent = False\n",
    "        return class_\n",
    "    \n",
    "    def __init__(cls, name, bases, args, **kwargs):\n",
    "        print('init')\n",
    "        print(cls, name, bases, args, kwargs)\n",
    "#         return cls.__init__(args, **kwargs)\n",
    "\n",
    "    def __call__(cls, *args, **kwargs):\n",
    "        print('in call', 'args=', args, 'kwargs=', kwargs)\n",
    "        inst = cls.__new__(cls, *args, **kwargs)\n",
    "        if isinstance(inst, cls):\n",
    "            inst.__init__(*args, **kwargs)\n",
    "            print('in isinstance, instvars=', inst.inst_vars)\n",
    "            if not cls._is_parent:\n",
    "                for var in inst.inst_vars:\n",
    "                    assert hasattr(inst, var), f'Missing instance var {var}.'\n",
    "        return inst"
   ]
  },
  {
   "cell_type": "code",
   "execution_count": 564,
   "metadata": {
    "ExecuteTime": {
     "end_time": "2020-11-23T07:17:59.891155Z",
     "start_time": "2020-11-23T07:17:59.885091Z"
    }
   },
   "outputs": [
    {
     "name": "stdout",
     "output_type": "stream",
     "text": [
      "new meta kwargs {'inst_vars': ['name'], 'class_vars': ['order', 'is_val']}\n",
      "init\n",
      "<class '__main__.Parent'> Parent () {'__module__': '__main__', '__qualname__': 'Parent'} {'inst_vars': ['name'], 'class_vars': ['order', 'is_val']}\n"
     ]
    }
   ],
   "source": [
    "class Parent(metaclass=AbstractAttrs, inst_vars=['name'],\n",
    "             class_vars=['order', 'is_val']):\n",
    "    pass"
   ]
  },
  {
   "cell_type": "code",
   "execution_count": 551,
   "metadata": {
    "ExecuteTime": {
     "end_time": "2020-11-23T07:17:02.611278Z",
     "start_time": "2020-11-23T07:17:02.604692Z"
    }
   },
   "outputs": [
    {
     "name": "stdout",
     "output_type": "stream",
     "text": [
      "in call args= () kwargs= {}\n",
      "in isinstance, instvars= ['name']\n"
     ]
    }
   ],
   "source": [
    "p = Parent()"
   ]
  },
  {
   "cell_type": "code",
   "execution_count": 552,
   "metadata": {
    "ExecuteTime": {
     "end_time": "2020-11-23T07:17:03.192725Z",
     "start_time": "2020-11-23T07:17:03.187678Z"
    }
   },
   "outputs": [
    {
     "data": {
      "text/plain": [
       "(['order', 'is_val'], ['name'])"
      ]
     },
     "execution_count": 552,
     "metadata": {},
     "output_type": "execute_result"
    }
   ],
   "source": [
    "p.class_vars, p.inst_vars"
   ]
  },
  {
   "cell_type": "code",
   "execution_count": 553,
   "metadata": {
    "ExecuteTime": {
     "end_time": "2020-11-23T07:17:03.788795Z",
     "start_time": "2020-11-23T07:17:03.783100Z"
    }
   },
   "outputs": [
    {
     "data": {
      "text/plain": [
       "True"
      ]
     },
     "execution_count": 553,
     "metadata": {},
     "output_type": "execute_result"
    }
   ],
   "source": [
    "p._is_parent"
   ]
  },
  {
   "cell_type": "code",
   "execution_count": 554,
   "metadata": {
    "ExecuteTime": {
     "end_time": "2020-11-23T07:17:05.451237Z",
     "start_time": "2020-11-23T07:17:05.444745Z"
    }
   },
   "outputs": [
    {
     "name": "stdout",
     "output_type": "stream",
     "text": [
      "new meta kwargs {}\n",
      "init subclass kwargs {}\n",
      "init\n",
      "<class '__main__.Child'> Child (<class '__main__.Parent'>,) {'__module__': '__main__', '__qualname__': 'Child', 'order': 33, 'is_val': True, '__init__': <function Child.__init__ at 0x1a14d0b950>} {}\n"
     ]
    }
   ],
   "source": [
    "class Child(Parent):\n",
    "    \n",
    "    order = 33\n",
    "    is_val = True\n",
    "    \n",
    "    def __init__(self, a):\n",
    "        self.a = a\n",
    "        print('child init')"
   ]
  },
  {
   "cell_type": "code",
   "execution_count": 555,
   "metadata": {
    "ExecuteTime": {
     "end_time": "2020-11-23T07:17:06.207724Z",
     "start_time": "2020-11-23T07:17:06.187658Z"
    }
   },
   "outputs": [
    {
     "name": "stdout",
     "output_type": "stream",
     "text": [
      "in call args= (4,) kwargs= {}\n",
      "child init\n",
      "in isinstance, instvars= ['name']\n"
     ]
    },
    {
     "ename": "AssertionError",
     "evalue": "Missing instance var name.",
     "output_type": "error",
     "traceback": [
      "\u001b[0;31m---------------------------------------------------------------------------\u001b[0m",
      "\u001b[0;31mAssertionError\u001b[0m                            Traceback (most recent call last)",
      "\u001b[0;32m<ipython-input-555-5745deb256bc>\u001b[0m in \u001b[0;36m<module>\u001b[0;34m\u001b[0m\n\u001b[0;32m----> 1\u001b[0;31m \u001b[0mc\u001b[0m \u001b[0;34m=\u001b[0m \u001b[0mChild\u001b[0m\u001b[0;34m(\u001b[0m\u001b[0;36m4\u001b[0m\u001b[0;34m)\u001b[0m\u001b[0;34m\u001b[0m\u001b[0;34m\u001b[0m\u001b[0m\n\u001b[0m\u001b[1;32m      2\u001b[0m \u001b[0mc\u001b[0m\u001b[0;34m\u001b[0m\u001b[0;34m\u001b[0m\u001b[0m\n",
      "\u001b[0;32m<ipython-input-549-a5d598c4c421>\u001b[0m in \u001b[0;36m__call__\u001b[0;34m(cls, *args, **kwargs)\u001b[0m\n\u001b[1;32m     43\u001b[0m             \u001b[0;32mif\u001b[0m \u001b[0;32mnot\u001b[0m \u001b[0mcls\u001b[0m\u001b[0;34m.\u001b[0m\u001b[0m_is_parent\u001b[0m\u001b[0;34m:\u001b[0m\u001b[0;34m\u001b[0m\u001b[0;34m\u001b[0m\u001b[0m\n\u001b[1;32m     44\u001b[0m                 \u001b[0;32mfor\u001b[0m \u001b[0mvar\u001b[0m \u001b[0;32min\u001b[0m \u001b[0minst\u001b[0m\u001b[0;34m.\u001b[0m\u001b[0minst_vars\u001b[0m\u001b[0;34m:\u001b[0m\u001b[0;34m\u001b[0m\u001b[0;34m\u001b[0m\u001b[0m\n\u001b[0;32m---> 45\u001b[0;31m                     \u001b[0;32massert\u001b[0m \u001b[0mhasattr\u001b[0m\u001b[0;34m(\u001b[0m\u001b[0minst\u001b[0m\u001b[0;34m,\u001b[0m \u001b[0mvar\u001b[0m\u001b[0;34m)\u001b[0m\u001b[0;34m,\u001b[0m \u001b[0;34mf'Missing instance var {var}.'\u001b[0m\u001b[0;34m\u001b[0m\u001b[0;34m\u001b[0m\u001b[0m\n\u001b[0m\u001b[1;32m     46\u001b[0m         \u001b[0;32mreturn\u001b[0m \u001b[0minst\u001b[0m\u001b[0;34m\u001b[0m\u001b[0;34m\u001b[0m\u001b[0m\n",
      "\u001b[0;31mAssertionError\u001b[0m: Missing instance var name."
     ]
    }
   ],
   "source": [
    "c = Child(4)\n",
    "c"
   ]
  },
  {
   "cell_type": "code",
   "execution_count": 556,
   "metadata": {
    "ExecuteTime": {
     "end_time": "2020-11-23T07:17:09.365037Z",
     "start_time": "2020-11-23T07:17:09.352455Z"
    }
   },
   "outputs": [
    {
     "data": {
      "text/plain": [
       "(4, ['order', 'is_val'], ['name'])"
      ]
     },
     "execution_count": 556,
     "metadata": {},
     "output_type": "execute_result"
    }
   ],
   "source": [
    "c.a, c.class_vars, c.inst_vars"
   ]
  },
  {
   "cell_type": "code",
   "execution_count": 557,
   "metadata": {
    "ExecuteTime": {
     "end_time": "2020-11-23T07:17:10.491876Z",
     "start_time": "2020-11-23T07:17:10.485845Z"
    }
   },
   "outputs": [
    {
     "data": {
      "text/plain": [
       "False"
      ]
     },
     "execution_count": 557,
     "metadata": {},
     "output_type": "execute_result"
    }
   ],
   "source": [
    "c._is_parent"
   ]
  },
  {
   "cell_type": "code",
   "execution_count": 558,
   "metadata": {
    "ExecuteTime": {
     "end_time": "2020-11-23T07:17:11.617484Z",
     "start_time": "2020-11-23T07:17:11.605168Z"
    }
   },
   "outputs": [
    {
     "data": {
      "text/plain": [
       "99"
      ]
     },
     "execution_count": 558,
     "metadata": {},
     "output_type": "execute_result"
    }
   ],
   "source": [
    "c.test"
   ]
  },
  {
   "cell_type": "code",
   "execution_count": 559,
   "metadata": {
    "ExecuteTime": {
     "end_time": "2020-11-23T07:17:12.549078Z",
     "start_time": "2020-11-23T07:17:12.521949Z"
    }
   },
   "outputs": [
    {
     "name": "stdout",
     "output_type": "stream",
     "text": [
      "new meta kwargs {}\n",
      "init subclass kwargs {}\n"
     ]
    },
    {
     "ename": "AssertionError",
     "evalue": "<class '__main__.BadChild'> must have class variable is_val.",
     "output_type": "error",
     "traceback": [
      "\u001b[0;31m---------------------------------------------------------------------------\u001b[0m",
      "\u001b[0;31mAssertionError\u001b[0m                            Traceback (most recent call last)",
      "\u001b[0;32m<ipython-input-559-6a1731fea194>\u001b[0m in \u001b[0;36m<module>\u001b[0;34m\u001b[0m\n\u001b[0;32m----> 1\u001b[0;31m \u001b[0;32mclass\u001b[0m \u001b[0mBadChild\u001b[0m\u001b[0;34m(\u001b[0m\u001b[0mParent\u001b[0m\u001b[0;34m)\u001b[0m\u001b[0;34m:\u001b[0m\u001b[0;34m\u001b[0m\u001b[0;34m\u001b[0m\u001b[0m\n\u001b[0m\u001b[1;32m      2\u001b[0m \u001b[0;34m\u001b[0m\u001b[0m\n\u001b[1;32m      3\u001b[0m     \u001b[0morder\u001b[0m \u001b[0;34m=\u001b[0m \u001b[0;36m1\u001b[0m\u001b[0;34m\u001b[0m\u001b[0;34m\u001b[0m\u001b[0m\n\u001b[1;32m      4\u001b[0m \u001b[0;34m\u001b[0m\u001b[0m\n\u001b[1;32m      5\u001b[0m     \u001b[0;32mdef\u001b[0m \u001b[0m__init__\u001b[0m\u001b[0;34m(\u001b[0m\u001b[0mself\u001b[0m\u001b[0;34m,\u001b[0m \u001b[0mb\u001b[0m\u001b[0;34m,\u001b[0m \u001b[0mis_val\u001b[0m\u001b[0;34m)\u001b[0m\u001b[0;34m:\u001b[0m\u001b[0;34m\u001b[0m\u001b[0;34m\u001b[0m\u001b[0m\n",
      "\u001b[0;32m<ipython-input-549-a5d598c4c421>\u001b[0m in \u001b[0;36m__new__\u001b[0;34m(cls, name, bases, methods, **meta_kwargs)\u001b[0m\n\u001b[1;32m      3\u001b[0m     \u001b[0;32mdef\u001b[0m \u001b[0m__new__\u001b[0m\u001b[0;34m(\u001b[0m\u001b[0mcls\u001b[0m\u001b[0;34m,\u001b[0m \u001b[0mname\u001b[0m\u001b[0;34m,\u001b[0m \u001b[0mbases\u001b[0m\u001b[0;34m,\u001b[0m \u001b[0mmethods\u001b[0m\u001b[0;34m,\u001b[0m \u001b[0;34m**\u001b[0m\u001b[0mmeta_kwargs\u001b[0m\u001b[0;34m)\u001b[0m\u001b[0;34m:\u001b[0m\u001b[0;34m\u001b[0m\u001b[0;34m\u001b[0m\u001b[0m\n\u001b[1;32m      4\u001b[0m         \u001b[0mprint\u001b[0m\u001b[0;34m(\u001b[0m\u001b[0;34m'new meta kwargs'\u001b[0m\u001b[0;34m,\u001b[0m \u001b[0mmeta_kwargs\u001b[0m\u001b[0;34m)\u001b[0m\u001b[0;34m\u001b[0m\u001b[0;34m\u001b[0m\u001b[0m\n\u001b[0;32m----> 5\u001b[0;31m         \u001b[0mclass_\u001b[0m \u001b[0;34m=\u001b[0m \u001b[0mtype\u001b[0m\u001b[0;34m.\u001b[0m\u001b[0m__new__\u001b[0m\u001b[0;34m(\u001b[0m\u001b[0mcls\u001b[0m\u001b[0;34m,\u001b[0m \u001b[0mname\u001b[0m\u001b[0;34m,\u001b[0m \u001b[0mbases\u001b[0m\u001b[0;34m,\u001b[0m \u001b[0mmethods\u001b[0m\u001b[0;34m)\u001b[0m\u001b[0;34m\u001b[0m\u001b[0;34m\u001b[0m\u001b[0m\n\u001b[0m\u001b[1;32m      6\u001b[0m         \u001b[0mclass_vars\u001b[0m \u001b[0;34m=\u001b[0m \u001b[0mmeta_kwargs\u001b[0m\u001b[0;34m.\u001b[0m\u001b[0mget\u001b[0m\u001b[0;34m(\u001b[0m\u001b[0;34m'class_vars'\u001b[0m\u001b[0;34m,\u001b[0m \u001b[0;34m[\u001b[0m\u001b[0;34m]\u001b[0m\u001b[0;34m)\u001b[0m\u001b[0;34m\u001b[0m\u001b[0;34m\u001b[0m\u001b[0m\n\u001b[1;32m      7\u001b[0m         \u001b[0minst_vars\u001b[0m \u001b[0;34m=\u001b[0m \u001b[0mmeta_kwargs\u001b[0m\u001b[0;34m.\u001b[0m\u001b[0mget\u001b[0m\u001b[0;34m(\u001b[0m\u001b[0;34m'inst_vars'\u001b[0m\u001b[0;34m,\u001b[0m \u001b[0;34m[\u001b[0m\u001b[0;34m]\u001b[0m\u001b[0;34m)\u001b[0m\u001b[0;34m\u001b[0m\u001b[0;34m\u001b[0m\u001b[0m\n",
      "\u001b[0;32m<ipython-input-549-a5d598c4c421>\u001b[0m in \u001b[0;36m__init_subclass__\u001b[0;34m(cls, **kwargs)\u001b[0m\n\u001b[1;32m     12\u001b[0m             \u001b[0;32mfor\u001b[0m \u001b[0mattr\u001b[0m \u001b[0;32min\u001b[0m \u001b[0mclass_vars\u001b[0m\u001b[0;34m:\u001b[0m\u001b[0;34m\u001b[0m\u001b[0;34m\u001b[0m\u001b[0m\n\u001b[1;32m     13\u001b[0m                 \u001b[0;32massert\u001b[0m \u001b[0mhasattr\u001b[0m\u001b[0;34m(\u001b[0m\u001b[0mcls\u001b[0m\u001b[0;34m,\u001b[0m \u001b[0mattr\u001b[0m\u001b[0;34m)\u001b[0m\u001b[0;34m,\u001b[0m\u001b[0;31m \u001b[0m\u001b[0;31m\\\u001b[0m\u001b[0;34m\u001b[0m\u001b[0;34m\u001b[0m\u001b[0m\n\u001b[0;32m---> 14\u001b[0;31m                     \u001b[0;34mf'{cls} must have class variable {attr}.'\u001b[0m\u001b[0;34m\u001b[0m\u001b[0;34m\u001b[0m\u001b[0m\n\u001b[0m\u001b[1;32m     15\u001b[0m \u001b[0;34m\u001b[0m\u001b[0m\n\u001b[1;32m     16\u001b[0m         \u001b[0;31m# Without this check, we'd overwrite these attributes when subclasses\u001b[0m\u001b[0;34m\u001b[0m\u001b[0;34m\u001b[0m\u001b[0;34m\u001b[0m\u001b[0m\n",
      "\u001b[0;31mAssertionError\u001b[0m: <class '__main__.BadChild'> must have class variable is_val."
     ]
    }
   ],
   "source": [
    "class BadChild(Parent):\n",
    "    \n",
    "    order = 1\n",
    "    \n",
    "    def __init__(self, b, is_val):\n",
    "        self.b = b\n",
    "        self.is_val = is_val"
   ]
  },
  {
   "cell_type": "code",
   "execution_count": 561,
   "metadata": {
    "ExecuteTime": {
     "end_time": "2020-11-23T07:17:37.695709Z",
     "start_time": "2020-11-23T07:17:37.688814Z"
    }
   },
   "outputs": [
    {
     "name": "stdout",
     "output_type": "stream",
     "text": [
      "new meta kwargs {}\n",
      "init subclass kwargs {}\n",
      "init\n",
      "<class '__main__.GoodChild'> GoodChild (<class '__main__.Parent'>,) {'__module__': '__main__', '__qualname__': 'GoodChild', 'order': 100, 'is_val': False, '__init__': <function GoodChild.__init__ at 0x1a14d0b378>, 'walk': <function GoodChild.walk at 0x1a14d0bf28>} {}\n"
     ]
    }
   ],
   "source": [
    "class GoodChild(Parent):\n",
    "    \n",
    "    order = 100\n",
    "    is_val = False\n",
    "    \n",
    "    def __init__(self, name):\n",
    "        self.name = name\n",
    "        \n",
    "    def walk(self):\n",
    "        return self.order, self.is_val, self.name"
   ]
  },
  {
   "cell_type": "code",
   "execution_count": 562,
   "metadata": {
    "ExecuteTime": {
     "end_time": "2020-11-23T07:17:37.892096Z",
     "start_time": "2020-11-23T07:17:37.887751Z"
    }
   },
   "outputs": [
    {
     "name": "stdout",
     "output_type": "stream",
     "text": [
      "in call args= ('Ian',) kwargs= {}\n",
      "in isinstance, instvars= ['name']\n"
     ]
    }
   ],
   "source": [
    "ian = GoodChild('Ian')"
   ]
  },
  {
   "cell_type": "code",
   "execution_count": 563,
   "metadata": {
    "ExecuteTime": {
     "end_time": "2020-11-23T07:17:40.675148Z",
     "start_time": "2020-11-23T07:17:40.668975Z"
    }
   },
   "outputs": [
    {
     "data": {
      "text/plain": [
       "(100, False, 'Ian')"
      ]
     },
     "execution_count": 563,
     "metadata": {},
     "output_type": "execute_result"
    }
   ],
   "source": [
    "ian.walk()"
   ]
  },
  {
   "cell_type": "markdown",
   "metadata": {},
   "source": [
    "## LSH"
   ]
  },
  {
   "cell_type": "code",
   "execution_count": 30,
   "metadata": {},
   "outputs": [],
   "source": [
    "from datasketch import lsh, MinHashLSH, MinHash, MinHashLSHForest\n",
    "\n",
    "from htools import *"
   ]
  },
  {
   "cell_type": "code",
   "execution_count": 2,
   "metadata": {},
   "outputs": [],
   "source": [
    "set1 = set(['minhash', 'is', 'a', 'probabilistic', 'data', 'structure', 'for',\n",
    "            'estimating', 'the', 'similarity', 'between', 'datasets'])\n",
    "set2 = set(['minhash', 'is', 'a', 'probability', 'data', 'structure', 'for',\n",
    "            'estimating', 'the', 'similarity', 'between', 'documents'])\n",
    "set3 = set(['minhash', 'is', 'probability', 'data', 'structure', 'for',\n",
    "            'estimating', 'the', 'similarity', 'between', 'documents'])\n",
    "\n",
    "m1 = MinHash(num_perm=128)\n",
    "m2 = MinHash(num_perm=128)\n",
    "m3 = MinHash(num_perm=128)\n",
    "for d in set1:\n",
    "    m1.update(d.encode('utf8'))\n",
    "for d in set2:\n",
    "    m2.update(d.encode('utf8'))\n",
    "for d in set3:\n",
    "    m3.update(d.encode('utf8'))\n",
    "\n",
    "# Create LSH index\n",
    "lsh = MinHashLSH(threshold=0.5, num_perm=128)\n",
    "lsh.insert(\"m2\", m2)\n",
    "lsh.insert(\"m3\", m3)\n",
    "result = lsh.query(m1)"
   ]
  },
  {
   "cell_type": "code",
   "execution_count": 3,
   "metadata": {},
   "outputs": [],
   "source": [
    "def ngrams(word, n=3, step=1, drop_last=False):\n",
    "    \"\"\"To get non-overlapping sequences, pass in same value for `step` as `n`.\"\"\"\n",
    "    stop = max(1, step+len(word)-n)\n",
    "    ngrams_ = []\n",
    "    for i in range(0, stop, step):\n",
    "        ngrams_.append(word[i:i+n])\n",
    "    if drop_last and len(ngrams_[-1]) < n: ngrams_ = ngrams_[:-1]\n",
    "    return ngrams_"
   ]
  },
  {
   "cell_type": "code",
   "execution_count": 35,
   "metadata": {},
   "outputs": [],
   "source": [
    "w = 'dinosaur'\n",
    "tw = 'I'\n",
    "ws = ['dino', 'rhino', 'dog', 'cat', 'lion', 'tyrannosaurus rex',\n",
    "      'tiger', 'owl', 'rhinocerous', 'kino']\n",
    "s = 'The mailman was running late today, possibly due to the heavy '\\\n",
    "    'snowfall from the previous night.'"
   ]
  },
  {
   "cell_type": "code",
   "execution_count": 6,
   "metadata": {
    "scrolled": true
   },
   "outputs": [
    {
     "data": {
      "text/plain": [
       "['din', 'ino', 'nos', 'osa', 'sau', 'aur']"
      ]
     },
     "execution_count": 6,
     "metadata": {},
     "output_type": "execute_result"
    }
   ],
   "source": [
    "ngrams(w)"
   ]
  },
  {
   "cell_type": "code",
   "execution_count": 7,
   "metadata": {},
   "outputs": [
    {
     "data": {
      "text/plain": [
       "['di', 'in', 'no', 'os', 'sa', 'au', 'ur']"
      ]
     },
     "execution_count": 7,
     "metadata": {},
     "output_type": "execute_result"
    }
   ],
   "source": [
    "ngrams(w, 2)"
   ]
  },
  {
   "cell_type": "code",
   "execution_count": 9,
   "metadata": {},
   "outputs": [
    {
     "data": {
      "text/plain": [
       "['din', 'osa', 'ur']"
      ]
     },
     "execution_count": 9,
     "metadata": {},
     "output_type": "execute_result"
    }
   ],
   "source": [
    "ngrams(w, 3, 3)"
   ]
  },
  {
   "cell_type": "code",
   "execution_count": 12,
   "metadata": {},
   "outputs": [
    {
     "data": {
      "text/plain": [
       "['din', 'osa']"
      ]
     },
     "execution_count": 12,
     "metadata": {},
     "output_type": "execute_result"
    }
   ],
   "source": [
    "ngrams(w, 3, 3, True)"
   ]
  },
  {
   "cell_type": "code",
   "execution_count": 37,
   "metadata": {
    "scrolled": true
   },
   "outputs": [
    {
     "data": {
      "text/plain": [
       "['The',\n",
       " 'he ',\n",
       " 'e m',\n",
       " ' ma',\n",
       " 'mai',\n",
       " 'ail',\n",
       " 'ilm',\n",
       " 'lma',\n",
       " 'man',\n",
       " 'an ',\n",
       " 'n w',\n",
       " ' wa',\n",
       " 'was',\n",
       " 'as ',\n",
       " 's r',\n",
       " ' ru',\n",
       " 'run',\n",
       " 'unn',\n",
       " 'nni',\n",
       " 'nin',\n",
       " 'ing',\n",
       " 'ng ',\n",
       " 'g l',\n",
       " ' la',\n",
       " 'lat',\n",
       " 'ate',\n",
       " 'te ',\n",
       " 'e t',\n",
       " ' to',\n",
       " 'tod',\n",
       " 'oda',\n",
       " 'day',\n",
       " 'ay,',\n",
       " 'y, ',\n",
       " ', p',\n",
       " ' po',\n",
       " 'pos',\n",
       " 'oss',\n",
       " 'ssi',\n",
       " 'sib',\n",
       " 'ibl',\n",
       " 'bly',\n",
       " 'ly ',\n",
       " 'y d',\n",
       " ' du',\n",
       " 'due',\n",
       " 'ue ',\n",
       " 'e t',\n",
       " ' to',\n",
       " 'to ',\n",
       " 'o t',\n",
       " ' th',\n",
       " 'the',\n",
       " 'he ',\n",
       " 'e h',\n",
       " ' he',\n",
       " 'hea',\n",
       " 'eav',\n",
       " 'avy',\n",
       " 'vy ',\n",
       " 'y s',\n",
       " ' sn',\n",
       " 'sno',\n",
       " 'now',\n",
       " 'owf',\n",
       " 'wfa',\n",
       " 'fal',\n",
       " 'all',\n",
       " 'll ',\n",
       " 'l f',\n",
       " ' fr',\n",
       " 'fro',\n",
       " 'rom',\n",
       " 'om ',\n",
       " 'm t',\n",
       " ' th',\n",
       " 'the',\n",
       " 'he ',\n",
       " 'e p',\n",
       " ' pr',\n",
       " 'pre',\n",
       " 'rev',\n",
       " 'evi',\n",
       " 'vio',\n",
       " 'iou',\n",
       " 'ous',\n",
       " 'us ',\n",
       " 's n',\n",
       " ' ni',\n",
       " 'nig',\n",
       " 'igh',\n",
       " 'ght',\n",
       " 'ht.']"
      ]
     },
     "execution_count": 37,
     "metadata": {},
     "output_type": "execute_result"
    }
   ],
   "source": [
    "ngrams(s)"
   ]
  },
  {
   "cell_type": "code",
   "execution_count": 13,
   "metadata": {},
   "outputs": [],
   "source": [
    "def lsh_hash_word(word, num_perm=128, **ngram_kwargs):\n",
    "    mhash = MinHash(num_perm=num_perm)\n",
    "    for ng in ngrams(word, **ngram_kwargs):\n",
    "        mhash.update(ng.encode('utf8'))\n",
    "    return mhash"
   ]
  },
  {
   "cell_type": "code",
   "execution_count": 16,
   "metadata": {},
   "outputs": [],
   "source": [
    "m = lsh_hash_word(w)"
   ]
  },
  {
   "cell_type": "code",
   "execution_count": 22,
   "metadata": {},
   "outputs": [],
   "source": [
    "forest = MinHashLSHForest(num_perm=128)\n",
    "\n",
    "for i, word in enumerate(ws):\n",
    "    forest.add(i, lsh_hash_word(word))\n",
    "forest.index()"
   ]
  },
  {
   "cell_type": "code",
   "execution_count": 24,
   "metadata": {},
   "outputs": [
    {
     "data": {
      "text/plain": [
       "[8, 0, 5]"
      ]
     },
     "execution_count": 24,
     "metadata": {},
     "output_type": "execute_result"
    }
   ],
   "source": [
    "forest.query(lsh_hash_word(w), 3)"
   ]
  },
  {
   "cell_type": "code",
   "execution_count": 26,
   "metadata": {},
   "outputs": [
    {
     "data": {
      "text/plain": [
       "['dino',\n",
       " 'rhino',\n",
       " 'dog',\n",
       " 'cat',\n",
       " 'lion',\n",
       " 'tyrannosaurus rex',\n",
       " 'tiger',\n",
       " 'owl',\n",
       " 'rhinocerous',\n",
       " 'kino']"
      ]
     },
     "execution_count": 26,
     "metadata": {},
     "output_type": "execute_result"
    }
   ],
   "source": [
    "ws"
   ]
  },
  {
   "cell_type": "code",
   "execution_count": 28,
   "metadata": {},
   "outputs": [
    {
     "data": {
      "text/plain": [
       "[8, 0, 5]"
      ]
     },
     "execution_count": 28,
     "metadata": {},
     "output_type": "execute_result"
    }
   ],
   "source": [
    "idx = forest.query(lsh_hash_word(w), 3)\n",
    "idx"
   ]
  },
  {
   "cell_type": "code",
   "execution_count": 32,
   "metadata": {},
   "outputs": [
    {
     "data": {
      "text/plain": [
       "['dino', 'tyrannosaurus rex', 'rhinocerous']"
      ]
     },
     "execution_count": 32,
     "metadata": {},
     "output_type": "execute_result"
    }
   ],
   "source": [
    "select(ws, idx)"
   ]
  }
 ],
 "metadata": {
  "kernelspec": {
   "display_name": "Python 3",
   "language": "python",
   "name": "python3"
  },
  "language_info": {
   "codemirror_mode": {
    "name": "ipython",
    "version": 3
   },
   "file_extension": ".py",
   "mimetype": "text/x-python",
   "name": "python",
   "nbconvert_exporter": "python",
   "pygments_lexer": "ipython3",
   "version": "3.7.3"
  }
 },
 "nbformat": 4,
 "nbformat_minor": 2
}
