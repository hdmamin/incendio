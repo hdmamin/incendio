{
 "cells": [
  {
   "cell_type": "code",
   "execution_count": null,
   "metadata": {},
   "outputs": [],
   "source": [
    "# default_exp losses"
   ]
  },
  {
   "cell_type": "markdown",
   "metadata": {},
   "source": [
    "# Losses\n",
    "\n",
    "> Custom loss functions."
   ]
  },
  {
   "cell_type": "code",
   "execution_count": null,
   "metadata": {},
   "outputs": [],
   "source": [
    "#hide\n",
    "from nbdev.showdoc import *"
   ]
  },
  {
   "cell_type": "code",
   "execution_count": null,
   "metadata": {},
   "outputs": [],
   "source": [
    "%load_ext autoreload\n",
    "%autoreload 2\n",
    "%matplotlib inline"
   ]
  },
  {
   "cell_type": "code",
   "execution_count": null,
   "metadata": {},
   "outputs": [],
   "source": [
    "# export\n",
    "import torch\n",
    "import torch.nn.functional as F\n",
    "\n",
    "from htools import add_docstring"
   ]
  },
  {
   "cell_type": "code",
   "execution_count": null,
   "metadata": {},
   "outputs": [],
   "source": [
    "# Used for testing only.\n",
    "from fastai.metrics import LabelSmoothingCrossEntropy\n",
    "import matplotlib.pyplot as plt\n",
    "import numpy as np\n",
    "import torch.nn as nn\n",
    "\n",
    "from htools import assert_raises, InvalidArgumentError"
   ]
  },
  {
   "cell_type": "code",
   "execution_count": null,
   "metadata": {},
   "outputs": [],
   "source": [
    "# export\n",
    "def smooth_soft_labels(labels, alpha=.1):\n",
    "    \"\"\"Add uniform probability to a tensor of soft labels or \n",
    "    one-hot-encoded hard labels. Classes with zero probability\n",
    "    will therefore end up with alpha/k probability, where k is\n",
    "    the total number of classes. Note that some implementations\n",
    "    may use alpha/(k-1), so if you notice a difference in output \n",
    "    that could be the source.\n",
    "    \n",
    "    Parameters\n",
    "    ----------\n",
    "    labels: torch.tensor\n",
    "        Tensor of labels where each row is a sample and each column\n",
    "        is a class. These can be one hot encodings or a vector of soft\n",
    "        probabilities. Shape (batch_size, num_classes).\n",
    "    alpha: float\n",
    "        A positive value which will be used to assign nonzero \n",
    "        probabilities to the classes that are currently zeros. A larger\n",
    "        alpha corresponds to a higher degree of smoothing (useful when\n",
    "        accounting for noisier labels, trying to provide a stronger\n",
    "        regularizing effect, or encouraging less confident predictions).\n",
    "    \"\"\"\n",
    "    if alpha < 0:\n",
    "        raise InvalidArgumentError('Alpha must be non-negative.')\n",
    "    \n",
    "    # Avoid unnecessary computation.\n",
    "    if not alpha: \n",
    "        return labels\n",
    "    length = labels.shape[-1]\n",
    "    nonzeros = (labels > 0).sum(-1).unsqueeze(-1).float()\n",
    "    return torch.clamp_min(labels - alpha/nonzeros, 0) + alpha/length"
   ]
  },
  {
   "cell_type": "code",
   "execution_count": null,
   "metadata": {},
   "outputs": [],
   "source": [
    "# export\n",
    "def soft_label_cross_entropy_with_logits(y_pred, y_true, alpha=0.0, \n",
    "                                         reduction='mean'):\n",
    "    \"\"\"Compute cross entropy with soft labels. PyTorch's built in \n",
    "    multiclass cross entropy functions require us to pass in integer\n",
    "    indices, which doesn't allow for soft labels which are shaped like\n",
    "    a one hot encoding. FastAI's label smoothing loss uniformly divides\n",
    "    uncertainty over all classes, which again does not allow us to pass\n",
    "    in our own soft labels.\n",
    "    \n",
    "    Parameters\n",
    "    ----------\n",
    "    y_pred: torch.FloatTensor\n",
    "        Logits output by the model. \n",
    "        Shape (bs, num_classes).\n",
    "    y_true: torch.FloatTensor\n",
    "        Soft labels, where values are between 0 and 1. \n",
    "        Shape (bs, num_classes).\n",
    "    alpha: float\n",
    "        Label smoothing hyperparameter: a positive value which will be used to\n",
    "        assign nonzero probabilities to the classes that are currently zeros. \n",
    "        A larger alpha corresponds to a higher degree of smoothing (useful when\n",
    "        accounting for noisier labels, trying to provide a stronger\n",
    "        regularizing effect, or encouraging less confident predictions).\n",
    "    reduction: str\n",
    "        One of ('mean', 'sum', 'none'). This determines how to reduce\n",
    "        the output of the function, similar to most PyTorch\n",
    "        loss functions.\n",
    "\n",
    "    Returns\n",
    "    -------\n",
    "    torch.FloatTensor: If reduction is 'none', this will have shape\n",
    "        (bs, ). If 'mean' or 'sum', this will be be a tensor with a \n",
    "        single value (no shape).\n",
    "    \"\"\"\n",
    "    res = (-smooth_soft_labels(y_true, alpha) \n",
    "           * F.log_softmax(y_pred, dim=-1)).sum(-1)\n",
    "    if reduction == 'none': return res\n",
    "    return getattr(res, reduction)(0)"
   ]
  },
  {
   "cell_type": "code",
   "execution_count": null,
   "metadata": {},
   "outputs": [],
   "source": [
    "# export\n",
    "@add_docstring(soft_label_cross_entropy_with_logits)\n",
    "def soft_label_cross_entropy(y_pred, y_true, alpha=0.0, reduction='mean'):\n",
    "    \"\"\"Same as `soft_label_cross_entropy_with_logits` but operates on\n",
    "    softmax output instead of logits. The version with logits is \n",
    "    recommended for numerical stability. Below is the docstring for the logits \n",
    "    version. The only difference in this version is that y_pred will not be\n",
    "    logits.\n",
    "    \"\"\"\n",
    "    res = -smooth_soft_labels(y_true, alpha) * torch.log(y_pred)\n",
    "    res = torch.where(torch.isnan(res) | torch.isinf(res),\n",
    "                      torch.zeros_like(res), res).sum(-1)\n",
    "    if reduction == 'none': return res\n",
    "    return getattr(res, reduction)(0)"
   ]
  },
  {
   "cell_type": "markdown",
   "metadata": {},
   "source": [
    "For demonstration, each row of our soft labels tries to capture a different case: \n",
    "- Row 0: High confidence label for one class, model has high confidence in the correct class.\n",
    "- Row 1: Moderate confidence in 2 different classes, model has high confidence in the best class.\n",
    "- Row 2: Confidence is split between a few classes, model predictions assign most probability to the two nonzero but non-ideal classes.\n",
    "\n",
    "Row 2 should benefit slightly from label smoothing since it predicts answers that are not ideal but not entirely wrong."
   ]
  },
  {
   "cell_type": "code",
   "execution_count": null,
   "metadata": {},
   "outputs": [
    {
     "data": {
      "text/plain": [
       "tensor([[9.2457e-01, 6.2297e-03, 4.6032e-02, 6.2297e-03, 1.6934e-02],\n",
       "        [4.7232e-02, 9.4869e-01, 8.6509e-04, 8.6509e-04, 2.3516e-03],\n",
       "        [3.1685e-02, 2.3412e-01, 6.3641e-01, 8.6129e-02, 1.1656e-02]])"
      ]
     },
     "execution_count": null,
     "metadata": {},
     "output_type": "execute_result"
    }
   ],
   "source": [
    "# 3 row mini batch\n",
    "y_label = torch.tensor([0, 1, 3])\n",
    "y_ohe = torch.tensor([[1, 0, 0, 0, 0],\n",
    "                      [0, 1, 0, 0, 0], \n",
    "                      [0, 0, 0, 1, 0]], dtype=torch.float)\n",
    "y_smooth = torch.tensor([[.9, .1, 0, 0, 0],\n",
    "                         [.35, .65, 0, 0, 0],\n",
    "                         [0, .1, .2, .7, 0]])\n",
    "logits = torch.tensor([[6, 1, 3, 1, 2], \n",
    "                       [5, 8, 1, 1, 2],\n",
    "                       [1, 3, 4, 2, 0]], dtype=torch.float)\n",
    "y_hat = F.softmax(logits, dim=-1)\n",
    "y_hat"
   ]
  },
  {
   "cell_type": "code",
   "execution_count": null,
   "metadata": {},
   "outputs": [
    {
     "name": "stdout",
     "output_type": "stream",
     "text": [
      "As expected, got InvalidArgumentError(Alpha must be non-negative.).\n"
     ]
    }
   ],
   "source": [
    "# Test: smooth_soft_labels\n",
    "assert torch.allclose(\n",
    "    smooth_soft_labels(y_smooth, .1), \n",
    "    torch.tensor([[0.8700, 0.0700, 0.0200, 0.0200, 0.0200],\n",
    "                  [0.3200, 0.6200, 0.0200, 0.0200, 0.0200],\n",
    "                  [0.0200, 0.0867, 0.1867, 0.6867, 0.0200]]),\n",
    "atol=1e-3), 'Case 1: alpha=0.1'\n",
    "\n",
    "assert torch.allclose(smooth_soft_labels(y_smooth, 0.0), y_smooth, atol=1e-3),\\\n",
    "    'Case 2: alpha=0.0'\n",
    "\n",
    "with assert_raises(InvalidArgumentError):\n",
    "    smooth_soft_labels(y_smooth, -.1)"
   ]
  },
  {
   "cell_type": "code",
   "execution_count": null,
   "metadata": {},
   "outputs": [
    {
     "name": "stdout",
     "output_type": "stream",
     "text": [
      "reduction=none: tensor([0.0784, 0.0527, 2.4519])\n",
      "reduction=sum: tensor(2.5830)\n",
      "reduction=mean: tensor(0.8610)\n"
     ]
    }
   ],
   "source": [
    "modes = ('none', 'sum', 'mean')\n",
    "for mode in modes:\n",
    "    j = soft_label_cross_entropy_with_logits(logits, y_ohe, reduction=mode)\n",
    "    print(f'reduction={mode}:', j)"
   ]
  },
  {
   "cell_type": "code",
   "execution_count": null,
   "metadata": {},
   "outputs": [
    {
     "name": "stdout",
     "output_type": "stream",
     "text": [
      "soft_label_cross_entropy_with_logits:\n",
      "-------------------------------------\n",
      "reduction=none: tensor([0.5784, 1.1027, 1.9519])\n",
      "reduction=sum: tensor(3.6330)\n",
      "reduction=mean: tensor(1.2110)\n",
      "\n",
      "soft_label_cross_entropy:\n",
      "-------------------------\n",
      "reduction=none: tensor([0.5784, 1.1027, 1.9519])\n",
      "reduction=sum: tensor(3.6330)\n",
      "reduction=mean: tensor(1.2110)\n"
     ]
    }
   ],
   "source": [
    "print('soft_label_cross_entropy_with_logits:\\n' + '-'*37)\n",
    "for mode in modes:\n",
    "    j = soft_label_cross_entropy_with_logits(logits, y_smooth, reduction=mode)\n",
    "    print(f'reduction={mode}:', j)\n",
    "\n",
    "print('\\nsoft_label_cross_entropy:\\n' + '-'*25)\n",
    "for mode in modes:\n",
    "    j = soft_label_cross_entropy(y_hat, y_smooth, reduction=mode)\n",
    "    print(f'reduction={mode}:', j)"
   ]
  },
  {
   "cell_type": "code",
   "execution_count": null,
   "metadata": {},
   "outputs": [
    {
     "name": "stdout",
     "output_type": "stream",
     "text": [
      "reduction=none: tensor([0.7584, 1.7227, 2.1519])\n",
      "reduction=sum: tensor(4.6330)\n",
      "reduction=mean: tensor(1.5443)\n"
     ]
    }
   ],
   "source": [
    "for mode in modes:\n",
    "    j = soft_label_cross_entropy_with_logits(logits, y_smooth, alpha=.2, \n",
    "                                             reduction=mode)\n",
    "    print(f'reduction={mode}:', j)"
   ]
  },
  {
   "cell_type": "code",
   "execution_count": null,
   "metadata": {},
   "outputs": [],
   "source": [
    "def plot_loss_by_alpha(y_pred, y_true, loss_func=None, loss_class=None):\n",
    "    alphas = np.arange(0, 1, .05)\n",
    "    \n",
    "    if loss_class:\n",
    "        js = {a: loss_class(a, 'none')(y_pred, y_true) for a in alphas}\n",
    "    else:\n",
    "        js = {a: loss_func(y_pred, y_true, a, 'none') for a in alphas}\n",
    "\n",
    "    fig, ax = plt.subplots()\n",
    "    for i in range(3):\n",
    "        ax.plot(alphas, [x[i] for x in js.values()], label=i)\n",
    "    plt.xlabel('Alpha (Smoothing Parameter)')\n",
    "    plt.ylabel('Loss')\n",
    "    plt.legend()\n",
    "    plt.show()"
   ]
  },
  {
   "cell_type": "markdown",
   "metadata": {},
   "source": [
    "Notice the gap between row 2 begins to narrow, as predicted."
   ]
  },
  {
   "cell_type": "code",
   "execution_count": null,
   "metadata": {},
   "outputs": [
    {
     "data": {
      "image/png": "[encoded data removed]",
      "text/plain": [
       "<Figure size 432x288 with 1 Axes>"
      ]
     },
     "metadata": {
      "needs_background": "light"
     },
     "output_type": "display_data"
    }
   ],
   "source": [
    "plot_loss_by_alpha(y_hat, y_smooth, soft_label_cross_entropy)"
   ]
  },
  {
   "cell_type": "code",
   "execution_count": null,
   "metadata": {},
   "outputs": [
    {
     "data": {
      "image/png": "[encoded data removed]",
      "text/plain": [
       "<Figure size 432x288 with 1 Axes>"
      ]
     },
     "metadata": {
      "needs_background": "light"
     },
     "output_type": "display_data"
    }
   ],
   "source": [
    "plot_loss_by_alpha(logits, y_smooth, soft_label_cross_entropy_with_logits)"
   ]
  },
  {
   "cell_type": "code",
   "execution_count": null,
   "metadata": {},
   "outputs": [
    {
     "data": {
      "image/png": "[encoded data removed]",
      "text/plain": [
       "<Figure size 432x288 with 1 Axes>"
      ]
     },
     "metadata": {
      "needs_background": "light"
     },
     "output_type": "display_data"
    }
   ],
   "source": [
    "plot_loss_by_alpha(logits, y_ohe, soft_label_cross_entropy_with_logits)"
   ]
  },
  {
   "cell_type": "markdown",
   "metadata": {},
   "source": [
    "For comparison, here is the fastai label smoothing loss. It should return the same results in this case (just adding uniform noise). The advantage of ours is the ability to specify a prior non-uniform distribution."
   ]
  },
  {
   "cell_type": "code",
   "execution_count": null,
   "metadata": {},
   "outputs": [
    {
     "data": {
      "image/png": "[encoded data removed]",
      "text/plain": [
       "<Figure size 432x288 with 1 Axes>"
      ]
     },
     "metadata": {
      "needs_background": "light"
     },
     "output_type": "display_data"
    }
   ],
   "source": [
    "plot_loss_by_alpha(logits, y_label, loss_class=LabelSmoothingCrossEntropy)"
   ]
  },
  {
   "cell_type": "code",
   "execution_count": null,
   "metadata": {},
   "outputs": [],
   "source": [
    "def classification_mae_with_logits(y_pred, y_true, reduction='mean'):\n",
    "    \"\"\"Mean absolute error for classification using soft or one hot encoded\n",
    "    labels (can be helpful for dealing with noisy labels). Classification\n",
    "    models often forego the final softmax layer and use a loss function which\n",
    "    computes the log softmax for numerical stability reasons. This loss \n",
    "    function makes it easy to swap different loss functions in and out without\n",
    "    changing the model or the training loop.\n",
    "    \n",
    "    Parameters\n",
    "    ----------\n",
    "    y_pred: torch.FloatTensor\n",
    "        Logits. Shape (bs, num_classes).\n",
    "    y_true: torch.FloatTensor\n",
    "        Labels, either one hot encoded or soft. Shape (bs, num_classes).\n",
    "    reduction: str\n",
    "        Just like any PyTorch loss function, this determines how to aggregate\n",
    "        the loss over a mini batch. One of ('mean', 'sum', 'none').\n",
    "    \"\"\"\n",
    "    # Built-in reduction will aggregate over every value in the tensor because\n",
    "    # it expects that we're predicting a single value per sample. Because we're\n",
    "    # predicting a vector for each sample, we compute row-wise sums regardless\n",
    "    # of our choice of reduction, then aggregate over the batch dimension if\n",
    "    # specified.\n",
    "    rowwise_j = F.l1_loss(F.softmax(y_pred, dim=-1),\n",
    "                          y_true, reduction='none').sum(-1)\n",
    "    if reduction == 'none': return rowwise_j\n",
    "    return getattr(rowwise_j, reduction)(dim=-1)"
   ]
  },
  {
   "cell_type": "code",
   "execution_count": null,
   "metadata": {},
   "outputs": [
    {
     "data": {
      "text/plain": [
       "tensor([[6., 1., 3., 1., 2.],\n",
       "        [5., 8., 1., 1., 2.],\n",
       "        [1., 3., 4., 2., 0.]])"
      ]
     },
     "execution_count": null,
     "metadata": {},
     "output_type": "execute_result"
    }
   ],
   "source": [
    "logits"
   ]
  },
  {
   "cell_type": "code",
   "execution_count": null,
   "metadata": {},
   "outputs": [
    {
     "data": {
      "text/plain": [
       "tensor([[9.2457e-01, 6.2297e-03, 4.6032e-02, 6.2297e-03, 1.6934e-02],\n",
       "        [4.7232e-02, 9.4869e-01, 8.6509e-04, 8.6509e-04, 2.3516e-03],\n",
       "        [3.1685e-02, 2.3412e-01, 6.3641e-01, 8.6129e-02, 1.1656e-02]])"
      ]
     },
     "execution_count": null,
     "metadata": {},
     "output_type": "execute_result"
    }
   ],
   "source": [
    "F.softmax(logits, dim=-1)"
   ]
  },
  {
   "cell_type": "code",
   "execution_count": null,
   "metadata": {},
   "outputs": [
    {
     "data": {
      "text/plain": [
       "tensor([[1., 0., 0., 0., 0.],\n",
       "        [0., 1., 0., 0., 0.],\n",
       "        [0., 0., 0., 1., 0.]])"
      ]
     },
     "execution_count": null,
     "metadata": {},
     "output_type": "execute_result"
    }
   ],
   "source": [
    "y_ohe"
   ]
  },
  {
   "cell_type": "code",
   "execution_count": null,
   "metadata": {},
   "outputs": [
    {
     "name": "stdout",
     "output_type": "stream",
     "text": [
      "none tensor([0.1509, 0.1026, 1.8277])\n",
      "sum tensor(2.0812)\n",
      "mean tensor(0.6937)\n"
     ]
    }
   ],
   "source": [
    "for mode in modes:\n",
    "    j = classification_mae_with_logits(logits, y_ohe, mode)\n",
    "    print(mode, j) "
   ]
  }
 ],
 "metadata": {
  "kernelspec": {
   "display_name": "Python 3",
   "language": "python",
   "name": "python3"
  }
 },
 "nbformat": 4,
 "nbformat_minor": 4
}
