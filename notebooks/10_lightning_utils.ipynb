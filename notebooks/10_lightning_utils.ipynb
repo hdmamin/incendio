{
 "cells": [
  {
   "cell_type": "code",
   "execution_count": 1,
   "metadata": {
    "ExecuteTime": {
     "end_time": "2021-08-09T00:38:12.275514Z",
     "start_time": "2021-08-09T00:38:12.250226Z"
    }
   },
   "outputs": [],
   "source": [
    "# default_exp lightning_utils"
   ]
  },
  {
   "cell_type": "markdown",
   "metadata": {},
   "source": [
    "# Lightning Utils\n",
    "\n",
    "> Wrappers and helpers for interacting with pytorch_lightning and torchmetrics."
   ]
  },
  {
   "cell_type": "code",
   "execution_count": 2,
   "metadata": {
    "ExecuteTime": {
     "end_time": "2021-08-09T00:38:24.482667Z",
     "start_time": "2021-08-09T00:38:24.083132Z"
    }
   },
   "outputs": [],
   "source": [
    "#hide\n",
    "from nbdev.showdoc import *"
   ]
  },
  {
   "cell_type": "code",
   "execution_count": 3,
   "metadata": {
    "ExecuteTime": {
     "end_time": "2021-08-09T00:38:25.428037Z",
     "start_time": "2021-08-09T00:38:24.961644Z"
    }
   },
   "outputs": [
    {
     "name": "stdout",
     "output_type": "stream",
     "text": [
      "The autoreload extension is already loaded. To reload it, use:\n",
      "  %reload_ext autoreload\n"
     ]
    }
   ],
   "source": [
    "%load_ext autoreload\n",
    "%autoreload 2\n",
    "%matplotlib inline"
   ]
  },
  {
   "cell_type": "code",
   "execution_count": 5,
   "metadata": {
    "ExecuteTime": {
     "end_time": "2021-08-09T00:40:48.491734Z",
     "start_time": "2021-08-09T00:40:45.981626Z"
    }
   },
   "outputs": [],
   "source": [
    "# export\n",
    "import numpy as np\n",
    "import torch\n",
    "from torchmetrics import Metric\n",
    "\n",
    "from htools import auto_repr, valuecheck\n",
    "from incendio.utils import pool_stds"
   ]
  },
  {
   "cell_type": "code",
   "execution_count": 7,
   "metadata": {
    "ExecuteTime": {
     "end_time": "2021-08-09T00:42:10.653708Z",
     "start_time": "2021-08-09T00:42:10.573201Z"
    }
   },
   "outputs": [],
   "source": [
    "# export\n",
    "class PredictionStd(Metric):\n",
    "    \"\"\"Pytorch lightning metric that computes the standard deviation of soft \n",
    "    predictions over the course of an epoch. This can be helpful when \n",
    "    troubleshooting: I've often encountered models that output a very narrow \n",
    "    range of values, either early in training or as the result of some sort \n",
    "    of bug. This can be used for regression (raw outputs) or classification \n",
    "    (logits or final soft predictions).\n",
    "    \"\"\"\n",
    "    \n",
    "    def __init__(self, dist_sync_on_step=False):\n",
    "        super().__init__(dist_sync_on_step=dist_sync_on_step)\n",
    "        self.add_state('batch_sizes', default=[], dist_reduce_fx='cat')\n",
    "        self.add_state('stds', default=[], dist_reduce_fx='cat')\n",
    "        self.add_state('means', default=[], dist_reduce_fx='cat')\n",
    "        \n",
    "    def update(self, preds, target):\n",
    "        assert preds.shape == target.shape, 'Preds and target should be the '\\\n",
    "            ' same shape.'\n",
    "        assert preds.ndim == 1 or (preds.ndim == 2 and preds.shape[1] == 1)\n",
    "\n",
    "        n_unique = torch.unique(preds, sorted=True).shape[0]\n",
    "        if n_unique <= 2:\n",
    "            warnings.warn(f'Only {n_unique} unique values in preds. Are you '\n",
    "                          'sure you\\'re not passing in hard predictions from '\n",
    "                          'a classifier?')\n",
    "        \n",
    "        self.batch_sizes.append(preds.shape[0])\n",
    "        self.stds.append(preds.std())\n",
    "        self.means.append(preds.mean())\n",
    "        \n",
    "    def compute(self):\n",
    "        return pool_stds(self.batch_sizes, self.means, self.stds)"
   ]
  }
 ],
 "metadata": {
  "kernelspec": {
   "display_name": "Python 3",
   "language": "python",
   "name": "python3"
  },
  "language_info": {
   "codemirror_mode": {
    "name": "ipython",
    "version": 3
   },
   "file_extension": ".py",
   "mimetype": "text/x-python",
   "name": "python",
   "nbconvert_exporter": "python",
   "pygments_lexer": "ipython3",
   "version": "3.7.3"
  }
 },
 "nbformat": 4,
 "nbformat_minor": 4
}
