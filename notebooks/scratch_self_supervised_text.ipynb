{
 "cells": [
  {
   "cell_type": "code",
   "execution_count": null,
   "metadata": {},
   "outputs": [],
   "source": [
    "#hide\n",
    "from nbdev.showdoc import *"
   ]
  },
  {
   "cell_type": "code",
   "execution_count": null,
   "metadata": {},
   "outputs": [],
   "source": [
    "%load_ext autoreload\n",
    "%autoreload 2\n",
    "%matplotlib inline"
   ]
  },
  {
   "cell_type": "code",
   "execution_count": null,
   "metadata": {},
   "outputs": [],
   "source": [
    "import numpy as np\n",
    "import torch\n",
    "import torch.nn as nn\n",
    "import torch.nn.functional as F\n",
    "from torch.utils.data import Dataset, DataLoader\n",
    "\n",
    "from htools import add_docstring"
   ]
  },
  {
   "cell_type": "code",
   "execution_count": null,
   "metadata": {},
   "outputs": [],
   "source": [
    "# Used in notebook but not needed in package.\n",
    "from collections import defaultdict\n",
    "import matplotlib.pyplot as plt\n",
    "import pandas as pd\n",
    "from pathlib import Path\n",
    "import spacy\n",
    "\n",
    "from htools import assert_raises, InvalidArgumentError\n",
    "import pandas_htools"
   ]
  },
  {
   "cell_type": "code",
   "execution_count": null,
   "metadata": {},
   "outputs": [],
   "source": [
    "FPATH = Path('../data/warbreaker.txt')"
   ]
  },
  {
   "cell_type": "code",
   "execution_count": null,
   "metadata": {},
   "outputs": [
    {
     "data": {
      "text/plain": [
       "18509"
      ]
     },
     "execution_count": null,
     "metadata": {},
     "output_type": "execute_result"
    }
   ],
   "source": [
    "with open(FPATH, 'r') as f:\n",
    "    text = f.read()\n",
    "len(text)"
   ]
  },
  {
   "cell_type": "code",
   "execution_count": null,
   "metadata": {},
   "outputs": [
    {
     "data": {
      "text/plain": [
       "18509"
      ]
     },
     "execution_count": null,
     "metadata": {},
     "output_type": "execute_result"
    }
   ],
   "source": [
    "len(text)"
   ]
  },
  {
   "cell_type": "code",
   "execution_count": null,
   "metadata": {},
   "outputs": [
    {
     "name": "stdout",
     "output_type": "stream",
     "text": [
      "{'\\n': 0, ' ': 1, ',': 2, '-': 3, '.': 4, ':': 5, ';': 6, '?': 7, 'a': 8, 'b': 9, 'c': 10, 'd': 11, 'e': 12, 'f': 13, 'g': 14, 'h': 15, 'i': 16, 'j': 17, 'k': 18, 'l': 19, 'm': 20, 'n': 21, 'o': 22, 'p': 23, 'q': 24, 'r': 25, 's': 26, 't': 27, 'u': 28, 'v': 29, 'w': 30, 'x': 31, 'y': 32, 'z': 33, '—': 34, '’': 35, '“': 36, '”': 37}\n",
      "['\\n', ' ', ',', '-', '.', ':', ';', '?', 'a', 'b', 'c', 'd', 'e', 'f', 'g', 'h', 'i', 'j', 'k', 'l', 'm', 'n', 'o', 'p', 'q', 'r', 's', 't', 'u', 'v', 'w', 'x', 'y', 'z', '—', '’', '“', '”']\n"
     ]
    }
   ],
   "source": [
    "c2i = {k: i for i, k in enumerate(sorted(set(text.lower())))}\n",
    "i2c = list(c2i.keys())\n",
    "print(c2i)\n",
    "print(i2c)"
   ]
  },
  {
   "cell_type": "code",
   "execution_count": null,
   "metadata": {},
   "outputs": [],
   "source": [
    "nlp = spacy.load('en_core_web_sm', disable=['ner', 'tagger', 'parser'])"
   ]
  },
  {
   "cell_type": "code",
   "execution_count": null,
   "metadata": {},
   "outputs": [],
   "source": [
    "def tokenize_one(text):\n",
    "    return [t.text for t in nlp(text)]"
   ]
  },
  {
   "cell_type": "code",
   "execution_count": null,
   "metadata": {},
   "outputs": [],
   "source": [
    "def tokenize(texts):\n",
    "    with multiprocessing.Pool() as p:\n",
    "        tokens = p.map(tokenize_one, texts)\n",
    "    return tokens"
   ]
  },
  {
   "cell_type": "code",
   "execution_count": null,
   "metadata": {},
   "outputs": [],
   "source": [
    "tokens = tokenize_one(text)"
   ]
  },
  {
   "cell_type": "code",
   "execution_count": null,
   "metadata": {},
   "outputs": [
    {
     "data": {
      "text/plain": [
       "4103"
      ]
     },
     "execution_count": null,
     "metadata": {},
     "output_type": "execute_result"
    }
   ],
   "source": [
    "len(tokens)"
   ]
  },
  {
   "cell_type": "markdown",
   "metadata": {},
   "source": [
    "## Issues\n",
    "\n",
    "- currently assuming all words len >= 4\n",
    "- haven't used any padding, so inputs are all different lengths\n",
    "- haven't used padding, so outputs are all different lengths\n",
    "- character encode? word encode? figure out how to handle"
   ]
  },
  {
   "cell_type": "code",
   "execution_count": null,
   "metadata": {},
   "outputs": [],
   "source": [
    "class CharJumbleDS(Dataset):\n",
    "    \n",
    "    def __init__(self, tokens, c2i, window=3):\n",
    "        # TO DO: For now, start by assuming all words have len >= 4. Fix later.\n",
    "        self.tokens = [t for t in tokens if len(t) >= 4]\n",
    "        self.c2i = c2i\n",
    "        self.i2c = list(c2i.keys())\n",
    "        self.window = window\n",
    "        self.mid_i = window // 2\n",
    "        \n",
    "    def __getitem__(self, idx):\n",
    "        chunk = self.tokens[idx:idx+self.window]\n",
    "        label = self.encode(' '.join(chunk))   # Only needed for seq2seq approach in v3\n",
    "        mid = chunk[self.mid_i]\n",
    "        mid_len = len(mid)\n",
    "        order = np.random.permutation(mid_len - 2) + 1\n",
    "        chunk[self.mid_i] = mid[0]  + ''.join(mid[i] for i in order) + mid[-1]\n",
    "        # This version returns the order that was used to permute the original indices.\n",
    "        # Maybe less intuitive but simpler - can always do the conversion in some \n",
    "        # prediction wrapper that doesn't add computation during training.\n",
    "#         return chunk, [0] + list(order) + [mid_len-1]\n",
    "\n",
    "        # This version returns the order to map from the permuted indices to the original \n",
    "        # indices. Intuitive but adds computation and hard-to-read logic.\n",
    "#         return (chunk, \n",
    "#                 [0] \n",
    "#               + [k for k, v in sorted(dict(enumerate(order, 1)).items(),key=lambda x: x[1])] \n",
    "#               + [mid_len-1])\n",
    "\n",
    "        # V3: just return whole seq of char indices as input and output.\n",
    "        # Prob more computationally expensive (seq2seq vs multiclass classification)\n",
    "        return self.encode(' '.join(chunk)), label\n",
    "    \n",
    "    def encode(self, word_str):\n",
    "        return [self.c2i[char] for char in word_str.lower()]\n",
    "    \n",
    "    def decode(self, idx):\n",
    "        return ''.join(self.i2c[i] for i in idx)\n",
    "        \n",
    "    def __len__(self):\n",
    "        return len(self.tokens)\n",
    "    \n",
    "    def __repr__(self):\n",
    "        return f'CharJumbleDS(len={len(self)})'"
   ]
  },
  {
   "cell_type": "code",
   "execution_count": null,
   "metadata": {},
   "outputs": [
    {
     "data": {
      "text/plain": [
       "CharJumbleDS(len=1953)"
      ]
     },
     "execution_count": null,
     "metadata": {},
     "output_type": "execute_result"
    }
   ],
   "source": [
    "ds = CharJumbleDS(tokens, c2i, 4)\n",
    "ds"
   ]
  },
  {
   "cell_type": "code",
   "execution_count": null,
   "metadata": {},
   "outputs": [
    {
     "name": "stdout",
     "output_type": "stream",
     "text": [
      "[13, 28, 21, 21, 32, 1, 29, 8, 26, 15, 12, 25, 1, 27, 22, 14, 28, 15, 15, 27, 1, 20, 8, 21, 32]\n",
      "[13, 28, 21, 21, 32, 1, 29, 8, 26, 15, 12, 25, 1, 27, 15, 22, 28, 14, 15, 27, 1, 20, 8, 21, 32]\n",
      "funny vasher toguhht many\n",
      "funny vasher thought many\n",
      "\n",
      "[29, 8, 26, 15, 12, 25, 1, 27, 15, 22, 28, 14, 15, 27, 1, 20, 8, 21, 32, 1, 27, 15, 16, 21, 14, 26]\n",
      "[29, 8, 26, 15, 12, 25, 1, 27, 15, 22, 28, 14, 15, 27, 1, 20, 8, 21, 32, 1, 27, 15, 16, 21, 14, 26]\n",
      "vasher thought many things\n",
      "vasher thought many things\n",
      "\n",
      "[27, 15, 22, 28, 14, 15, 27, 1, 20, 8, 21, 32, 1, 27, 16, 14, 15, 21, 26, 1, 9, 12, 14, 16, 21]\n",
      "[27, 15, 22, 28, 14, 15, 27, 1, 20, 8, 21, 32, 1, 27, 15, 16, 21, 14, 26, 1, 9, 12, 14, 16, 21]\n",
      "thought many tighns begin\n",
      "thought many things begin\n",
      "\n",
      "[20, 8, 21, 32, 1, 27, 15, 16, 21, 14, 26, 1, 9, 16, 14, 12, 21, 1, 30, 16, 27, 15]\n",
      "[20, 8, 21, 32, 1, 27, 15, 16, 21, 14, 26, 1, 9, 12, 14, 16, 21, 1, 30, 16, 27, 15]\n",
      "many things bigen with\n",
      "many things begin with\n",
      "\n",
      "[27, 15, 16, 21, 14, 26, 1, 9, 12, 14, 16, 21, 1, 30, 16, 27, 15, 1, 14, 12, 27, 27, 16, 21, 14]\n",
      "[27, 15, 16, 21, 14, 26, 1, 9, 12, 14, 16, 21, 1, 30, 16, 27, 15, 1, 14, 12, 27, 27, 16, 21, 14]\n",
      "things begin with getting\n",
      "things begin with getting\n",
      "\n",
      "[9, 12, 14, 16, 21, 1, 30, 16, 27, 15, 1, 14, 16, 27, 12, 27, 21, 14, 1, 27, 15, 25, 22, 30, 21]\n",
      "[9, 12, 14, 16, 21, 1, 30, 16, 27, 15, 1, 14, 12, 27, 27, 16, 21, 14, 1, 27, 15, 25, 22, 30, 21]\n",
      "begin with gitetng thrown\n",
      "begin with getting thrown\n",
      "\n",
      "[30, 16, 27, 15, 1, 14, 12, 27, 27, 16, 21, 14, 1, 27, 22, 15, 25, 30, 21, 1, 16, 21, 27, 22]\n",
      "[30, 16, 27, 15, 1, 14, 12, 27, 27, 16, 21, 14, 1, 27, 15, 25, 22, 30, 21, 1, 16, 21, 27, 22]\n",
      "with getting tohrwn into\n",
      "with getting thrown into\n",
      "\n",
      "[14, 12, 27, 27, 16, 21, 14, 1, 27, 15, 25, 22, 30, 21, 1, 16, 27, 21, 22, 1, 23, 25, 16, 26, 22, 21]\n",
      "[14, 12, 27, 27, 16, 21, 14, 1, 27, 15, 25, 22, 30, 21, 1, 16, 21, 27, 22, 1, 23, 25, 16, 26, 22, 21]\n",
      "getting thrown itno prison\n",
      "getting thrown into prison\n",
      "\n",
      "[27, 15, 25, 22, 30, 21, 1, 16, 21, 27, 22, 1, 23, 26, 22, 25, 16, 21, 1, 14, 28, 8, 25, 11, 26]\n",
      "[27, 15, 25, 22, 30, 21, 1, 16, 21, 27, 22, 1, 23, 25, 16, 26, 22, 21, 1, 14, 28, 8, 25, 11, 26]\n",
      "thrown into psorin guards\n",
      "thrown into prison guards\n",
      "\n",
      "[16, 21, 27, 22, 1, 23, 25, 16, 26, 22, 21, 1, 14, 25, 28, 11, 8, 26, 1, 19, 8, 28, 14, 15, 12, 11]\n",
      "[16, 21, 27, 22, 1, 23, 25, 16, 26, 22, 21, 1, 14, 28, 8, 25, 11, 26, 1, 19, 8, 28, 14, 15, 12, 11]\n",
      "into prison grudas laughed\n",
      "into prison guards laughed\n",
      "\n",
      "[23, 25, 16, 26, 22, 21, 1, 14, 28, 8, 25, 11, 26, 1, 19, 15, 14, 8, 28, 12, 11, 1, 8, 21, 22, 27, 15, 12, 25]\n",
      "[23, 25, 16, 26, 22, 21, 1, 14, 28, 8, 25, 11, 26, 1, 19, 8, 28, 14, 15, 12, 11, 1, 8, 21, 22, 27, 15, 12, 25]\n",
      "prison guards lhgaued another\n",
      "prison guards laughed another\n",
      "\n",
      "[14, 28, 8, 25, 11, 26, 1, 19, 8, 28, 14, 15, 12, 11, 1, 8, 12, 22, 27, 21, 15, 25, 1, 26, 19, 8, 20, 20, 16, 21, 14]\n",
      "[14, 28, 8, 25, 11, 26, 1, 19, 8, 28, 14, 15, 12, 11, 1, 8, 21, 22, 27, 15, 12, 25, 1, 26, 19, 8, 20, 20, 16, 21, 14]\n",
      "guards laughed aeotnhr slamming\n",
      "guards laughed another slamming\n",
      "\n",
      "[19, 8, 28, 14, 15, 12, 11, 1, 8, 21, 22, 27, 15, 12, 25, 1, 26, 20, 19, 8, 21, 20, 16, 14, 1, 10, 12, 19, 19]\n",
      "[19, 8, 28, 14, 15, 12, 11, 1, 8, 21, 22, 27, 15, 12, 25, 1, 26, 19, 8, 20, 20, 16, 21, 14, 1, 10, 12, 19, 19]\n",
      "laughed another smlanmig cell\n",
      "laughed another slamming cell\n",
      "\n",
      "[8, 21, 22, 27, 15, 12, 25, 1, 26, 19, 8, 20, 20, 16, 21, 14, 1, 10, 12, 19, 19, 1, 11, 22, 22, 25]\n",
      "[8, 21, 22, 27, 15, 12, 25, 1, 26, 19, 8, 20, 20, 16, 21, 14, 1, 10, 12, 19, 19, 1, 11, 22, 22, 25]\n",
      "another slamming cell door\n",
      "another slamming cell door\n",
      "\n",
      "[26, 19, 8, 20, 20, 16, 21, 14, 1, 10, 12, 19, 19, 1, 11, 22, 22, 25, 1, 26, 15, 28, 27]\n",
      "[26, 19, 8, 20, 20, 16, 21, 14, 1, 10, 12, 19, 19, 1, 11, 22, 22, 25, 1, 26, 15, 28, 27]\n",
      "slamming cell door shut\n",
      "slamming cell door shut\n",
      "\n",
      "[10, 12, 19, 19, 1, 11, 22, 22, 25, 1, 26, 15, 28, 27, 1, 30, 16, 27, 15]\n",
      "[10, 12, 19, 19, 1, 11, 22, 22, 25, 1, 26, 15, 28, 27, 1, 30, 16, 27, 15]\n",
      "cell door shut with\n",
      "cell door shut with\n",
      "\n",
      "[11, 22, 22, 25, 1, 26, 15, 28, 27, 1, 30, 16, 27, 15, 1, 10, 19, 8, 21, 14]\n",
      "[11, 22, 22, 25, 1, 26, 15, 28, 27, 1, 30, 16, 27, 15, 1, 10, 19, 8, 21, 14]\n",
      "door shut with clang\n",
      "door shut with clang\n",
      "\n",
      "[26, 15, 28, 27, 1, 30, 16, 27, 15, 1, 10, 8, 21, 19, 14, 1, 29, 8, 26, 15, 12, 25]\n",
      "[26, 15, 28, 27, 1, 30, 16, 27, 15, 1, 10, 19, 8, 21, 14, 1, 29, 8, 26, 15, 12, 25]\n",
      "shut with canlg vasher\n",
      "shut with clang vasher\n",
      "\n",
      "[30, 16, 27, 15, 1, 10, 19, 8, 21, 14, 1, 29, 15, 8, 26, 12, 25, 1, 26, 27, 22, 22, 11]\n",
      "[30, 16, 27, 15, 1, 10, 19, 8, 21, 14, 1, 29, 8, 26, 15, 12, 25, 1, 26, 27, 22, 22, 11]\n",
      "with clang vhaser stood\n",
      "with clang vasher stood\n",
      "\n",
      "[10, 19, 8, 21, 14, 1, 29, 8, 26, 15, 12, 25, 1, 26, 22, 27, 22, 11, 1, 11, 28, 26, 27, 12, 11]\n",
      "[10, 19, 8, 21, 14, 1, 29, 8, 26, 15, 12, 25, 1, 26, 27, 22, 22, 11, 1, 11, 28, 26, 27, 12, 11]\n",
      "clang vasher sotod dusted\n",
      "clang vasher stood dusted\n",
      "\n",
      "[29, 8, 26, 15, 12, 25, 1, 26, 27, 22, 22, 11, 1, 11, 12, 28, 27, 26, 11, 1, 15, 16, 20, 26, 12, 19, 13]\n",
      "[29, 8, 26, 15, 12, 25, 1, 26, 27, 22, 22, 11, 1, 11, 28, 26, 27, 12, 11, 1, 15, 16, 20, 26, 12, 19, 13]\n",
      "vasher stood deutsd himself\n",
      "vasher stood dusted himself\n",
      "\n",
      "[26, 27, 22, 22, 11, 1, 11, 28, 26, 27, 12, 11, 1, 15, 16, 19, 20, 26, 12, 13, 1, 25, 22, 19, 19, 16, 21, 14]\n",
      "[26, 27, 22, 22, 11, 1, 11, 28, 26, 27, 12, 11, 1, 15, 16, 20, 26, 12, 19, 13, 1, 25, 22, 19, 19, 16, 21, 14]\n",
      "stood dusted hilmsef rolling\n",
      "stood dusted himself rolling\n",
      "\n",
      "[11, 28, 26, 27, 12, 11, 1, 15, 16, 20, 26, 12, 19, 13, 1, 25, 19, 16, 21, 19, 22, 14, 1, 26, 15, 22, 28, 19, 11, 12, 25]\n",
      "[11, 28, 26, 27, 12, 11, 1, 15, 16, 20, 26, 12, 19, 13, 1, 25, 22, 19, 19, 16, 21, 14, 1, 26, 15, 22, 28, 19, 11, 12, 25]\n",
      "dusted himself rlinlog shoulder\n",
      "dusted himself rolling shoulder\n",
      "\n",
      "[15, 16, 20, 26, 12, 19, 13, 1, 25, 22, 19, 19, 16, 21, 14, 1, 26, 12, 19, 15, 22, 11, 28, 25, 1, 30, 16, 21, 10, 16, 21, 14]\n",
      "[15, 16, 20, 26, 12, 19, 13, 1, 25, 22, 19, 19, 16, 21, 14, 1, 26, 15, 22, 28, 19, 11, 12, 25, 1, 30, 16, 21, 10, 16, 21, 14]\n",
      "himself rolling selhodur wincing\n",
      "himself rolling shoulder wincing\n",
      "\n",
      "[25, 22, 19, 19, 16, 21, 14, 1, 26, 15, 22, 28, 19, 11, 12, 25, 1, 30, 16, 21, 21, 10, 16, 14, 1, 30, 15, 16, 19, 12]\n",
      "[25, 22, 19, 19, 16, 21, 14, 1, 26, 15, 22, 28, 19, 11, 12, 25, 1, 30, 16, 21, 10, 16, 21, 14, 1, 30, 15, 16, 19, 12]\n",
      "rolling shoulder winncig while\n",
      "rolling shoulder wincing while\n",
      "\n",
      "[26, 15, 22, 28, 19, 11, 12, 25, 1, 30, 16, 21, 10, 16, 21, 14, 1, 30, 16, 15, 19, 12, 1, 9, 22, 27, 27, 22, 20]\n",
      "[26, 15, 22, 28, 19, 11, 12, 25, 1, 30, 16, 21, 10, 16, 21, 14, 1, 30, 15, 16, 19, 12, 1, 9, 22, 27, 27, 22, 20]\n",
      "shoulder wincing wihle bottom\n",
      "shoulder wincing while bottom\n",
      "\n",
      "[30, 16, 21, 10, 16, 21, 14, 1, 30, 15, 16, 19, 12, 1, 9, 27, 22, 27, 22, 20, 1, 15, 8, 19, 13]\n",
      "[30, 16, 21, 10, 16, 21, 14, 1, 30, 15, 16, 19, 12, 1, 9, 22, 27, 27, 22, 20, 1, 15, 8, 19, 13]\n",
      "wincing while btotom half\n",
      "wincing while bottom half\n",
      "\n",
      "[30, 15, 16, 19, 12, 1, 9, 22, 27, 27, 22, 20, 1, 15, 19, 8, 13, 1, 10, 12, 19, 19]\n",
      "[30, 15, 16, 19, 12, 1, 9, 22, 27, 27, 22, 20, 1, 15, 8, 19, 13, 1, 10, 12, 19, 19]\n",
      "while bottom hlaf cell\n",
      "while bottom half cell\n",
      "\n",
      "[9, 22, 27, 27, 22, 20, 1, 15, 8, 19, 13, 1, 10, 12, 19, 19, 1, 11, 22, 22, 25]\n",
      "[9, 22, 27, 27, 22, 20, 1, 15, 8, 19, 13, 1, 10, 12, 19, 19, 1, 11, 22, 22, 25]\n",
      "bottom half cell door\n",
      "bottom half cell door\n",
      "\n",
      "[15, 8, 19, 13, 1, 10, 12, 19, 19, 1, 11, 22, 22, 25, 1, 26, 22, 19, 16, 11]\n",
      "[15, 8, 19, 13, 1, 10, 12, 19, 19, 1, 11, 22, 22, 25, 1, 26, 22, 19, 16, 11]\n",
      "half cell door solid\n",
      "half cell door solid\n",
      "\n",
      "[10, 12, 19, 19, 1, 11, 22, 22, 25, 1, 26, 19, 22, 16, 11, 1, 30, 22, 22, 11]\n",
      "[10, 12, 19, 19, 1, 11, 22, 22, 25, 1, 26, 22, 19, 16, 11, 1, 30, 22, 22, 11]\n",
      "cell door sloid wood\n",
      "cell door solid wood\n",
      "\n",
      "[11, 22, 22, 25, 1, 26, 22, 19, 16, 11, 1, 30, 22, 22, 11, 1, 15, 8, 19, 13]\n",
      "[11, 22, 22, 25, 1, 26, 22, 19, 16, 11, 1, 30, 22, 22, 11, 1, 15, 8, 19, 13]\n",
      "door solid wood half\n",
      "door solid wood half\n",
      "\n",
      "[26, 22, 19, 16, 11, 1, 30, 22, 22, 11, 1, 15, 8, 19, 13, 1, 9, 8, 25, 25, 12, 11]\n",
      "[26, 22, 19, 16, 11, 1, 30, 22, 22, 11, 1, 15, 8, 19, 13, 1, 9, 8, 25, 25, 12, 11]\n",
      "solid wood half barred\n",
      "solid wood half barred\n",
      "\n",
      "[30, 22, 22, 11, 1, 15, 8, 19, 13, 1, 9, 25, 25, 8, 12, 11, 1, 10, 22, 28, 19, 11]\n",
      "[30, 22, 22, 11, 1, 15, 8, 19, 13, 1, 9, 8, 25, 25, 12, 11, 1, 10, 22, 28, 19, 11]\n",
      "wood half brraed could\n",
      "wood half barred could\n",
      "\n",
      "[15, 8, 19, 13, 1, 9, 8, 25, 25, 12, 11, 1, 10, 28, 22, 19, 11, 1, 27, 15, 25, 12, 12]\n",
      "[15, 8, 19, 13, 1, 9, 8, 25, 25, 12, 11, 1, 10, 22, 28, 19, 11, 1, 27, 15, 25, 12, 12]\n",
      "half barred cuold three\n",
      "half barred could three\n",
      "\n",
      "[9, 8, 25, 25, 12, 11, 1, 10, 22, 28, 19, 11, 1, 27, 15, 12, 25, 12, 1, 14, 28, 8, 25, 11, 26]\n",
      "[9, 8, 25, 25, 12, 11, 1, 10, 22, 28, 19, 11, 1, 27, 15, 25, 12, 12, 1, 14, 28, 8, 25, 11, 26]\n",
      "barred could there guards\n",
      "barred could three guards\n",
      "\n",
      "[10, 22, 28, 19, 11, 1, 27, 15, 25, 12, 12, 1, 14, 25, 28, 8, 11, 26, 1, 22, 23, 12, 21]\n",
      "[10, 22, 28, 19, 11, 1, 27, 15, 25, 12, 12, 1, 14, 28, 8, 25, 11, 26, 1, 22, 23, 12, 21]\n",
      "could three gruads open\n",
      "could three guards open\n",
      "\n",
      "[27, 15, 25, 12, 12, 1, 14, 28, 8, 25, 11, 26, 1, 22, 23, 12, 21, 1, 19, 8, 25, 14, 12]\n",
      "[27, 15, 25, 12, 12, 1, 14, 28, 8, 25, 11, 26, 1, 22, 23, 12, 21, 1, 19, 8, 25, 14, 12]\n",
      "three guards open large\n",
      "three guards open large\n",
      "\n",
      "[14, 28, 8, 25, 11, 26, 1, 22, 23, 12, 21, 1, 19, 14, 8, 25, 12, 1, 11, 28, 13, 13, 12, 19]\n",
      "[14, 28, 8, 25, 11, 26, 1, 22, 23, 12, 21, 1, 19, 8, 25, 14, 12, 1, 11, 28, 13, 13, 12, 19]\n",
      "guards open lgare duffel\n",
      "guards open large duffel\n",
      "\n",
      "[22, 23, 12, 21, 1, 19, 8, 25, 14, 12, 1, 11, 12, 13, 13, 28, 19, 1, 25, 16, 13, 19, 12]\n",
      "[22, 23, 12, 21, 1, 19, 8, 25, 14, 12, 1, 11, 28, 13, 13, 12, 19, 1, 25, 16, 13, 19, 12]\n",
      "open large defful rifle\n",
      "open large duffel rifle\n",
      "\n",
      "[19, 8, 25, 14, 12, 1, 11, 28, 13, 13, 12, 19, 1, 25, 13, 16, 19, 12, 1, 27, 15, 25, 22, 28, 14, 15]\n",
      "[19, 8, 25, 14, 12, 1, 11, 28, 13, 13, 12, 19, 1, 25, 16, 13, 19, 12, 1, 27, 15, 25, 22, 28, 14, 15]\n",
      "large duffel rfile through\n",
      "large duffel rifle through\n",
      "\n",
      "[11, 28, 13, 13, 12, 19, 1, 25, 16, 13, 19, 12, 1, 27, 25, 14, 22, 15, 28, 15, 1, 23, 22, 26, 26, 12, 26, 26, 16, 22, 21, 26]\n",
      "[11, 28, 13, 13, 12, 19, 1, 25, 16, 13, 19, 12, 1, 27, 15, 25, 22, 28, 14, 15, 1, 23, 22, 26, 26, 12, 26, 26, 16, 22, 21, 26]\n",
      "duffel rifle trgohuh possessions\n",
      "duffel rifle through possessions\n",
      "\n",
      "[25, 16, 13, 19, 12, 1, 27, 15, 25, 22, 28, 14, 15, 1, 23, 22, 16, 12, 26, 26, 26, 26, 21, 22, 26, 1, 27, 15, 12, 20]\n",
      "[25, 16, 13, 19, 12, 1, 27, 15, 25, 22, 28, 14, 15, 1, 23, 22, 26, 26, 12, 26, 26, 16, 22, 21, 26, 1, 27, 15, 12, 20]\n",
      "rifle through poiessssnos them\n",
      "rifle through possessions them\n",
      "\n",
      "[27, 15, 25, 22, 28, 14, 15, 1, 23, 22, 26, 26, 12, 26, 26, 16, 22, 21, 26, 1, 27, 12, 15, 20, 1, 21, 22, 27, 16, 10, 12, 11]\n",
      "[27, 15, 25, 22, 28, 14, 15, 1, 23, 22, 26, 26, 12, 26, 26, 16, 22, 21, 26, 1, 27, 15, 12, 20, 1, 21, 22, 27, 16, 10, 12, 11]\n",
      "through possessions tehm noticed\n",
      "through possessions them noticed\n",
      "\n",
      "[23, 22, 26, 26, 12, 26, 26, 16, 22, 21, 26, 1, 27, 15, 12, 20, 1, 21, 27, 12, 16, 10, 22, 11, 1, 30, 8, 27, 10, 15, 16, 21, 14]\n",
      "[23, 22, 26, 26, 12, 26, 26, 16, 22, 21, 26, 1, 27, 15, 12, 20, 1, 21, 22, 27, 16, 10, 12, 11, 1, 30, 8, 27, 10, 15, 16, 21, 14]\n",
      "possessions them nteicod watching\n",
      "possessions them noticed watching\n",
      "\n",
      "[27, 15, 12, 20, 1, 21, 22, 27, 16, 10, 12, 11, 1, 30, 10, 21, 8, 16, 15, 27, 14, 1, 14, 28, 8, 25, 11]\n",
      "[27, 15, 12, 20, 1, 21, 22, 27, 16, 10, 12, 11, 1, 30, 8, 27, 10, 15, 16, 21, 14, 1, 14, 28, 8, 25, 11]\n",
      "them noticed wcnaihtg guard\n",
      "them noticed watching guard\n",
      "\n",
      "[21, 22, 27, 16, 10, 12, 11, 1, 30, 8, 27, 10, 15, 16, 21, 14, 1, 14, 28, 8, 25, 11, 1, 22, 29, 12, 25, 26, 16, 33, 12, 11]\n",
      "[21, 22, 27, 16, 10, 12, 11, 1, 30, 8, 27, 10, 15, 16, 21, 14, 1, 14, 28, 8, 25, 11, 1, 22, 29, 12, 25, 26, 16, 33, 12, 11]\n",
      "noticed watching guard oversized\n",
      "noticed watching guard oversized\n",
      "\n",
      "[30, 8, 27, 10, 15, 16, 21, 14, 1, 14, 28, 8, 25, 11, 1, 22, 26, 12, 12, 33, 16, 29, 25, 11, 1, 9, 12, 8, 26, 27]\n",
      "[30, 8, 27, 10, 15, 16, 21, 14, 1, 14, 28, 8, 25, 11, 1, 22, 29, 12, 25, 26, 16, 33, 12, 11, 1, 9, 12, 8, 26, 27]\n",
      "watching guard oseezivrd beast\n",
      "watching guard oversized beast\n",
      "\n",
      "[14, 28, 8, 25, 11, 1, 22, 29, 12, 25, 26, 16, 33, 12, 11, 1, 9, 8, 12, 26, 27, 1, 30, 16, 27, 15]\n",
      "[14, 28, 8, 25, 11, 1, 22, 29, 12, 25, 26, 16, 33, 12, 11, 1, 9, 12, 8, 26, 27, 1, 30, 16, 27, 15]\n",
      "guard oversized baest with\n",
      "guard oversized beast with\n",
      "\n",
      "[22, 29, 12, 25, 26, 16, 33, 12, 11, 1, 9, 12, 8, 26, 27, 1, 30, 16, 27, 15, 1, 26, 15, 8, 29, 12, 11]\n",
      "[22, 29, 12, 25, 26, 16, 33, 12, 11, 1, 9, 12, 8, 26, 27, 1, 30, 16, 27, 15, 1, 26, 15, 8, 29, 12, 11]\n",
      "oversized beast with shaved\n",
      "oversized beast with shaved\n",
      "\n"
     ]
    }
   ],
   "source": [
    "for i in range(50):\n",
    "    x, y = ds[i]\n",
    "    print(x)\n",
    "    print(y)\n",
    "    print(ds.decode(x))\n",
    "    print(ds.decode(y))\n",
    "    print()"
   ]
  }
 ],
 "metadata": {
  "kernelspec": {
   "display_name": "Python 3",
   "language": "python",
   "name": "python3"
  }
 },
 "nbformat": 4,
 "nbformat_minor": 4
}
