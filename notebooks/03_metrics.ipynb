{
 "cells": [
  {
   "cell_type": "code",
   "execution_count": null,
   "metadata": {},
   "outputs": [],
   "source": [
    "# default_exp metrics"
   ]
  },
  {
   "cell_type": "markdown",
   "metadata": {},
   "source": [
    "# Metrics\n",
    "\n",
    "> Metrics should follow the scikit-learn pattern of accepting two arguments: \n",
    "\n",
    "1. `y_true` (labels)\n",
    "2. either `y_pred` (hard predictions) or `y_score` (soft predictions)\n",
    "\n",
    "Matching the order and naming of these arguments is required. If additional \n",
    "arguments are necessary, they can be specified with the use of `functools.partial`."
   ]
  },
  {
   "cell_type": "code",
   "execution_count": null,
   "metadata": {},
   "outputs": [],
   "source": [
    "#hide\n",
    "from nbdev.showdoc import *"
   ]
  },
  {
   "cell_type": "code",
   "execution_count": null,
   "metadata": {},
   "outputs": [],
   "source": [
    "%load_ext autoreload\n",
    "%autoreload 2\n",
    "%matplotlib inline"
   ]
  },
  {
   "cell_type": "code",
   "execution_count": null,
   "metadata": {},
   "outputs": [],
   "source": [
    "# export\n",
    "def percent_positive(y_true, y_pred):\n",
    "    \"\"\"Compute the percent of predictions that are positive. This\n",
    "    can help us identify when a model is predicting all ones or zeros.\n",
    "    \"\"\"\n",
    "    return (y_pred == 1).float().mean()"
   ]
  },
  {
   "cell_type": "code",
   "execution_count": null,
   "metadata": {},
   "outputs": [],
   "source": [
    "# export\n",
    "def mean_soft_prediction(y_true, y_score):\n",
    "    \"\"\"Compute the mean predicted probability.\"\"\"\n",
    "    return y_score.mean()"
   ]
  },
  {
   "cell_type": "code",
   "execution_count": 1,
   "metadata": {
    "ExecuteTime": {
     "end_time": "2021-08-09T00:44:47.905861Z",
     "start_time": "2021-08-09T00:44:47.887291Z"
    }
   },
   "outputs": [],
   "source": [
    "# export\n",
    "def std_soft_prediction(y_true, y_score):\n",
    "    \"\"\"Compute the standard deviation of the predicted\n",
    "    probabilities. This helps us identify if the model is\n",
    "    always predicting roughly the same probability.\n",
    "    \n",
    "    Note: our standard aggregation method won't be strictly correct here\n",
    "    (aggregating standard deviations from multiple groups is more complex than\n",
    "    aggregating means) but it's usually not super important for this metric to\n",
    "    be precise: we typically just use it to debug a model that's been \n",
    "    outputting a particularly narrow range of values. incendio.lightning_utils\n",
    "    provides a torchmetric variant with the strictly correct computation.\n",
    "    \"\"\"\n",
    "    return y_score.std()"
   ]
  },
  {
   "cell_type": "code",
   "execution_count": null,
   "metadata": {},
   "outputs": [],
   "source": [
    "# export\n",
    "def batch_size(y_true, y_pred):\n",
    "    \"\"\"Count the number of items in the current batch.\"\"\"\n",
    "    return y_true.shape[0]"
   ]
  }
 ],
 "metadata": {
  "kernelspec": {
   "display_name": "Python 3",
   "language": "python",
   "name": "python3"
  },
  "language_info": {
   "codemirror_mode": {
    "name": "ipython",
    "version": 3
   },
   "file_extension": ".py",
   "mimetype": "text/x-python",
   "name": "python",
   "nbconvert_exporter": "python",
   "pygments_lexer": "ipython3",
   "version": "3.7.3"
  }
 },
 "nbformat": 4,
 "nbformat_minor": 4
}
